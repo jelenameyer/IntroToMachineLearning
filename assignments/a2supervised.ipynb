{
 "cells": [
  {
   "cell_type": "markdown",
   "metadata": {},
   "source": [
    "# Introduction to Machine Learning — 2024/2025 Supervised Learning\n",
    "\n",
    "In the following exercises the objective is to program algorithms that, given examples and\n",
    "an expected output, learn to mimic the behavior present in the data."
   ]
  },
  {
   "cell_type": "code",
   "execution_count": 19,
   "metadata": {},
   "outputs": [],
   "source": [
    "# load important packages\n",
    "\n",
    "import numpy as np\n",
    "import random\n"
   ]
  },
  {
   "cell_type": "markdown",
   "metadata": {},
   "source": [
    "### Exercise 1\n",
    "\n",
    "The “network” in Fig. 1 represents a perceptron with two inputs and an output that can also be described by the following equations:\n",
    "\n",
    "    o=f(s), s=w0 +w1 ·x1 +w2 ·x2 \n",
    "    f(s)=   1, if s>0.5 \n",
    "            0, if s≤0.5"
   ]
  },
  {
   "cell_type": "markdown",
   "metadata": {},
   "source": [
    "1. Choose one of the binary operations (AND or OR) and build two vectors: one with all the different input combinations of two bit patterns (4 vectors): where 0 stands for FALSE and 1 for TRUE ; and another vector containing the target / desired response, d, for each of the corresponding input vectors, as result of the chosen operation, namely: OR {0, 1, 1, 1} or AND {0, 0, 0, 1}."
   ]
  },
  {
   "cell_type": "code",
   "execution_count": 8,
   "metadata": {},
   "outputs": [
    {
     "data": {
      "text/plain": [
       "array([0, 0, 0, 1])"
      ]
     },
     "execution_count": 8,
     "metadata": {},
     "output_type": "execute_result"
    }
   ],
   "source": [
    "arrayBitPatterns = np.array(((0,0), (0,1), (1,0), (1,1)))\n",
    "\n",
    "arrayANDSolution = np.array((0,0,0,1))\n",
    "arrayORSolution = np.array((0,0,0,1))\n",
    "arrayORSolution"
   ]
  },
  {
   "cell_type": "markdown",
   "metadata": {},
   "source": [
    "2. Initialize w0, w1, and w2 to small random values and, for each input pattern, calculate the corresponding output, storing it in vector o."
   ]
  },
  {
   "cell_type": "code",
   "execution_count": 18,
   "metadata": {},
   "outputs": [
    {
     "data": {
      "text/plain": [
       "[0, 1, 1, 1]"
      ]
     },
     "execution_count": 18,
     "metadata": {},
     "output_type": "execute_result"
    }
   ],
   "source": [
    "def perceptron(w0, w1, w2, arrayBitPatterns):\n",
    "    listOutputPattern = []\n",
    "    for bitPair in arrayBitPatterns:\n",
    "        x1 = bitPair[0]\n",
    "        x2 = bitPair[1]\n",
    "        s = w0 + w1 * x1 + w2 * x2\n",
    "        if s > 0.5:\n",
    "            listOutputPattern.append(1)\n",
    "        if s <= 0.5:\n",
    "            listOutputPattern.append(0)\n",
    "    return(listOutputPattern)\n",
    "    \n",
    "\n",
    "w0 = 0\n",
    "w1 = 0.6\n",
    "w2 = 0.6\n",
    "\n",
    "\n",
    "o = perceptron(w0, w1, w2, arrayBitPatterns)\n",
    "o"
   ]
  },
  {
   "cell_type": "code",
   "execution_count": 23,
   "metadata": {},
   "outputs": [
    {
     "name": "stdout",
     "output_type": "stream",
     "text": [
      "['w0: 0.5961892235733828, w1: 0.5095425073852186, w2: 0.9935656499220124, output: [1, 1, 1, 1]', 'w0: 0.17120288893570323, w1: 0.8706774191556036, w2: 0.5901702417439306, output: [0, 1, 1, 1]', 'w0: 0.21902522504798594, w1: 0.5721405887241989, w2: 0.5223437394789888, output: [0, 1, 1, 1]', 'w0: 0.3470805644469771, w1: 0.560003147967493, w2: 0.04610508009169689, output: [0, 0, 1, 1]', 'w0: 0.9956185758538065, w1: 0.9757849505695453, w2: 0.5701929496850777, output: [1, 1, 1, 1]', 'w0: 0.8075512577332187, w1: 0.5402332497477583, w2: 0.37272439520396206, output: [1, 1, 1, 1]', 'w0: 0.4635326118228924, w1: 0.7101307444615468, w2: 0.7799245540420662, output: [0, 1, 1, 1]', 'w0: 0.41243497821568964, w1: 0.6939694889549689, w2: 0.21002104890372986, output: [0, 1, 1, 1]', 'w0: 0.9959531294297439, w1: 0.27887642167258697, w2: 0.4728048637021466, output: [1, 1, 1, 1]', 'w0: 0.5233557382797669, w1: 0.8247951369661223, w2: 0.9427888453356139, output: [1, 1, 1, 1]']\n"
     ]
    }
   ],
   "source": [
    "o = []\n",
    "for i in range(10):\n",
    "    w0 = random.random()\n",
    "    w1 = random.random()\n",
    "    w2 = random.random()\n",
    "\n",
    "    o.append(f\"w0: {w0}, w1: {w1}, w2: {w2}, output: {perceptron(w0, w1, w2, arrayBitPatterns)}\")\n",
    "\n",
    "print(o)\n"
   ]
  },
  {
   "cell_type": "markdown",
   "metadata": {},
   "source": [
    "### Exercise 2\n",
    "\n",
    "Implement a k-NN classifier that is specifically suited for the dataset in https://archive.ics.uci.edu/ml/datasets/iris.\n",
    "Given a dataset containing labelled examples (a training set) and a new example (extracted from the test set), the classifier should calculate the euclidean distance from the new example to all the elements of the training set, choose the k closest elements of the training set and output this example classification as the class of the majority of the k closest training set elements (the k-Nearest Neighbors)."
   ]
  },
  {
   "cell_type": "markdown",
   "metadata": {},
   "source": [
    "1. Split the dataset randomly in two subsets (70% / 30%). Use the bigger subset as the training set and the smaller as the test set. Run all test examples through the classifier and calculate the number of correct predictions over the total number of examples of the test set. Compare the scores of k-NN classifiers for k = 3, 7, and 11. Repeat 30 times, with different dataset splits, for each value of k. Use a boxplot with whiskers graphic to allow easy comparison.\n",
    "2. Plot the confusion matrix of one of the tests for each value of k.\n",
    "3. Considering the dataset presented in Fig. 3, why should k always be an odd number?"
   ]
  }
 ],
 "metadata": {
  "kernelspec": {
   "display_name": "base",
   "language": "python",
   "name": "python3"
  },
  "language_info": {
   "codemirror_mode": {
    "name": "ipython",
    "version": 3
   },
   "file_extension": ".py",
   "mimetype": "text/x-python",
   "name": "python",
   "nbconvert_exporter": "python",
   "pygments_lexer": "ipython3",
   "version": "3.11.5"
  }
 },
 "nbformat": 4,
 "nbformat_minor": 2
}
