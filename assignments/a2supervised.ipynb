{
 "cells": [
  {
   "cell_type": "markdown",
   "metadata": {},
   "source": [
    "# Introduction to Machine Learning — 2024/2025 Supervised Learning\n",
    "\n",
    "In the following exercises the objective is to program algorithms that, given examples and\n",
    "an expected output, learn to mimic the behavior present in the data."
   ]
  },
  {
   "cell_type": "code",
   "execution_count": 395,
   "metadata": {},
   "outputs": [],
   "source": [
    "# load important packages\n",
    "\n",
    "import numpy as np\n",
    "import random\n",
    "from sklearn.model_selection import train_test_split\n",
    "import pandas as pd\n",
    "import matplotlib.pyplot as plt\n",
    "from numpy import genfromtxt\n",
    "from tabulate import tabulate\n"
   ]
  },
  {
   "cell_type": "markdown",
   "metadata": {},
   "source": [
    "### Exercise 1\n",
    "\n",
    "The “network” in Fig. 1 represents a perceptron with two inputs and an output that can also be described by the following equations:\n",
    "\n",
    "    o=f(s), s=w0 +w1 ·x1 +w2 ·x2 \n",
    "    f(s)=   1, if s>0.5 \n",
    "            0, if s≤0.5"
   ]
  },
  {
   "cell_type": "markdown",
   "metadata": {},
   "source": [
    "1. Choose one of the binary operations (AND or OR) and build two vectors: one with all the different input combinations of two bit patterns (4 vectors): where 0 stands for FALSE and 1 for TRUE ; and another vector containing the target / desired response, d, for each of the corresponding input vectors, as result of the chosen operation, namely: OR {0, 1, 1, 1} or AND {0, 0, 0, 1}."
   ]
  },
  {
   "cell_type": "code",
   "execution_count": 336,
   "metadata": {},
   "outputs": [
    {
     "name": "stdout",
     "output_type": "stream",
     "text": [
      "[[0 0]\n",
      " [0 1]\n",
      " [1 0]\n",
      " [1 1]]\n",
      "[0 0 0 1]\n",
      "[0 1 1 1]\n"
     ]
    }
   ],
   "source": [
    "arrayBitPatterns = np.array(((0,0), (0,1), (1,0), (1,1)))\n",
    "\n",
    "arrayANDSolution = np.array((0,0,0,1))\n",
    "arrayORSolution = np.array((0,1,1,1))\n",
    "print(arrayBitPatterns)\n",
    "print(arrayANDSolution)\n",
    "print(arrayORSolution)"
   ]
  },
  {
   "cell_type": "markdown",
   "metadata": {},
   "source": [
    "2. Initialize w0, w1, and w2 to small random values and, for each input pattern, calculate the corresponding output, storing it in vector o."
   ]
  },
  {
   "cell_type": "code",
   "execution_count": 337,
   "metadata": {},
   "outputs": [
    {
     "data": {
      "text/plain": [
       "[0, 0, 0, 0]"
      ]
     },
     "execution_count": 337,
     "metadata": {},
     "output_type": "execute_result"
    }
   ],
   "source": [
    "def perceptron(w0, w1, w2, arrayBitPatterns):\n",
    "    listOutputPattern = []\n",
    "    for bitPair in arrayBitPatterns:\n",
    "        x1 = bitPair[0]\n",
    "        x2 = bitPair[1]\n",
    "        s = w0 + w1 * x1 + w2 * x2\n",
    "        if s > 0.5:\n",
    "            listOutputPattern.append(1)\n",
    "        if s <= 0.5:\n",
    "            listOutputPattern.append(0)\n",
    "    return(listOutputPattern)\n",
    "    \n",
    "\n",
    "w0 = 0\n",
    "w1 = 0.2\n",
    "w2 = 0.2\n",
    "\n",
    "\n",
    "o = perceptron(w0, w1, w2, arrayBitPatterns)\n",
    "o"
   ]
  },
  {
   "cell_type": "code",
   "execution_count": 338,
   "metadata": {},
   "outputs": [],
   "source": [
    "# oUnderstandable = []\n",
    "# o = []\n",
    "# for i in range(10):\n",
    "#     w0 = round(random.random(), 2)\n",
    "#     w1 = round(random.random(),2)\n",
    "#     w2 = round(random.random(), 2)\n",
    "\n",
    "#     oUnderstandable.append(f\"w0: {w0}, w1: {w1}, w2: {w2}, output: {perceptron(w0, w1, w2, arrayBitPatterns)}\")\n",
    "#     o.append(perceptron(w0, w1, w2, arrayBitPatterns))\n",
    "\n",
    "# print(oUnderstandable)\n",
    "# print(o)\n"
   ]
  },
  {
   "cell_type": "markdown",
   "metadata": {},
   "source": [
    "3. Calculate the difference / error (e = d − o) between the desired response (d) and the output (o), for each output."
   ]
  },
  {
   "cell_type": "code",
   "execution_count": 339,
   "metadata": {},
   "outputs": [
    {
     "data": {
      "text/plain": [
       "array([0, 0, 0, 1])"
      ]
     },
     "execution_count": 339,
     "metadata": {},
     "output_type": "execute_result"
    }
   ],
   "source": [
    "d = arrayANDSolution\n",
    "e = d - o \n",
    "e"
   ]
  },
  {
   "cell_type": "code",
   "execution_count": 340,
   "metadata": {},
   "outputs": [],
   "source": [
    "# error = []\n",
    "# for item in o:\n",
    "#     e = d - o\n",
    "#     error.append(e)\n",
    "\n",
    "# e"
   ]
  },
  {
   "cell_type": "markdown",
   "metadata": {},
   "source": [
    "4. For each error in e, add to the update term for w0 (∆w0), w1 (∆w1), and w2 (∆w2) according to:\n",
    "\n",
    "\n",
    "    ∆w0 = ∆w0 + α · e\n",
    "\n",
    "    ∆w1 =∆w1 +α·x1 · e\n",
    "    \n",
    "    ∆w2 =∆w2 +α·x2 · e\n"
   ]
  },
  {
   "cell_type": "code",
   "execution_count": 341,
   "metadata": {},
   "outputs": [
    {
     "data": {
      "text/plain": [
       "array([[-1.    ,  0.6999,  0.92  ,  0.43  ],\n",
       "       [-1.    ,  0.6998,  0.92  ,  0.4299],\n",
       "       [-1.    ,  0.6997,  0.9199,  0.4299],\n",
       "       [ 0.    ,  0.6997,  0.9199,  0.4299]])"
      ]
     },
     "execution_count": 341,
     "metadata": {},
     "output_type": "execute_result"
    }
   ],
   "source": [
    "alpha = 0.0001\n",
    "w0 = round(random.random(), 2)\n",
    "w1 = round(random.random(),2)\n",
    "w2 = round(random.random(), 2)\n",
    "\n",
    "o = perceptron(w0, w1, w2, arrayBitPatterns)\n",
    "\n",
    "e = d - o\n",
    "arrayErrorsAndWeights = np.zeros((4,4))\n",
    "position = 0\n",
    "for bitPair in arrayBitPatterns:\n",
    "    x1 = bitPair[0]\n",
    "    x2 = bitPair[1]\n",
    "\n",
    "    if e[position] != 0:\n",
    "        w0 += alpha * e[position]\n",
    "        w1 += alpha * e[position] * x1\n",
    "        w2 += alpha * e[position] * x2\n",
    "\n",
    "    arrayErrorsAndWeights[position] = [e[position], w0, w1, w2]\n",
    "\n",
    "    position += 1\n",
    "\n",
    "arrayErrorsAndWeights"
   ]
  },
  {
   "cell_type": "markdown",
   "metadata": {},
   "source": [
    "5. Prepare your code to cycle through the whole dataset (in this case, 4 examples) several times doing the above procedure (to train for several \"epochs\").\n",
    "6. After all examples are presented (at the end of each epoch), update w0, w1 and w2. so that in the next iteration the error will decrease. Repeat for 20 epochs."
   ]
  },
  {
   "cell_type": "code",
   "execution_count": 342,
   "metadata": {},
   "outputs": [
    {
     "name": "stdout",
     "output_type": "stream",
     "text": [
      "[[[-1.    0.54  0.27  0.26]\n",
      "  [-1.    0.49  0.27  0.21]\n",
      "  [-1.    0.44  0.22  0.21]\n",
      "  [ 0.    0.44  0.22  0.21]]\n",
      "\n",
      " [[ 0.    0.44  0.22  0.21]\n",
      "  [-1.    0.39  0.22  0.16]\n",
      "  [-1.    0.34  0.17  0.16]\n",
      "  [ 0.    0.34  0.17  0.16]]\n",
      "\n",
      " [[ 0.    0.34  0.17  0.16]\n",
      "  [ 0.    0.34  0.17  0.16]\n",
      "  [-1.    0.29  0.12  0.16]\n",
      "  [ 0.    0.29  0.12  0.16]]\n",
      "\n",
      " [[ 0.    0.29  0.12  0.16]\n",
      "  [ 0.    0.29  0.12  0.16]\n",
      "  [ 0.    0.29  0.12  0.16]\n",
      "  [ 0.    0.29  0.12  0.16]]\n",
      "\n",
      " [[ 0.    0.29  0.12  0.16]\n",
      "  [ 0.    0.29  0.12  0.16]\n",
      "  [ 0.    0.29  0.12  0.16]\n",
      "  [ 0.    0.29  0.12  0.16]]\n",
      "\n",
      " [[ 0.    0.29  0.12  0.16]\n",
      "  [ 0.    0.29  0.12  0.16]\n",
      "  [ 0.    0.29  0.12  0.16]\n",
      "  [ 0.    0.29  0.12  0.16]]\n",
      "\n",
      " [[ 0.    0.29  0.12  0.16]\n",
      "  [ 0.    0.29  0.12  0.16]\n",
      "  [ 0.    0.29  0.12  0.16]\n",
      "  [ 0.    0.29  0.12  0.16]]\n",
      "\n",
      " [[ 0.    0.29  0.12  0.16]\n",
      "  [ 0.    0.29  0.12  0.16]\n",
      "  [ 0.    0.29  0.12  0.16]\n",
      "  [ 0.    0.29  0.12  0.16]]\n",
      "\n",
      " [[ 0.    0.29  0.12  0.16]\n",
      "  [ 0.    0.29  0.12  0.16]\n",
      "  [ 0.    0.29  0.12  0.16]\n",
      "  [ 0.    0.29  0.12  0.16]]\n",
      "\n",
      " [[ 0.    0.29  0.12  0.16]\n",
      "  [ 0.    0.29  0.12  0.16]\n",
      "  [ 0.    0.29  0.12  0.16]\n",
      "  [ 0.    0.29  0.12  0.16]]\n",
      "\n",
      " [[ 0.    0.29  0.12  0.16]\n",
      "  [ 0.    0.29  0.12  0.16]\n",
      "  [ 0.    0.29  0.12  0.16]\n",
      "  [ 0.    0.29  0.12  0.16]]\n",
      "\n",
      " [[ 0.    0.29  0.12  0.16]\n",
      "  [ 0.    0.29  0.12  0.16]\n",
      "  [ 0.    0.29  0.12  0.16]\n",
      "  [ 0.    0.29  0.12  0.16]]\n",
      "\n",
      " [[ 0.    0.29  0.12  0.16]\n",
      "  [ 0.    0.29  0.12  0.16]\n",
      "  [ 0.    0.29  0.12  0.16]\n",
      "  [ 0.    0.29  0.12  0.16]]\n",
      "\n",
      " [[ 0.    0.29  0.12  0.16]\n",
      "  [ 0.    0.29  0.12  0.16]\n",
      "  [ 0.    0.29  0.12  0.16]\n",
      "  [ 0.    0.29  0.12  0.16]]\n",
      "\n",
      " [[ 0.    0.29  0.12  0.16]\n",
      "  [ 0.    0.29  0.12  0.16]\n",
      "  [ 0.    0.29  0.12  0.16]\n",
      "  [ 0.    0.29  0.12  0.16]]\n",
      "\n",
      " [[ 0.    0.29  0.12  0.16]\n",
      "  [ 0.    0.29  0.12  0.16]\n",
      "  [ 0.    0.29  0.12  0.16]\n",
      "  [ 0.    0.29  0.12  0.16]]\n",
      "\n",
      " [[ 0.    0.29  0.12  0.16]\n",
      "  [ 0.    0.29  0.12  0.16]\n",
      "  [ 0.    0.29  0.12  0.16]\n",
      "  [ 0.    0.29  0.12  0.16]]\n",
      "\n",
      " [[ 0.    0.29  0.12  0.16]\n",
      "  [ 0.    0.29  0.12  0.16]\n",
      "  [ 0.    0.29  0.12  0.16]\n",
      "  [ 0.    0.29  0.12  0.16]]\n",
      "\n",
      " [[ 0.    0.29  0.12  0.16]\n",
      "  [ 0.    0.29  0.12  0.16]\n",
      "  [ 0.    0.29  0.12  0.16]\n",
      "  [ 0.    0.29  0.12  0.16]]\n",
      "\n",
      " [[ 0.    0.29  0.12  0.16]\n",
      "  [ 0.    0.29  0.12  0.16]\n",
      "  [ 0.    0.29  0.12  0.16]\n",
      "  [ 0.    0.29  0.12  0.16]]]\n"
     ]
    }
   ],
   "source": [
    "alpha = 0.05\n",
    "w0 = round(random.random(), 2)\n",
    "w1 = round(random.random(),2)\n",
    "w2 = round(random.random(), 2)\n",
    "numberEpochs = 20\n",
    "allEpochsArrayErrorAndWeights = np.zeros((numberEpochs, 4, 4))\n",
    "\n",
    "for i in range(numberEpochs):\n",
    "    o = perceptron(w0, w1, w2, arrayBitPatterns)\n",
    "\n",
    "    e = d - o\n",
    "    arrayErrorsAndWeights = np.zeros((4,4))\n",
    "    position = 0\n",
    "    for bitPair in arrayBitPatterns:\n",
    "        x1 = bitPair[0]\n",
    "        x2 = bitPair[1]\n",
    "\n",
    "        if e[position] != 0:\n",
    "            w0 += alpha * e[position]\n",
    "            w1 += alpha * e[position] * x1\n",
    "            w2 += alpha * e[position] * x2\n",
    "\n",
    "        arrayErrorsAndWeights[position] = [e[position], w0, w1, w2]\n",
    "\n",
    "        position += 1\n",
    "\n",
    "    #print(arrayErrorsAndWeights)\n",
    "    allEpochsArrayErrorAndWeights[i] = arrayErrorsAndWeights\n",
    "\n",
    "print(allEpochsArrayErrorAndWeights)"
   ]
  },
  {
   "cell_type": "code",
   "execution_count": 343,
   "metadata": {},
   "outputs": [
    {
     "data": {
      "text/plain": [
       "array([[[-1.  ,  0.54,  0.27,  0.26],\n",
       "        [-1.  ,  0.49,  0.27,  0.21],\n",
       "        [-1.  ,  0.44,  0.22,  0.21],\n",
       "        [ 0.  ,  0.44,  0.22,  0.21]],\n",
       "\n",
       "       [[ 0.  ,  0.44,  0.22,  0.21],\n",
       "        [-1.  ,  0.39,  0.22,  0.16],\n",
       "        [-1.  ,  0.34,  0.17,  0.16],\n",
       "        [ 0.  ,  0.34,  0.17,  0.16]],\n",
       "\n",
       "       [[ 0.  ,  0.34,  0.17,  0.16],\n",
       "        [ 0.  ,  0.34,  0.17,  0.16],\n",
       "        [-1.  ,  0.29,  0.12,  0.16],\n",
       "        [ 0.  ,  0.29,  0.12,  0.16]],\n",
       "\n",
       "       [[ 0.  ,  0.29,  0.12,  0.16],\n",
       "        [ 0.  ,  0.29,  0.12,  0.16],\n",
       "        [ 0.  ,  0.29,  0.12,  0.16],\n",
       "        [ 0.  ,  0.29,  0.12,  0.16]],\n",
       "\n",
       "       [[ 0.  ,  0.29,  0.12,  0.16],\n",
       "        [ 0.  ,  0.29,  0.12,  0.16],\n",
       "        [ 0.  ,  0.29,  0.12,  0.16],\n",
       "        [ 0.  ,  0.29,  0.12,  0.16]],\n",
       "\n",
       "       [[ 0.  ,  0.29,  0.12,  0.16],\n",
       "        [ 0.  ,  0.29,  0.12,  0.16],\n",
       "        [ 0.  ,  0.29,  0.12,  0.16],\n",
       "        [ 0.  ,  0.29,  0.12,  0.16]],\n",
       "\n",
       "       [[ 0.  ,  0.29,  0.12,  0.16],\n",
       "        [ 0.  ,  0.29,  0.12,  0.16],\n",
       "        [ 0.  ,  0.29,  0.12,  0.16],\n",
       "        [ 0.  ,  0.29,  0.12,  0.16]],\n",
       "\n",
       "       [[ 0.  ,  0.29,  0.12,  0.16],\n",
       "        [ 0.  ,  0.29,  0.12,  0.16],\n",
       "        [ 0.  ,  0.29,  0.12,  0.16],\n",
       "        [ 0.  ,  0.29,  0.12,  0.16]],\n",
       "\n",
       "       [[ 0.  ,  0.29,  0.12,  0.16],\n",
       "        [ 0.  ,  0.29,  0.12,  0.16],\n",
       "        [ 0.  ,  0.29,  0.12,  0.16],\n",
       "        [ 0.  ,  0.29,  0.12,  0.16]],\n",
       "\n",
       "       [[ 0.  ,  0.29,  0.12,  0.16],\n",
       "        [ 0.  ,  0.29,  0.12,  0.16],\n",
       "        [ 0.  ,  0.29,  0.12,  0.16],\n",
       "        [ 0.  ,  0.29,  0.12,  0.16]],\n",
       "\n",
       "       [[ 0.  ,  0.29,  0.12,  0.16],\n",
       "        [ 0.  ,  0.29,  0.12,  0.16],\n",
       "        [ 0.  ,  0.29,  0.12,  0.16],\n",
       "        [ 0.  ,  0.29,  0.12,  0.16]],\n",
       "\n",
       "       [[ 0.  ,  0.29,  0.12,  0.16],\n",
       "        [ 0.  ,  0.29,  0.12,  0.16],\n",
       "        [ 0.  ,  0.29,  0.12,  0.16],\n",
       "        [ 0.  ,  0.29,  0.12,  0.16]],\n",
       "\n",
       "       [[ 0.  ,  0.29,  0.12,  0.16],\n",
       "        [ 0.  ,  0.29,  0.12,  0.16],\n",
       "        [ 0.  ,  0.29,  0.12,  0.16],\n",
       "        [ 0.  ,  0.29,  0.12,  0.16]],\n",
       "\n",
       "       [[ 0.  ,  0.29,  0.12,  0.16],\n",
       "        [ 0.  ,  0.29,  0.12,  0.16],\n",
       "        [ 0.  ,  0.29,  0.12,  0.16],\n",
       "        [ 0.  ,  0.29,  0.12,  0.16]],\n",
       "\n",
       "       [[ 0.  ,  0.29,  0.12,  0.16],\n",
       "        [ 0.  ,  0.29,  0.12,  0.16],\n",
       "        [ 0.  ,  0.29,  0.12,  0.16],\n",
       "        [ 0.  ,  0.29,  0.12,  0.16]],\n",
       "\n",
       "       [[ 0.  ,  0.29,  0.12,  0.16],\n",
       "        [ 0.  ,  0.29,  0.12,  0.16],\n",
       "        [ 0.  ,  0.29,  0.12,  0.16],\n",
       "        [ 0.  ,  0.29,  0.12,  0.16]],\n",
       "\n",
       "       [[ 0.  ,  0.29,  0.12,  0.16],\n",
       "        [ 0.  ,  0.29,  0.12,  0.16],\n",
       "        [ 0.  ,  0.29,  0.12,  0.16],\n",
       "        [ 0.  ,  0.29,  0.12,  0.16]],\n",
       "\n",
       "       [[ 0.  ,  0.29,  0.12,  0.16],\n",
       "        [ 0.  ,  0.29,  0.12,  0.16],\n",
       "        [ 0.  ,  0.29,  0.12,  0.16],\n",
       "        [ 0.  ,  0.29,  0.12,  0.16]],\n",
       "\n",
       "       [[ 0.  ,  0.29,  0.12,  0.16],\n",
       "        [ 0.  ,  0.29,  0.12,  0.16],\n",
       "        [ 0.  ,  0.29,  0.12,  0.16],\n",
       "        [ 0.  ,  0.29,  0.12,  0.16]],\n",
       "\n",
       "       [[ 0.  ,  0.29,  0.12,  0.16],\n",
       "        [ 0.  ,  0.29,  0.12,  0.16],\n",
       "        [ 0.  ,  0.29,  0.12,  0.16],\n",
       "        [ 0.  ,  0.29,  0.12,  0.16]]])"
      ]
     },
     "execution_count": 343,
     "metadata": {},
     "output_type": "execute_result"
    }
   ],
   "source": [
    "saveResultsForGraph = allEpochsArrayErrorAndWeights\n",
    "saveResultsForGraph"
   ]
  },
  {
   "cell_type": "code",
   "execution_count": 344,
   "metadata": {},
   "outputs": [
    {
     "data": {
      "image/png": "[encoded data removed]",
      "text/plain": [
       "<Figure size 640x480 with 1 Axes>"
      ]
     },
     "metadata": {},
     "output_type": "display_data"
    }
   ],
   "source": [
    "# visualize (a): Plot the value of the error at the end of each epoch, how does it behave?\n",
    "\n",
    "numberEpochs = range(len(saveResultsForGraph))\n",
    "numberEpochs\n",
    "\n",
    "error0 = []\n",
    "error1 = []\n",
    "error2 = []\n",
    "error3 = []\n",
    "\n",
    "for array in saveResultsForGraph:\n",
    "    error0.append(array[0,0])\n",
    "    error1.append(array[1,0])\n",
    "    error2.append(array[2,0])\n",
    "    error3.append(array[3,0])\n",
    "\n",
    "plt.plot(numberEpochs, error0, \"-\", color = \"green\", label = \"error of (0,0)\") \n",
    "plt.plot(numberEpochs, error1, \"-\", color = \"red\", label = \"error of (0,1)\") \n",
    "plt.plot(numberEpochs, error2, \"-\", color = \"orange\", label = \"error of (1,0)\") \n",
    "plt.plot(numberEpochs, error3, \"-\", color = \"purple\", label = \"error of (1,1)\") \n",
    "\n",
    "plt.ylabel(\"error\")\n",
    "plt.xlabel(\"epoche\")\n",
    "plt.title(\"error developement over epochs\")\n",
    "plt.legend(loc='lower right')\n",
    "\n",
    "plt.xlim(0, len(numberEpochs))\n",
    "plt.ylim(-1.5, 1.5)\n",
    "#plt.axis(\"equal\") \n",
    "plt .show()    "
   ]
  },
  {
   "cell_type": "markdown",
   "metadata": {},
   "source": [
    "###  How do the errors behave over the epochs?\n",
    "In the beginning, each error of each output can either be -1 or already 0. (Predicting false or correct). By learning from the feedback the weights are improved so that in the end all errors will converge to 0. (Meaning that the output is correct)"
   ]
  },
  {
   "cell_type": "code",
   "execution_count": 345,
   "metadata": {},
   "outputs": [
    {
     "data": {
      "image/png": "[encoded data removed]",
      "text/plain": [
       "<Figure size 640x480 with 1 Axes>"
      ]
     },
     "metadata": {},
     "output_type": "display_data"
    }
   ],
   "source": [
    "# visualize (b) Plot the value of each weight at the end of each training epoch. \n",
    "\n",
    "numberEpochs = range(len(saveResultsForGraph))\n",
    "numberEpochs\n",
    "\n",
    "w0EndEpochs = []\n",
    "w1EndEpochs = []\n",
    "w2EndEpochs = []\n",
    "\n",
    "for array in saveResultsForGraph:\n",
    "    w0EndEpochs.append(array[3,1])\n",
    "    w1EndEpochs.append(array[3,2])\n",
    "    w2EndEpochs.append(array[3,3])\n",
    "\n",
    "plt.plot(numberEpochs, w0EndEpochs, \"-\", color = \"orange\", label = \"w0\") \n",
    "plt.plot(numberEpochs, w1EndEpochs, \"-\", color = \"red\", label = \"w1\") \n",
    "plt.plot(numberEpochs, w2EndEpochs, \"-\", color = \"green\", label = \"w2\") \n",
    "\n",
    "\n",
    "plt.ylabel(\"weights\")\n",
    "plt.xlabel(\"epoche\")\n",
    "plt.title(\"weights developement over epochs\")\n",
    "plt.legend(loc='lower right')\n",
    "\n",
    "plt.xlim(0, len(numberEpochs))\n",
    "plt.ylim(-1, 1)\n",
    "plt.show()"
   ]
  },
  {
   "cell_type": "markdown",
   "metadata": {},
   "source": [
    "### Are the values converging? if so, do they converge to similar values in different runs (with different random intializations)?\n",
    "\n",
    "They do converge, and eventhough the exact values are different, for the AND perceptron all weights converge to values between 0 and 0.5 .\n",
    "For the OR perceptron they converge to values between 0 and 1 so that at least 2 of the weights are above 0.5, so that adding them will always surpass the threshold."
   ]
  },
  {
   "cell_type": "markdown",
   "metadata": {},
   "source": [
    "### (c) What is the effect of increasing/decreasing the α parameter? Can you tell (approximately) what is the \"best\" value for α?\n",
    "\n",
    "The higher alpga, the stronger are the weights changes whenever an output is wrong. When alpha is too small, improving the weights in order to make good predictions is too slow and needs many epochs. When alpha is too big, the changes in weights will be too big and the correct a´weights are \"overshot\".\n",
    "\n",
    "A good value for alpha: 0.05???\n"
   ]
  },
  {
   "cell_type": "markdown",
   "metadata": {},
   "source": [
    "### (d) How many epochs (iterations through the whole set) did it take to get all examples right? (i.e. ∀i : di = oi). \n",
    "Repeat the experiment 30 times with different random values for the initial weights and present the average and standard deviation of the number of epochs it took to converge."
   ]
  },
  {
   "cell_type": "code",
   "execution_count": 346,
   "metadata": {},
   "outputs": [
    {
     "name": "stdout",
     "output_type": "stream",
     "text": [
      "[3, 7, 11, 4, 3, 7, 9, 9, 4, 7, 5, 5, 6, 9, 4, 5, 8, 9, 12, 7, 3, 8, 9, 5, 12, 4, 8, 7, 9, 7]\n",
      "average number of epochs till convergence: 7.0 \n",
      " standard deviation: 2.54.\n"
     ]
    }
   ],
   "source": [
    "alpha = 0.05\n",
    "listWithNumberEpochs = []\n",
    "\n",
    "\n",
    "for i in range(30):\n",
    "    epochsNeeded = 0\n",
    "\n",
    "    w0 = round(random.random(), 2)\n",
    "    w1 = round(random.random(),2)\n",
    "    w2 = round(random.random(), 2)\n",
    "    d = arrayANDSolution\n",
    "    o = np.array((perceptron(w0, w1, w2, arrayBitPatterns)))\n",
    "\n",
    "    while not np.array_equal(d, o):\n",
    "        e = d - o\n",
    "        arrayErrorsAndWeights = np.zeros((4,4))\n",
    "        position = 0\n",
    "        for bitPair in arrayBitPatterns:\n",
    "            x1 = bitPair[0]\n",
    "            x2 = bitPair[1]\n",
    "\n",
    "            if e[position] != 0:\n",
    "                w0 += alpha * e[position]\n",
    "                w1 += alpha * e[position] * x1\n",
    "                w2 += alpha * e[position] * x2\n",
    "\n",
    "            arrayErrorsAndWeights[position] = [e[position], w0, w1, w2]\n",
    "            position += 1\n",
    "        o = np.array((perceptron(w0, w1, w2, arrayBitPatterns)))\n",
    "        epochsNeeded += 1\n",
    "    \n",
    "    listWithNumberEpochs.append(epochsNeeded)\n",
    "\n",
    "print(listWithNumberEpochs)\n",
    "        \n",
    "average = sum(listWithNumberEpochs) / len(listWithNumberEpochs)      \n",
    "standardDeviation = np.std(listWithNumberEpochs)\n",
    "\n",
    "print(f\"average number of epochs till convergence: {round(average, 0)} \\n standard deviation: {round(standardDeviation, 2)}.\")\n",
    "\n",
    "\n",
    "    "
   ]
  },
  {
   "cell_type": "markdown",
   "metadata": {},
   "source": [
    "7. Generate 2D points using a multivariate Gaussian distribution."
   ]
  },
  {
   "cell_type": "code",
   "execution_count": 347,
   "metadata": {},
   "outputs": [
    {
     "data": {
      "image/png": "[encoded data removed]",
      "text/plain": [
       "<Figure size 640x480 with 1 Axes>"
      ]
     },
     "metadata": {},
     "output_type": "display_data"
    }
   ],
   "source": [
    "# generate data\n",
    "\n",
    "mean= [3, 3]\n",
    "cov = [[1, 0], [0, 1]]\n",
    "a = np.random.multivariate_normal(mean, cov, 500).T\n",
    "\n",
    "new_col_a = np.zeros((1, a.shape[1]))\n",
    "a = np.append(a, new_col_a, axis = 0)\n",
    "\n",
    "mean= [-3, -3]\n",
    "cov = [[2, 0], [0, 5]]\n",
    "b = np.random.multivariate_normal(mean, cov, 500).T\n",
    "\n",
    "new_col_b = np.ones((1, b.shape[1]))\n",
    "b = np.append(b, new_col_b, axis = 0)\n",
    "\n",
    "c = np.concatenate((a, b) , axis = 1) \n",
    "c=c.T\n",
    "np.random.shuffle(c)\n",
    "c=c.T\n",
    "\n",
    "x = c[0] \n",
    "y=c[1]\n",
    "labels=c[2]\n",
    "plt.plot(x, y, \"x\") \n",
    "plt.axis(\"equal\") \n",
    "plt .show()\n",
    "\n",
    "# save and load data\n",
    "np.savetxt(\"testData.csv\", c, delimiter=\",\")\n",
    "data = genfromtxt('testData.csv', delimiter=',')"
   ]
  },
  {
   "cell_type": "markdown",
   "metadata": {},
   "source": [
    "8. Use the dataset generated in the previous task as the training set for the same perceptron and train it to partition the two datasets (adjust number of epochs if necessary). Notice that the same program learned two different tasks depending on the dataset used."
   ]
  },
  {
   "cell_type": "code",
   "execution_count": 355,
   "metadata": {},
   "outputs": [],
   "source": [
    "dataCopy = data.copy()"
   ]
  },
  {
   "cell_type": "code",
   "execution_count": 398,
   "metadata": {},
   "outputs": [
    {
     "name": "stdout",
     "output_type": "stream",
     "text": [
      "[[ 0.          0.7125     -0.21104053 -0.0546546 ]\n",
      " [ 0.          0.7125     -0.21104053 -0.0546546 ]\n",
      " [ 0.          0.7125     -0.21104053 -0.0546546 ]\n",
      " ...\n",
      " [ 0.          0.7124     -0.21113815 -0.05466638]\n",
      " [ 0.          0.7124     -0.21113815 -0.05466638]\n",
      " [ 0.          0.7124     -0.21113815 -0.05466638]]\n",
      "202\n"
     ]
    }
   ],
   "source": [
    "# alpha = 0.0001\n",
    "\n",
    "# w0 = round(random.random(), 2)\n",
    "# w1 = round(random.random(),2)\n",
    "# w2 = round(random.random(), 2)\n",
    "\n",
    "# d = data[2]\n",
    "# o = np.array((perceptron(w0, w1, w2, dataCopy.T)))\n",
    "\n",
    "# epochsNeeded = 0\n",
    "# while not np.array_equal(d, o):\n",
    "\n",
    "#     e = d - o\n",
    "#     arrayErrorsAndWeights = np.zeros((1000,4))\n",
    "#     position = 0\n",
    "#     for coordinates in data.T:\n",
    "#         x1 = coordinates[0]\n",
    "#         x2 = coordinates[1]\n",
    "\n",
    "#         if e[position] != 0:\n",
    "#             w0 += alpha * e[position]\n",
    "#             w1 += alpha * e[position] * x1\n",
    "#             w2 += alpha * e[position] * x2\n",
    "\n",
    "#         arrayErrorsAndWeights[position] = [e[position], w0, w1, w2]\n",
    "#         position += 1\n",
    "\n",
    "#     o = np.array((perceptron(w0, w1, w2, dataCopy.T)))\n",
    "#     epochsNeeded += 1\n",
    "\n",
    "# print(arrayErrorsAndWeights)\n",
    "# print(epochsNeeded)"
   ]
  },
  {
   "cell_type": "code",
   "execution_count": 383,
   "metadata": {},
   "outputs": [
    {
     "name": "stdout",
     "output_type": "stream",
     "text": [
      "[[-1.90797474 -7.47760063  1.          1.        ]\n",
      " [ 2.80472803  5.19754122  0.          0.        ]\n",
      " [-2.21923131  0.19981283  1.          1.        ]\n",
      " ...\n",
      " [-3.67325974 -3.66277494  1.          1.        ]\n",
      " [-4.49396725 -8.65754424  1.          1.        ]\n",
      " [ 3.36787585  1.21761587  0.          0.        ]]\n"
     ]
    }
   ],
   "source": [
    "dataCopy = data.copy()\n",
    "alpha = 0.0001\n",
    "howManyEpochs = 20\n",
    "w0 = round(random.random(), 2)\n",
    "w1 = round(random.random(),2)\n",
    "w2 = round(random.random(), 2)\n",
    "\n",
    "d = dataCopy[2]\n",
    "o = np.array((perceptron(w0, w1, w2, dataCopy.T)))\n",
    "\n",
    "for i in range(howManyEpochs):\n",
    "    e = d - o\n",
    "    position = 0\n",
    "    for coordinates in dataCopy.T:\n",
    "        x1 = coordinates[0]\n",
    "        x2 = coordinates[1]\n",
    "\n",
    "        if e[position] != 0:\n",
    "            w0 += alpha * e[position]\n",
    "            w1 += alpha * e[position] * x1\n",
    "            w2 += alpha * e[position] * x2\n",
    "        position += 1\n",
    "\n",
    "    o = np.array((perceptron(w0, w1, w2, dataCopy.T)))\n",
    "\n",
    "\n",
    "newColumnDataCopy = np.ones((1, dataCopy.shape[1]))\n",
    "dataCopy = np.append(dataCopy, newColumnDataCopy, axis = 0)\n",
    "dataCopy[3] = o\n",
    "\n",
    "print(dataCopy.T)\n"
   ]
  },
  {
   "cell_type": "code",
   "execution_count": 399,
   "metadata": {},
   "outputs": [
    {
     "name": "stdout",
     "output_type": "stream",
     "text": [
      "500\n",
      "500\n",
      "0\n",
      "0\n",
      "12\n",
      "12\n",
      "488\n",
      "488\n"
     ]
    }
   ],
   "source": [
    "pointsCorrectRejectionsX = []\n",
    "pointsFalsePositivesX = []\n",
    "pointsFalseNegativesX = []\n",
    "pointsTruePositivesX = []\n",
    "\n",
    "pointsCorrectRejectionsY = []\n",
    "pointsFalsePositivesY = []\n",
    "pointsFalseNegativesY = []\n",
    "pointsTruePositivesY = []\n",
    "\n",
    "\n",
    "\n",
    "for i in range(len(dataCopy.T)):\n",
    "    if dataCopy.T[i][2] == 0 and dataCopy.T[i][3] == 0:\n",
    "        pointsCorrectRejectionsX.append(dataCopy.T[i][0])\n",
    "        pointsCorrectRejectionsY.append(dataCopy.T[i][1])\n",
    "\n",
    "    if dataCopy.T[i][2] == 0 and dataCopy.T[i][3] == 1:\n",
    "        pointsFalsePositivesX.append(dataCopy.T[i][0])\n",
    "        pointsFalsePositivesY.append(dataCopy.T[i][1])\n",
    "    \n",
    "    if dataCopy.T[i][2] == 1 and dataCopy.T[i][3] == 0:\n",
    "        pointsFalseNegativesX.append(dataCopy.T[i][0])\n",
    "        pointsFalseNegativesY.append(dataCopy.T[i][1])\n",
    "\n",
    "    if dataCopy.T[i][2] == 1 and dataCopy.T[i][3] == 1:\n",
    "        pointsTruePositivesX.append(dataCopy.T[i][0])\n",
    "        pointsTruePositivesY.append(dataCopy.T[i][1])\n",
    "\n",
    "\n",
    "print(len(pointsCorrectRejectionsX))\n",
    "print(len(pointsCorrectRejectionsY))\n",
    "\n",
    "print(len(pointsFalsePositivesX))\n",
    "print(len(pointsFalsePositivesY))\n",
    "print(len(pointsFalseNegativesX))\n",
    "print(len(pointsFalseNegativesY))\n",
    "print(len(pointsTruePositivesX))\n",
    "print(len(pointsTruePositivesY))"
   ]
  },
  {
   "cell_type": "code",
   "execution_count": 400,
   "metadata": {},
   "outputs": [
    {
     "data": {
      "image/png": "[encoded data removed]",
      "text/plain": [
       "<Figure size 640x480 with 1 Axes>"
      ]
     },
     "metadata": {},
     "output_type": "display_data"
    }
   ],
   "source": [
    "# visualize\n",
    "\n",
    "plt.plot(pointsCorrectRejectionsX, pointsCorrectRejectionsY, \"x\", color = \"blue\", label = \"Correct rejections\")\n",
    "plt.plot(pointsFalsePositivesX, pointsFalsePositivesY, \"x\", color = \"orange\", label = \"False positives\")\n",
    "plt.plot(pointsFalseNegativesX, pointsFalseNegativesY, \"x\", color = \"red\", label = \"False negatives\")\n",
    "plt.plot(pointsTruePositivesX, pointsTruePositivesY, \"x\", color = \"green\", label = \"Hits\")\n",
    "\n",
    "\n",
    "plt.title(\"points in different colours depending on true clusters and correct/false classifications by the perceptron\")\n",
    "plt.legend(loc='lower right')\n",
    "\n",
    "plt.axis(\"equal\") \n",
    "plt.show()"
   ]
  },
  {
   "cell_type": "markdown",
   "metadata": {},
   "source": [
    "9. Print/Plot the confusion matrix for the above test. Can you relate each of the numbers in the confusion matrix to the points of a given color on the previously generated figure?"
   ]
  },
  {
   "cell_type": "code",
   "execution_count": 401,
   "metadata": {},
   "outputs": [
    {
     "name": "stdout",
     "output_type": "stream",
     "text": [
      "  True cluster    label 1    label 0\n",
      "--------------  ---------  ---------\n",
      "             1       0.49       0.01\n",
      "             0       0          0.5\n"
     ]
    }
   ],
   "source": [
    "# confusion matrix\n",
    "\n",
    "totalLength = len(dataCopy.T)\n",
    "numberHits = len(pointsTruePositivesX)\n",
    "numberCorrectRejections = len(pointsCorrectRejectionsX)\n",
    "numberFalsePositives = len(pointsFalsePositivesX)\n",
    "numberFalseNegatives = len(pointsFalseNegativesX)\n",
    "\n",
    "confusionMatrix = [\n",
    "    [\"1\", round(numberHits/totalLength, 2), round(numberFalseNegatives/totalLength, 2)],\n",
    "    [\"0\", round(numberFalsePositives/totalLength, 2), round(numberCorrectRejections/totalLength, 2)]\n",
    "]\n",
    "\n",
    "head = [\"True cluster\", \"label 1\", \"label 0\"]\n",
    "\n",
    "tableConfusionMatrix = tabulate(confusionMatrix, headers = head)\n",
    "print(tableConfusionMatrix)"
   ]
  },
  {
   "cell_type": "markdown",
   "metadata": {},
   "source": [
    "10. Print the metrics (accuracy, precision, recall, and F1) for all the tests: metrics should be an average for 30 tests with the same parameters but different initial weights."
   ]
  },
  {
   "cell_type": "code",
   "execution_count": 406,
   "metadata": {},
   "outputs": [
    {
     "name": "stdout",
     "output_type": "stream",
     "text": [
      "average performance after 20 training epochs:\n",
      "accuracy: 0.99\n",
      "precision: 1.0\n",
      "recall: 0.98\n",
      "F1Score: 0.99\n"
     ]
    }
   ],
   "source": [
    "dataCopy = data.copy()\n",
    "alpha = 0.0001\n",
    "howManyEpochs = 20\n",
    "\n",
    "saveAccuracy = []\n",
    "savePrecision = []\n",
    "saveRecall = []\n",
    "saveF1Score = []\n",
    "\n",
    "for i in range(30):\n",
    "\n",
    "    w0 = round(random.random(), 2)\n",
    "    w1 = round(random.random(),2)\n",
    "    w2 = round(random.random(), 2)\n",
    "\n",
    "    d = dataCopy[2]\n",
    "    o = np.array((perceptron(w0, w1, w2, dataCopy.T)))\n",
    "\n",
    "    for i in range(howManyEpochs):\n",
    "        e = d - o\n",
    "        position = 0\n",
    "        for coordinates in dataCopy.T:\n",
    "            x1 = coordinates[0]\n",
    "            x2 = coordinates[1]\n",
    "\n",
    "            if e[position] != 0:\n",
    "                w0 += alpha * e[position]\n",
    "                w1 += alpha * e[position] * x1\n",
    "                w2 += alpha * e[position] * x2\n",
    "            position += 1\n",
    "\n",
    "        o = np.array((perceptron(w0, w1, w2, dataCopy.T)))\n",
    "\n",
    "\n",
    "    newColumnDataCopy = np.ones((1, dataCopy.shape[1]))\n",
    "    dataCopy = np.append(dataCopy, newColumnDataCopy, axis = 0)\n",
    "    dataCopy[3] = o\n",
    "\n",
    "\n",
    "    pointsCorrectRejectionsX = []\n",
    "    pointsFalsePositivesX = []\n",
    "    pointsFalseNegativesX = []\n",
    "    pointsTruePositivesX = []\n",
    "\n",
    "    pointsCorrectRejectionsY = []\n",
    "    pointsFalsePositivesY = []\n",
    "    pointsFalseNegativesY = []\n",
    "    pointsTruePositivesY = []\n",
    "\n",
    "    for i in range(len(dataCopy.T)):\n",
    "        if dataCopy.T[i][2] == 0 and dataCopy.T[i][3] == 0:\n",
    "            pointsCorrectRejectionsX.append(dataCopy.T[i][0])\n",
    "            pointsCorrectRejectionsY.append(dataCopy.T[i][1])\n",
    "\n",
    "        if dataCopy.T[i][2] == 0 and dataCopy.T[i][3] == 1:\n",
    "            pointsFalsePositivesX.append(dataCopy.T[i][0])\n",
    "            pointsFalsePositivesY.append(dataCopy.T[i][1])\n",
    "        \n",
    "        if dataCopy.T[i][2] == 1 and dataCopy.T[i][3] == 0:\n",
    "            pointsFalseNegativesX.append(dataCopy.T[i][0])\n",
    "            pointsFalseNegativesY.append(dataCopy.T[i][1])\n",
    "\n",
    "        if dataCopy.T[i][2] == 1 and dataCopy.T[i][3] == 1:\n",
    "            pointsTruePositivesX.append(dataCopy.T[i][0])\n",
    "            pointsTruePositivesY.append(dataCopy.T[i][1])\n",
    "\n",
    "\n",
    "    totalLength = len(dataCopy.T)\n",
    "    numberHits = len(pointsTruePositivesX)\n",
    "    numberCorrectRejections = len(pointsCorrectRejectionsX)\n",
    "    numberFalsePositives = len(pointsFalsePositivesX)\n",
    "    numberFalseNegatives = len(pointsFalseNegativesX)\n",
    "\n",
    "    accuracy = (numberHits+numberCorrectRejections)/totalLength\n",
    "    precision = numberHits/(numberHits + numberFalsePositives)\n",
    "    recall = numberHits/(numberHits + numberFalseNegatives)\n",
    "    F1Score = (2*precision*recall)/(precision+recall)\n",
    "\n",
    "    saveAccuracy.append(accuracy)\n",
    "    savePrecision.append(precision)\n",
    "    saveRecall.append(recall)\n",
    "    saveF1Score.append(F1Score)\n",
    "    \n",
    "\n",
    "\n",
    "\n",
    "accuracy = round(sum(saveAccuracy)/len(saveAccuracy), 2)\n",
    "precision = round(sum(savePrecision)/len(savePrecision), 2)\n",
    "recall = round(sum(saveRecall)/len(saveRecall), 2)\n",
    "F1Score = round(sum(saveF1Score)/len(saveF1Score), 2)\n",
    "\n",
    "\n",
    "print(f\"average performance after {howManyEpochs} training epochs:\")\n",
    "print(f\"accuracy: {accuracy}\")\n",
    "print(f\"precision: {precision}\")\n",
    "print(f\"recall: {recall}\")\n",
    "print(f\"F1Score: {F1Score}\")"
   ]
  },
  {
   "cell_type": "code",
   "execution_count": 405,
   "metadata": {},
   "outputs": [
    {
     "name": "stdout",
     "output_type": "stream",
     "text": [
      "average performance after 20 training epochs:\n",
      "accuracy: 0.99\n",
      "precision: 1.0\n",
      "recall: 0.98\n",
      "F1Score: 0.99\n"
     ]
    }
   ],
   "source": [
    "accuracy = round((numberHits+numberCorrectRejections)/totalLength, 2)\n",
    "precision = round(numberHits/(numberHits + numberFalsePositives), 2)\n",
    "recall = round(numberHits/(numberHits + numberFalseNegatives), 2)\n",
    "F1Score = round((2*precision*recall)/(precision+recall), 2)\n",
    "\n",
    "print(f\"average performance after {howManyEpochs} training epochs:\")\n",
    "print(f\"accuracy: {accuracy}\")\n",
    "print(f\"precision: {precision}\")\n",
    "print(f\"recall: {recall}\")\n",
    "print(f\"F1Score: {F1Score}\")"
   ]
  },
  {
   "cell_type": "markdown",
   "metadata": {},
   "source": [
    "### Exercise 2\n",
    "\n",
    "Implement a k-NN classifier that is specifically suited for the dataset in https://archive.ics.uci.edu/ml/datasets/iris.\n",
    "Given a dataset containing labelled examples (a training set) and a new example (extracted from the test set), the classifier should calculate the euclidean distance from the new example to all the elements of the training set, choose the k closest elements of the training set and output this example classification as the class of the majority of the k closest training set elements (the k-Nearest Neighbors)."
   ]
  },
  {
   "cell_type": "markdown",
   "metadata": {},
   "source": [
    "1. Split the dataset randomly in two subsets (70% / 30%). Use the bigger subset as the training set and the smaller as the test set. Run all test examples through the classifier and calculate the number of correct predictions over the total number of examples of the test set. Compare the scores of k-NN classifiers for k = 3, 7, and 11. Repeat 30 times, with different dataset splits, for each value of k. Use a boxplot with whiskers graphic to allow easy comparison.\n",
    "2. Plot the confusion matrix of one of the tests for each value of k.\n",
    "3. Considering the dataset presented in Fig. 3, why should k always be an odd number?"
   ]
  },
  {
   "cell_type": "code",
   "execution_count": 12,
   "metadata": {},
   "outputs": [
    {
     "data": {
      "text/html": [
       "<div>\n",
       "<style scoped>\n",
       "    .dataframe tbody tr th:only-of-type {\n",
       "        vertical-align: middle;\n",
       "    }\n",
       "\n",
       "    .dataframe tbody tr th {\n",
       "        vertical-align: top;\n",
       "    }\n",
       "\n",
       "    .dataframe thead th {\n",
       "        text-align: right;\n",
       "    }\n",
       "</style>\n",
       "<table border=\"1\" class=\"dataframe\">\n",
       "  <thead>\n",
       "    <tr style=\"text-align: right;\">\n",
       "      <th></th>\n",
       "      <th>sepal length</th>\n",
       "      <th>sepal width</th>\n",
       "      <th>petal length</th>\n",
       "      <th>petal width</th>\n",
       "      <th>class</th>\n",
       "    </tr>\n",
       "  </thead>\n",
       "  <tbody>\n",
       "    <tr>\n",
       "      <th>0</th>\n",
       "      <td>5.1</td>\n",
       "      <td>3.5</td>\n",
       "      <td>1.4</td>\n",
       "      <td>0.2</td>\n",
       "      <td>Iris-setosa</td>\n",
       "    </tr>\n",
       "    <tr>\n",
       "      <th>1</th>\n",
       "      <td>4.9</td>\n",
       "      <td>3.0</td>\n",
       "      <td>1.4</td>\n",
       "      <td>0.2</td>\n",
       "      <td>Iris-setosa</td>\n",
       "    </tr>\n",
       "    <tr>\n",
       "      <th>2</th>\n",
       "      <td>4.7</td>\n",
       "      <td>3.2</td>\n",
       "      <td>1.3</td>\n",
       "      <td>0.2</td>\n",
       "      <td>Iris-setosa</td>\n",
       "    </tr>\n",
       "    <tr>\n",
       "      <th>3</th>\n",
       "      <td>4.6</td>\n",
       "      <td>3.1</td>\n",
       "      <td>1.5</td>\n",
       "      <td>0.2</td>\n",
       "      <td>Iris-setosa</td>\n",
       "    </tr>\n",
       "    <tr>\n",
       "      <th>4</th>\n",
       "      <td>5.0</td>\n",
       "      <td>3.6</td>\n",
       "      <td>1.4</td>\n",
       "      <td>0.2</td>\n",
       "      <td>Iris-setosa</td>\n",
       "    </tr>\n",
       "    <tr>\n",
       "      <th>...</th>\n",
       "      <td>...</td>\n",
       "      <td>...</td>\n",
       "      <td>...</td>\n",
       "      <td>...</td>\n",
       "      <td>...</td>\n",
       "    </tr>\n",
       "    <tr>\n",
       "      <th>145</th>\n",
       "      <td>6.7</td>\n",
       "      <td>3.0</td>\n",
       "      <td>5.2</td>\n",
       "      <td>2.3</td>\n",
       "      <td>Iris-virginica</td>\n",
       "    </tr>\n",
       "    <tr>\n",
       "      <th>146</th>\n",
       "      <td>6.3</td>\n",
       "      <td>2.5</td>\n",
       "      <td>5.0</td>\n",
       "      <td>1.9</td>\n",
       "      <td>Iris-virginica</td>\n",
       "    </tr>\n",
       "    <tr>\n",
       "      <th>147</th>\n",
       "      <td>6.5</td>\n",
       "      <td>3.0</td>\n",
       "      <td>5.2</td>\n",
       "      <td>2.0</td>\n",
       "      <td>Iris-virginica</td>\n",
       "    </tr>\n",
       "    <tr>\n",
       "      <th>148</th>\n",
       "      <td>6.2</td>\n",
       "      <td>3.4</td>\n",
       "      <td>5.4</td>\n",
       "      <td>2.3</td>\n",
       "      <td>Iris-virginica</td>\n",
       "    </tr>\n",
       "    <tr>\n",
       "      <th>149</th>\n",
       "      <td>5.9</td>\n",
       "      <td>3.0</td>\n",
       "      <td>5.1</td>\n",
       "      <td>1.8</td>\n",
       "      <td>Iris-virginica</td>\n",
       "    </tr>\n",
       "  </tbody>\n",
       "</table>\n",
       "<p>150 rows × 5 columns</p>\n",
       "</div>"
      ],
      "text/plain": [
       "     sepal length  sepal width  petal length  petal width           class\n",
       "0             5.1          3.5           1.4          0.2     Iris-setosa\n",
       "1             4.9          3.0           1.4          0.2     Iris-setosa\n",
       "2             4.7          3.2           1.3          0.2     Iris-setosa\n",
       "3             4.6          3.1           1.5          0.2     Iris-setosa\n",
       "4             5.0          3.6           1.4          0.2     Iris-setosa\n",
       "..            ...          ...           ...          ...             ...\n",
       "145           6.7          3.0           5.2          2.3  Iris-virginica\n",
       "146           6.3          2.5           5.0          1.9  Iris-virginica\n",
       "147           6.5          3.0           5.2          2.0  Iris-virginica\n",
       "148           6.2          3.4           5.4          2.3  Iris-virginica\n",
       "149           5.9          3.0           5.1          1.8  Iris-virginica\n",
       "\n",
       "[150 rows x 5 columns]"
      ]
     },
     "execution_count": 12,
     "metadata": {},
     "output_type": "execute_result"
    }
   ],
   "source": [
    "coloumnNames = [\"sepal length\", \"sepal width\", \"petal length\", \"petal width\", \"class\"]\n",
    "\n",
    "data = pd.read_csv(\"data/iris.data\", sep = \",\", names = coloumnNames)\n",
    "data"
   ]
  },
  {
   "cell_type": "code",
   "execution_count": 13,
   "metadata": {},
   "outputs": [],
   "source": [
    "# divide data into input features (y) and output criterion (X)\n",
    "\n",
    "y = data.loc[:, data.columns != 'class']\n",
    "X = data.loc[:,'class']"
   ]
  },
  {
   "cell_type": "code",
   "execution_count": 22,
   "metadata": {},
   "outputs": [],
   "source": [
    "# get seperate train and test data \n",
    "X_train, X_test, y_train, y_test = train_test_split(X, y, test_size=0.3)\n",
    "\n",
    "\n",
    "# split the test data again for final test vs cross validation tests\n",
    "X_test_for_cross_validation, X_final_test, y_test_for_cross_validation, y_final_test = train_test_split(X_test, y_test, test_size=0.5)\n"
   ]
  },
  {
   "cell_type": "code",
   "execution_count": 19,
   "metadata": {},
   "outputs": [
    {
     "data": {
      "text/html": [
       "<div>\n",
       "<style scoped>\n",
       "    .dataframe tbody tr th:only-of-type {\n",
       "        vertical-align: middle;\n",
       "    }\n",
       "\n",
       "    .dataframe tbody tr th {\n",
       "        vertical-align: top;\n",
       "    }\n",
       "\n",
       "    .dataframe thead th {\n",
       "        text-align: right;\n",
       "    }\n",
       "</style>\n",
       "<table border=\"1\" class=\"dataframe\">\n",
       "  <thead>\n",
       "    <tr style=\"text-align: right;\">\n",
       "      <th></th>\n",
       "      <th>sepal length</th>\n",
       "      <th>sepal width</th>\n",
       "      <th>petal length</th>\n",
       "      <th>petal width</th>\n",
       "      <th>class</th>\n",
       "    </tr>\n",
       "  </thead>\n",
       "  <tbody>\n",
       "    <tr>\n",
       "      <th>14</th>\n",
       "      <td>5.8</td>\n",
       "      <td>4.0</td>\n",
       "      <td>1.2</td>\n",
       "      <td>0.2</td>\n",
       "      <td>Iris-setosa</td>\n",
       "    </tr>\n",
       "    <tr>\n",
       "      <th>23</th>\n",
       "      <td>5.1</td>\n",
       "      <td>3.3</td>\n",
       "      <td>1.7</td>\n",
       "      <td>0.5</td>\n",
       "      <td>Iris-setosa</td>\n",
       "    </tr>\n",
       "    <tr>\n",
       "      <th>7</th>\n",
       "      <td>5.0</td>\n",
       "      <td>3.4</td>\n",
       "      <td>1.5</td>\n",
       "      <td>0.2</td>\n",
       "      <td>Iris-setosa</td>\n",
       "    </tr>\n",
       "    <tr>\n",
       "      <th>94</th>\n",
       "      <td>5.6</td>\n",
       "      <td>2.7</td>\n",
       "      <td>4.2</td>\n",
       "      <td>1.3</td>\n",
       "      <td>Iris-versicolor</td>\n",
       "    </tr>\n",
       "    <tr>\n",
       "      <th>47</th>\n",
       "      <td>4.6</td>\n",
       "      <td>3.2</td>\n",
       "      <td>1.4</td>\n",
       "      <td>0.2</td>\n",
       "      <td>Iris-setosa</td>\n",
       "    </tr>\n",
       "    <tr>\n",
       "      <th>...</th>\n",
       "      <td>...</td>\n",
       "      <td>...</td>\n",
       "      <td>...</td>\n",
       "      <td>...</td>\n",
       "      <td>...</td>\n",
       "    </tr>\n",
       "    <tr>\n",
       "      <th>37</th>\n",
       "      <td>4.9</td>\n",
       "      <td>3.1</td>\n",
       "      <td>1.5</td>\n",
       "      <td>0.1</td>\n",
       "      <td>Iris-setosa</td>\n",
       "    </tr>\n",
       "    <tr>\n",
       "      <th>144</th>\n",
       "      <td>6.7</td>\n",
       "      <td>3.3</td>\n",
       "      <td>5.7</td>\n",
       "      <td>2.5</td>\n",
       "      <td>Iris-virginica</td>\n",
       "    </tr>\n",
       "    <tr>\n",
       "      <th>26</th>\n",
       "      <td>5.0</td>\n",
       "      <td>3.4</td>\n",
       "      <td>1.6</td>\n",
       "      <td>0.4</td>\n",
       "      <td>Iris-setosa</td>\n",
       "    </tr>\n",
       "    <tr>\n",
       "      <th>120</th>\n",
       "      <td>6.9</td>\n",
       "      <td>3.2</td>\n",
       "      <td>5.7</td>\n",
       "      <td>2.3</td>\n",
       "      <td>Iris-virginica</td>\n",
       "    </tr>\n",
       "    <tr>\n",
       "      <th>66</th>\n",
       "      <td>5.6</td>\n",
       "      <td>3.0</td>\n",
       "      <td>4.5</td>\n",
       "      <td>1.5</td>\n",
       "      <td>Iris-versicolor</td>\n",
       "    </tr>\n",
       "  </tbody>\n",
       "</table>\n",
       "<p>105 rows × 5 columns</p>\n",
       "</div>"
      ],
      "text/plain": [
       "     sepal length  sepal width  petal length  petal width            class\n",
       "14            5.8          4.0           1.2          0.2      Iris-setosa\n",
       "23            5.1          3.3           1.7          0.5      Iris-setosa\n",
       "7             5.0          3.4           1.5          0.2      Iris-setosa\n",
       "94            5.6          2.7           4.2          1.3  Iris-versicolor\n",
       "47            4.6          3.2           1.4          0.2      Iris-setosa\n",
       "..            ...          ...           ...          ...              ...\n",
       "37            4.9          3.1           1.5          0.1      Iris-setosa\n",
       "144           6.7          3.3           5.7          2.5   Iris-virginica\n",
       "26            5.0          3.4           1.6          0.4      Iris-setosa\n",
       "120           6.9          3.2           5.7          2.3   Iris-virginica\n",
       "66            5.6          3.0           4.5          1.5  Iris-versicolor\n",
       "\n",
       "[105 rows x 5 columns]"
      ]
     },
     "execution_count": 19,
     "metadata": {},
     "output_type": "execute_result"
    }
   ],
   "source": [
    "# training data is needed with features and outcomes:\n",
    "training_data = y_train.join(X_train)\n",
    "training_data\n"
   ]
  },
  {
   "cell_type": "code",
   "execution_count": 28,
   "metadata": {},
   "outputs": [
    {
     "name": "stderr",
     "output_type": "stream",
     "text": [
      "/var/folders/jp/7rxct1gj4xsc_51ldxz05w9w0000gn/T/ipykernel_7834/2586032591.py:27: FutureWarning: Series.__getitem__ treating keys as positions is deprecated. In a future version, integer keys will always be treated as labels (consistent with DataFrame behavior). To access a value by position, use `ser.iloc[pos]`\n",
      "  functionInput = [row[0], row[1]]\n"
     ]
    },
    {
     "ename": "ValueError",
     "evalue": "operands could not be broadcast together with shapes (5,) (2,) ",
     "output_type": "error",
     "traceback": [
      "\u001b[0;31m---------------------------------------------------------------------------\u001b[0m",
      "\u001b[0;31mValueError\u001b[0m                                Traceback (most recent call last)",
      "Cell \u001b[0;32mIn[28], line 99\u001b[0m\n\u001b[1;32m     94\u001b[0m         \u001b[38;5;28;01mreturn\u001b[39;00m(distance)\n\u001b[1;32m     98\u001b[0m \u001b[38;5;66;03m# test\u001b[39;00m\n\u001b[0;32m---> 99\u001b[0m model1 \u001b[38;5;241m=\u001b[39m KNearestNeighbourClassifier(trainDataDF \u001b[38;5;241m=\u001b[39m training_data, testDataDF \u001b[38;5;241m=\u001b[39m y_test_for_cross_validation, trueLabelsTestDataDF \u001b[38;5;241m=\u001b[39m X_test_for_cross_validation)\n\u001b[1;32m    100\u001b[0m model2 \u001b[38;5;241m=\u001b[39m KNearestNeighbourClassifier(trainDataDF \u001b[38;5;241m=\u001b[39m training_data, k\u001b[38;5;241m=\u001b[39m\u001b[38;5;241m15\u001b[39m)\n\u001b[1;32m    103\u001b[0m \u001b[38;5;28mprint\u001b[39m(model1\u001b[38;5;241m.\u001b[39mpredict(y_final_test[\u001b[38;5;241m1\u001b[39m]))\n",
      "Cell \u001b[0;32mIn[28], line 10\u001b[0m, in \u001b[0;36mKNearestNeighbourClassifier.__init__\u001b[0;34m(self, trainDataDF, k, testDataDF, trueLabelsTestDataDF)\u001b[0m\n\u001b[1;32m      8\u001b[0m \u001b[38;5;28mself\u001b[39m\u001b[38;5;241m.\u001b[39mtrueLabelsTestDataDF \u001b[38;5;241m=\u001b[39m trueLabelsTestDataDF\n\u001b[1;32m      9\u001b[0m \u001b[38;5;28;01mif\u001b[39;00m k\u001b[38;5;241m==\u001b[39m\u001b[38;5;28;01mNone\u001b[39;00m:\n\u001b[0;32m---> 10\u001b[0m     \u001b[38;5;28mself\u001b[39m\u001b[38;5;241m.\u001b[39mk \u001b[38;5;241m=\u001b[39m \u001b[38;5;28mself\u001b[39m\u001b[38;5;241m.\u001b[39moptimizeK()\n\u001b[1;32m     11\u001b[0m \u001b[38;5;28;01melse\u001b[39;00m:\n\u001b[1;32m     12\u001b[0m     \u001b[38;5;28mself\u001b[39m\u001b[38;5;241m.\u001b[39mk \u001b[38;5;241m=\u001b[39m k\n",
      "Cell \u001b[0;32mIn[28], line 28\u001b[0m, in \u001b[0;36mKNearestNeighbourClassifier.optimizeK\u001b[0;34m(self)\u001b[0m\n\u001b[1;32m     26\u001b[0m \u001b[38;5;28;01mfor\u001b[39;00m index, row \u001b[38;5;129;01min\u001b[39;00m \u001b[38;5;28mself\u001b[39m\u001b[38;5;241m.\u001b[39mtestDataDF\u001b[38;5;241m.\u001b[39miterrows():\n\u001b[1;32m     27\u001b[0m     functionInput \u001b[38;5;241m=\u001b[39m [row[\u001b[38;5;241m0\u001b[39m], row[\u001b[38;5;241m1\u001b[39m]]\n\u001b[0;32m---> 28\u001b[0m     category \u001b[38;5;241m=\u001b[39m \u001b[38;5;28mself\u001b[39m\u001b[38;5;241m.\u001b[39mpredict(functionInput, potentialK)\n\u001b[1;32m     29\u001b[0m     listOfPredictions\u001b[38;5;241m.\u001b[39mappend(category)\n\u001b[1;32m     30\u001b[0m \u001b[38;5;66;03m# calculate the accuracy for each k, save it in a list\u001b[39;00m\n",
      "Cell \u001b[0;32mIn[28], line 66\u001b[0m, in \u001b[0;36mKNearestNeighbourClassifier.predict\u001b[0;34m(self, testDataList, k)\u001b[0m\n\u001b[1;32m     64\u001b[0m \u001b[38;5;66;03m# calculate distance (helper function) from every old data point to new datapoint and save distances as values in dictionary where their index is the key (to identify later)\u001b[39;00m\n\u001b[1;32m     65\u001b[0m \u001b[38;5;28;01mfor\u001b[39;00m index, row \u001b[38;5;129;01min\u001b[39;00m \u001b[38;5;28mself\u001b[39m\u001b[38;5;241m.\u001b[39mtrainDataDF\u001b[38;5;241m.\u001b[39miterrows():\n\u001b[0;32m---> 66\u001b[0m     dictToSaveDistances[index] \u001b[38;5;241m=\u001b[39m \u001b[38;5;28mself\u001b[39m\u001b[38;5;241m.\u001b[39m__getEuclideanDistance(row, testDataList)\n\u001b[1;32m     68\u001b[0m \u001b[38;5;66;03m# Either use the k passed to this function, or the one prepared when instantiating a classifier\u001b[39;00m\n\u001b[1;32m     69\u001b[0m chosenK \u001b[38;5;241m=\u001b[39m [\u001b[38;5;28mself\u001b[39m\u001b[38;5;241m.\u001b[39mk \u001b[38;5;28;01mif\u001b[39;00m k \u001b[38;5;241m==\u001b[39m \u001b[38;5;28;01mNone\u001b[39;00m \u001b[38;5;28;01melse\u001b[39;00m k][\u001b[38;5;241m0\u001b[39m]\n",
      "Cell \u001b[0;32mIn[28], line 92\u001b[0m, in \u001b[0;36mKNearestNeighbourClassifier.__getEuclideanDistance\u001b[0;34m(point1, point2)\u001b[0m\n\u001b[1;32m     89\u001b[0m point1 \u001b[38;5;241m=\u001b[39m np\u001b[38;5;241m.\u001b[39marray(point1)\n\u001b[1;32m     90\u001b[0m point2 \u001b[38;5;241m=\u001b[39m np\u001b[38;5;241m.\u001b[39marray(point2)\n\u001b[0;32m---> 92\u001b[0m distance \u001b[38;5;241m=\u001b[39m np\u001b[38;5;241m.\u001b[39msqrt(np\u001b[38;5;241m.\u001b[39msum((point1 \u001b[38;5;241m-\u001b[39m point2) \u001b[38;5;241m*\u001b[39m\u001b[38;5;241m*\u001b[39m \u001b[38;5;241m2\u001b[39m))\n\u001b[1;32m     94\u001b[0m \u001b[38;5;28;01mreturn\u001b[39;00m(distance)\n",
      "\u001b[0;31mValueError\u001b[0m: operands could not be broadcast together with shapes (5,) (2,) "
     ]
    }
   ],
   "source": [
    "# define class\n",
    "class KNearestNeighbourClassifier:\n",
    "\n",
    "    # constructor\n",
    "    def __init__(self, trainDataDF, k = None, testDataDF = None, trueLabelsTestDataDF = None):\n",
    "        self.trainDataDF = trainDataDF\n",
    "        self.testDataDF = testDataDF\n",
    "        self.trueLabelsTestDataDF = trueLabelsTestDataDF\n",
    "        if k==None:\n",
    "            self.k = self.optimizeK()\n",
    "        else:\n",
    "            self.k = k\n",
    "\n",
    "    def __str__(self):\n",
    "        return \"K Nearest Neighbour Classifier Object\"\n",
    "\n",
    "\n",
    "    # define methods\n",
    "\n",
    "    def optimizeK(self):\n",
    "        accuracyForEachK = []\n",
    "        # loop over all possible k\n",
    "        for potentialK in range(1,len(self.trainDataDF)+1):\n",
    "            listOfPredictions = []\n",
    "            # in each k loop, loop over all test data cases, build a list with the predictions for each case, given the k\n",
    "            for index, row in self.testDataDF.iterrows():\n",
    "                functionInput = [row[0], row[1]]\n",
    "                category = self.predict(functionInput, potentialK)\n",
    "                listOfPredictions.append(category)\n",
    "            # calculate the accuracy for each k, save it in a list\n",
    "            comparison = self.trueLabelsTestDataDF == listOfPredictions\n",
    "            correctClassifiedCounter= 0\n",
    "            for item in comparison:\n",
    "                if item == True:\n",
    "                    correctClassifiedCounter+=1\n",
    "            accuracyForEachK.append(correctClassifiedCounter/len(listOfPredictions))\n",
    "        # choose the key that optimzes the accuracy\n",
    "        optimizedK = accuracyForEachK.index(max(accuracyForEachK))+1\n",
    "                \n",
    "        return(optimizedK)\n",
    "    \n",
    "\n",
    "    def predict(self, testDataList, k = None):\n",
    "        \"\"\"\n",
    "        function that returns the predicted/classified category for a new datapoint using old datapoints that have categories, using k-NN logic.\n",
    "\n",
    "        Parameters\n",
    "        ---------------\n",
    "        trainDataDF: pd. Data frame with two input features and one output category\n",
    "        k: number of closest datapoint that the category should be dirived from\n",
    "        testDataList: list with two integers (that represent the feature 1 and 2 attribute)\n",
    "\n",
    "        Returns\n",
    "        ---------------\n",
    "        category: string with predicted category\n",
    "            \n",
    "        \"\"\"\n",
    "    \n",
    "        # initiate dict and two list to hold information, which we will need to save for further processes\n",
    "        dictToSaveDistances = {}\n",
    "        kMinIndexes = []\n",
    "        categoriesOfMinDistanceEntries = []\n",
    "\n",
    "        # calculate distance (helper function) from every old data point to new datapoint and save distances as values in dictionary where their index is the key (to identify later)\n",
    "        for index, row in self.trainDataDF.iterrows():\n",
    "            dictToSaveDistances[index] = self.__getEuclideanDistance(row, testDataList)\n",
    "\n",
    "        # Either use the k passed to this function, or the one prepared when instantiating a classifier\n",
    "        chosenK = [self.k if k == None else k][0]\n",
    "\n",
    "        # identify k min distances and save indexes of those in a list \n",
    "        for i in range(chosenK):\n",
    "            MinKey = min(dictToSaveDistances, key = dictToSaveDistances.get)\n",
    "            kMinIndexes.append(MinKey)\n",
    "            del dictToSaveDistances[MinKey]\n",
    "\n",
    "        # for each of the indexes of k minimal distances, retrieve category and save in list\n",
    "        for i in kMinIndexes:\n",
    "            categoriesOfMinDistanceEntries.append(self.trainDataDF[\"outcome\"].loc[i])\n",
    "        \n",
    "        # retrieve most common category from k min distance cases, and return it as predicted category\n",
    "        category = max(categoriesOfMinDistanceEntries,key=categoriesOfMinDistanceEntries.count)\n",
    "        return(category)\n",
    "    \n",
    "    # helper function: calculate euclidean distance with 2 coordinates of the train and two coordinates of the test data \n",
    "    ### todo: can I generalize the function to take in any input coordinate length?!\n",
    "    @staticmethod\n",
    "    def __getEuclideanDistance(point1, point2):\n",
    "        point1 = np.array(point1)\n",
    "        point2 = np.array(point2)\n",
    "\n",
    "        distance = np.sqrt(np.sum((point1 - point2) ** 2))\n",
    "\n",
    "        return(distance)\n",
    "\n",
    "\n",
    "\n",
    "# test\n",
    "model1 = KNearestNeighbourClassifier(trainDataDF = training_data, testDataDF = y_test_for_cross_validation, trueLabelsTestDataDF = X_test_for_cross_validation)\n",
    "model2 = KNearestNeighbourClassifier(trainDataDF = training_data, k=15)\n",
    "\n",
    "\n",
    "print(model1.predict(y_final_test[1]))\n",
    "print(model2.predict(y_final_test[1]))\n",
    "print(X_final_test[1])"
   ]
  },
  {
   "cell_type": "code",
   "execution_count": 26,
   "metadata": {},
   "outputs": [
    {
     "data": {
      "text/plain": [
       "6.48074069840786"
      ]
     },
     "execution_count": 26,
     "metadata": {},
     "output_type": "execute_result"
    }
   ],
   "source": [
    "def geted(point1, point2):\n",
    "    point1 = np.array(point1)\n",
    "    point2 = np.array(point2)\n",
    "\n",
    "    distance = np.sqrt(np.sum((point1 - point2) ** 2))\n",
    "\n",
    "    return(distance)\n",
    "\n",
    "geted([1, 1, 1], [5, 2, 6])"
   ]
  },
  {
   "cell_type": "code",
   "execution_count": 1,
   "metadata": {},
   "outputs": [
    {
     "name": "stderr",
     "output_type": "stream",
     "text": [
      "/Users/ellaalle/anaconda3/lib/python3.11/site-packages/pandas/core/arrays/masked.py:60: UserWarning: Pandas requires version '1.3.6' or newer of 'bottleneck' (version '1.3.5' currently installed).\n",
      "  from pandas.core import (\n"
     ]
    }
   ],
   "source": [
    "import ucimlrepo"
   ]
  },
  {
   "cell_type": "code",
   "execution_count": 3,
   "metadata": {},
   "outputs": [
    {
     "name": "stdout",
     "output_type": "stream",
     "text": [
      "{'uci_id': 53, 'name': 'Iris', 'repository_url': 'https://archive.ics.uci.edu/dataset/53/iris', 'data_url': 'https://archive.ics.uci.edu/static/public/53/data.csv', 'abstract': 'A small classic dataset from Fisher, 1936. One of the earliest known datasets used for evaluating classification methods.\\n', 'area': 'Biology', 'tasks': ['Classification'], 'characteristics': ['Tabular'], 'num_instances': 150, 'num_features': 4, 'feature_types': ['Real'], 'demographics': [], 'target_col': ['class'], 'index_col': None, 'has_missing_values': 'no', 'missing_values_symbol': None, 'year_of_dataset_creation': 1936, 'last_updated': 'Tue Sep 12 2023', 'dataset_doi': '10.24432/C56C76', 'creators': ['R. A. Fisher'], 'intro_paper': {'ID': 191, 'type': 'NATIVE', 'title': 'The Iris data set: In search of the source of virginica', 'authors': 'A. Unwin, K. Kleinman', 'venue': 'Significance, 2021', 'year': 2021, 'journal': 'Significance, 2021', 'DOI': '1740-9713.01589', 'URL': 'https://www.semanticscholar.org/paper/4599862ea877863669a6a8e63a3c707a787d5d7e', 'sha': None, 'corpus': None, 'arxiv': None, 'mag': None, 'acl': None, 'pmid': None, 'pmcid': None}, 'additional_info': {'summary': 'This is one of the earliest datasets used in the literature on classification methods and widely used in statistics and machine learning.  The data set contains 3 classes of 50 instances each, where each class refers to a type of iris plant.  One class is linearly separable from the other 2; the latter are not linearly separable from each other.\\n\\nPredicted attribute: class of iris plant.\\n\\nThis is an exceedingly simple domain.\\n\\nThis data differs from the data presented in Fishers article (identified by Steve Chadwick,  spchadwick@espeedaz.net ).  The 35th sample should be: 4.9,3.1,1.5,0.2,\"Iris-setosa\" where the error is in the fourth feature. The 38th sample: 4.9,3.6,1.4,0.1,\"Iris-setosa\" where the errors are in the second and third features.  ', 'purpose': 'N/A', 'funded_by': None, 'instances_represent': 'Each instance is a plant', 'recommended_data_splits': None, 'sensitive_data': None, 'preprocessing_description': None, 'variable_info': None, 'citation': None}}\n",
      "           name     role         type demographic  \\\n",
      "0  sepal length  Feature   Continuous        None   \n",
      "1   sepal width  Feature   Continuous        None   \n",
      "2  petal length  Feature   Continuous        None   \n",
      "3   petal width  Feature   Continuous        None   \n",
      "4         class   Target  Categorical        None   \n",
      "\n",
      "                                         description units missing_values  \n",
      "0                                               None    cm             no  \n",
      "1                                               None    cm             no  \n",
      "2                                               None    cm             no  \n",
      "3                                               None    cm             no  \n",
      "4  class of iris plant: Iris Setosa, Iris Versico...  None             no  \n"
     ]
    }
   ],
   "source": [
    "from ucimlrepo import fetch_ucirepo \n",
    "  \n",
    "# fetch dataset \n",
    "iris = fetch_ucirepo(id=53) \n",
    "  \n",
    "# data (as pandas dataframes) \n",
    "X = iris.data.features \n",
    "y = iris.data.targets \n",
    "\n",
    "# variable information \n",
    "print(iris.variables) "
   ]
  },
  {
   "cell_type": "code",
   "execution_count": 6,
   "metadata": {},
   "outputs": [
    {
     "data": {
      "text/plain": [
       "ucimlrepo.dotdict.dotdict"
      ]
     },
     "execution_count": 6,
     "metadata": {},
     "output_type": "execute_result"
    }
   ],
   "source": [
    "type(iris)"
   ]
  }
 ],
 "metadata": {
  "kernelspec": {
   "display_name": "base",
   "language": "python",
   "name": "python3"
  },
  "language_info": {
   "codemirror_mode": {
    "name": "ipython",
    "version": 3
   },
   "file_extension": ".py",
   "mimetype": "text/x-python",
   "name": "python",
   "nbconvert_exporter": "python",
   "pygments_lexer": "ipython3",
   "version": "3.11.5"
  }
 },
 "nbformat": 4,
 "nbformat_minor": 2
}
