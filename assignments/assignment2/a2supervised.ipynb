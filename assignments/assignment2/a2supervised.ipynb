{
 "cells": [
  {
   "cell_type": "markdown",
   "metadata": {},
   "source": [
    "# Introduction to Machine Learning — 2024/2025 Supervised Learning\n",
    "\n",
    "In the following exercises the objective is to program algorithms that, given examples and\n",
    "an expected output, learn to mimic the behavior present in the data."
   ]
  },
  {
   "cell_type": "code",
   "execution_count": 124,
   "metadata": {},
   "outputs": [],
   "source": [
    "# load important packages\n",
    "\n",
    "import numpy as np\n",
    "import random\n",
    "from sklearn.model_selection import train_test_split\n",
    "import pandas as pd\n",
    "import matplotlib.pyplot as plt\n",
    "from numpy import genfromtxt\n",
    "from tabulate import tabulate\n"
   ]
  },
  {
   "cell_type": "markdown",
   "metadata": {},
   "source": [
    "### Exercise 1\n",
    "\n",
    "The “network” in Fig. 1 represents a perceptron with two inputs and an output that can also be described by the following equations:\n",
    "\n",
    "    o=f(s), s=w0 +w1 ·x1 +w2 ·x2 \n",
    "    f(s)=   1, if s>0.5 \n",
    "            0, if s≤0.5"
   ]
  },
  {
   "cell_type": "markdown",
   "metadata": {},
   "source": [
    "1. Choose one of the binary operations (AND or OR) and build two vectors: one with all the different input combinations of two bit patterns (4 vectors): where 0 stands for FALSE and 1 for TRUE ; and another vector containing the target / desired response, d, for each of the corresponding input vectors, as result of the chosen operation, namely: OR {0, 1, 1, 1} or AND {0, 0, 0, 1}."
   ]
  },
  {
   "cell_type": "code",
   "execution_count": 125,
   "metadata": {},
   "outputs": [
    {
     "name": "stdout",
     "output_type": "stream",
     "text": [
      "[[0 0]\n",
      " [0 1]\n",
      " [1 0]\n",
      " [1 1]]\n",
      "[0 0 0 1]\n",
      "[0 1 1 1]\n"
     ]
    }
   ],
   "source": [
    "arrayBitPatterns = np.array(((0,0), (0,1), (1,0), (1,1)))\n",
    "\n",
    "arrayANDSolution = np.array((0,0,0,1))\n",
    "arrayORSolution = np.array((0,1,1,1))\n",
    "print(arrayBitPatterns)\n",
    "print(arrayANDSolution)\n",
    "print(arrayORSolution)"
   ]
  },
  {
   "cell_type": "markdown",
   "metadata": {},
   "source": [
    "2. Initialize w0, w1, and w2 to small random values and, for each input pattern, calculate the corresponding output, storing it in vector o."
   ]
  },
  {
   "cell_type": "code",
   "execution_count": 126,
   "metadata": {},
   "outputs": [
    {
     "data": {
      "text/plain": [
       "[0, 1, 0, 1]"
      ]
     },
     "execution_count": 126,
     "metadata": {},
     "output_type": "execute_result"
    }
   ],
   "source": [
    "def perceptron(w0, w1, w2, arrayBitPatterns):\n",
    "    listOutputPattern = []\n",
    "    for bitPair in arrayBitPatterns:\n",
    "        x1 = bitPair[0]\n",
    "        x2 = bitPair[1]\n",
    "        s = w0 + w1 * x1 + w2 * x2\n",
    "        if s > 0.5:\n",
    "            listOutputPattern.append(1)\n",
    "        if s <= 0.5:\n",
    "            listOutputPattern.append(0)\n",
    "    return(listOutputPattern)\n",
    "    \n",
    "\n",
    "w0 = 0\n",
    "w1 = 0.2\n",
    "w2 = 0.8\n",
    "\n",
    "\n",
    "o = perceptron(w0, w1, w2, arrayBitPatterns)\n",
    "o"
   ]
  },
  {
   "cell_type": "code",
   "execution_count": 127,
   "metadata": {},
   "outputs": [],
   "source": [
    "# oUnderstandable = []\n",
    "# o = []\n",
    "# for i in range(10):\n",
    "#     w0 = round(random.random(), 2)\n",
    "#     w1 = round(random.random(),2)\n",
    "#     w2 = round(random.random(), 2)\n",
    "\n",
    "#     oUnderstandable.append(f\"w0: {w0}, w1: {w1}, w2: {w2}, output: {perceptron(w0, w1, w2, arrayBitPatterns)}\")\n",
    "#     o.append(perceptron(w0, w1, w2, arrayBitPatterns))\n",
    "\n",
    "# print(oUnderstandable)\n",
    "# print(o)\n"
   ]
  },
  {
   "cell_type": "markdown",
   "metadata": {},
   "source": [
    "3. Calculate the difference / error (e = d − o) between the desired response (d) and the output (o), for each output."
   ]
  },
  {
   "cell_type": "code",
   "execution_count": 128,
   "metadata": {},
   "outputs": [
    {
     "data": {
      "text/plain": [
       "array([ 0, -1,  0,  0])"
      ]
     },
     "execution_count": 128,
     "metadata": {},
     "output_type": "execute_result"
    }
   ],
   "source": [
    "d = arrayANDSolution\n",
    "e = d - o \n",
    "e"
   ]
  },
  {
   "cell_type": "code",
   "execution_count": 129,
   "metadata": {},
   "outputs": [],
   "source": [
    "# error = []\n",
    "# for item in o:\n",
    "#     e = d - o\n",
    "#     error.append(e)\n",
    "\n",
    "# e"
   ]
  },
  {
   "cell_type": "markdown",
   "metadata": {},
   "source": [
    "4. For each error in e, add to the update term for w0 (∆w0), w1 (∆w1), and w2 (∆w2) according to:\n",
    "\n",
    "\n",
    "    ∆w0 = ∆w0 + α · e\n",
    "\n",
    "    ∆w1 =∆w1 +α·x1 · e\n",
    "    \n",
    "    ∆w2 =∆w2 +α·x2 · e\n"
   ]
  },
  {
   "cell_type": "code",
   "execution_count": 130,
   "metadata": {},
   "outputs": [
    {
     "name": "stdout",
     "output_type": "stream",
     "text": [
      "Initial random weights: (0.14, 0.47, 0.85)\n"
     ]
    },
    {
     "data": {
      "text/plain": [
       "array([[ 0.    ,  0.14  ,  0.47  ,  0.85  ],\n",
       "       [-1.    ,  0.1399,  0.47  ,  0.8499],\n",
       "       [-1.    ,  0.1398,  0.4699,  0.8499],\n",
       "       [ 0.    ,  0.1398,  0.4699,  0.8499]])"
      ]
     },
     "execution_count": 130,
     "metadata": {},
     "output_type": "execute_result"
    }
   ],
   "source": [
    "alpha = 0.0001\n",
    "w0 = round(random.random(), 2)\n",
    "w1 = round(random.random(),2)\n",
    "w2 = round(random.random(), 2)\n",
    "print(f\"Initial random weights: {w0, w1, w2}\")\n",
    "\n",
    "o = perceptron(w0, w1, w2, arrayBitPatterns)\n",
    "\n",
    "e = d - o\n",
    "arrayErrorsAndWeights = np.zeros((4,4))\n",
    "position = 0\n",
    "for bitPair in arrayBitPatterns:\n",
    "    x1 = bitPair[0]\n",
    "    x2 = bitPair[1]\n",
    "\n",
    "    if e[position] != 0:\n",
    "        w0 += alpha * e[position]\n",
    "        w1 += alpha * e[position] * x1\n",
    "        w2 += alpha * e[position] * x2\n",
    "\n",
    "    arrayErrorsAndWeights[position] = [e[position], w0, w1, w2]\n",
    "\n",
    "    position += 1\n",
    "\n",
    "arrayErrorsAndWeights"
   ]
  },
  {
   "cell_type": "markdown",
   "metadata": {},
   "source": [
    "5. Prepare your code to cycle through the whole dataset (in this case, 4 examples) several times doing the above procedure (to train for several \"epochs\").\n",
    "6. After all examples are presented (at the end of each epoch), update w0, w1 and w2. so that in the next iteration the error will decrease. Repeat for 20 epochs."
   ]
  },
  {
   "cell_type": "code",
   "execution_count": 131,
   "metadata": {},
   "outputs": [
    {
     "name": "stdout",
     "output_type": "stream",
     "text": [
      "Initial random weights: (0.96, 0.62, 0.92)\n",
      "[[[-1.    0.86  0.62  0.92]\n",
      "  [-1.    0.76  0.62  0.82]\n",
      "  [-1.    0.66  0.52  0.82]\n",
      "  [ 0.    0.66  0.52  0.82]]\n",
      "\n",
      " [[-1.    0.56  0.52  0.82]\n",
      "  [-1.    0.46  0.52  0.72]\n",
      "  [-1.    0.36  0.42  0.72]\n",
      "  [ 0.    0.36  0.42  0.72]]\n",
      "\n",
      " [[ 0.    0.36  0.42  0.72]\n",
      "  [-1.    0.26  0.42  0.62]\n",
      "  [-1.    0.16  0.32  0.62]\n",
      "  [ 0.    0.16  0.32  0.62]]\n",
      "\n",
      " [[ 0.    0.16  0.32  0.62]\n",
      "  [-1.    0.06  0.32  0.52]\n",
      "  [ 0.    0.06  0.32  0.52]\n",
      "  [ 0.    0.06  0.32  0.52]]\n",
      "\n",
      " [[ 0.    0.06  0.32  0.52]\n",
      "  [-1.   -0.04  0.32  0.42]\n",
      "  [ 0.   -0.04  0.32  0.42]\n",
      "  [ 0.   -0.04  0.32  0.42]]\n",
      "\n",
      " [[ 0.   -0.04  0.32  0.42]\n",
      "  [ 0.   -0.04  0.32  0.42]\n",
      "  [ 0.   -0.04  0.32  0.42]\n",
      "  [ 0.   -0.04  0.32  0.42]]\n",
      "\n",
      " [[ 0.   -0.04  0.32  0.42]\n",
      "  [ 0.   -0.04  0.32  0.42]\n",
      "  [ 0.   -0.04  0.32  0.42]\n",
      "  [ 0.   -0.04  0.32  0.42]]\n",
      "\n",
      " [[ 0.   -0.04  0.32  0.42]\n",
      "  [ 0.   -0.04  0.32  0.42]\n",
      "  [ 0.   -0.04  0.32  0.42]\n",
      "  [ 0.   -0.04  0.32  0.42]]\n",
      "\n",
      " [[ 0.   -0.04  0.32  0.42]\n",
      "  [ 0.   -0.04  0.32  0.42]\n",
      "  [ 0.   -0.04  0.32  0.42]\n",
      "  [ 0.   -0.04  0.32  0.42]]\n",
      "\n",
      " [[ 0.   -0.04  0.32  0.42]\n",
      "  [ 0.   -0.04  0.32  0.42]\n",
      "  [ 0.   -0.04  0.32  0.42]\n",
      "  [ 0.   -0.04  0.32  0.42]]\n",
      "\n",
      " [[ 0.   -0.04  0.32  0.42]\n",
      "  [ 0.   -0.04  0.32  0.42]\n",
      "  [ 0.   -0.04  0.32  0.42]\n",
      "  [ 0.   -0.04  0.32  0.42]]\n",
      "\n",
      " [[ 0.   -0.04  0.32  0.42]\n",
      "  [ 0.   -0.04  0.32  0.42]\n",
      "  [ 0.   -0.04  0.32  0.42]\n",
      "  [ 0.   -0.04  0.32  0.42]]\n",
      "\n",
      " [[ 0.   -0.04  0.32  0.42]\n",
      "  [ 0.   -0.04  0.32  0.42]\n",
      "  [ 0.   -0.04  0.32  0.42]\n",
      "  [ 0.   -0.04  0.32  0.42]]\n",
      "\n",
      " [[ 0.   -0.04  0.32  0.42]\n",
      "  [ 0.   -0.04  0.32  0.42]\n",
      "  [ 0.   -0.04  0.32  0.42]\n",
      "  [ 0.   -0.04  0.32  0.42]]\n",
      "\n",
      " [[ 0.   -0.04  0.32  0.42]\n",
      "  [ 0.   -0.04  0.32  0.42]\n",
      "  [ 0.   -0.04  0.32  0.42]\n",
      "  [ 0.   -0.04  0.32  0.42]]\n",
      "\n",
      " [[ 0.   -0.04  0.32  0.42]\n",
      "  [ 0.   -0.04  0.32  0.42]\n",
      "  [ 0.   -0.04  0.32  0.42]\n",
      "  [ 0.   -0.04  0.32  0.42]]\n",
      "\n",
      " [[ 0.   -0.04  0.32  0.42]\n",
      "  [ 0.   -0.04  0.32  0.42]\n",
      "  [ 0.   -0.04  0.32  0.42]\n",
      "  [ 0.   -0.04  0.32  0.42]]\n",
      "\n",
      " [[ 0.   -0.04  0.32  0.42]\n",
      "  [ 0.   -0.04  0.32  0.42]\n",
      "  [ 0.   -0.04  0.32  0.42]\n",
      "  [ 0.   -0.04  0.32  0.42]]\n",
      "\n",
      " [[ 0.   -0.04  0.32  0.42]\n",
      "  [ 0.   -0.04  0.32  0.42]\n",
      "  [ 0.   -0.04  0.32  0.42]\n",
      "  [ 0.   -0.04  0.32  0.42]]\n",
      "\n",
      " [[ 0.   -0.04  0.32  0.42]\n",
      "  [ 0.   -0.04  0.32  0.42]\n",
      "  [ 0.   -0.04  0.32  0.42]\n",
      "  [ 0.   -0.04  0.32  0.42]]]\n"
     ]
    }
   ],
   "source": [
    "alpha = 0.1\n",
    "w0 = round(random.random(), 2)\n",
    "w1 = round(random.random(),2)\n",
    "w2 = round(random.random(), 2)\n",
    "print(f\"Initial random weights: {w0, w1, w2}\")\n",
    "\n",
    "numberEpochs = 20\n",
    "allEpochsArrayErrorAndWeights = np.zeros((numberEpochs, 4, 4))\n",
    "\n",
    "for i in range(numberEpochs):\n",
    "    o = perceptron(w0, w1, w2, arrayBitPatterns)\n",
    "\n",
    "    e = d - o\n",
    "    arrayErrorsAndWeights = np.zeros((4,4))\n",
    "    position = 0\n",
    "    for bitPair in arrayBitPatterns:\n",
    "        x1 = bitPair[0]\n",
    "        x2 = bitPair[1]\n",
    "\n",
    "        if e[position] != 0:\n",
    "            w0 += alpha * e[position]\n",
    "            w1 += alpha * e[position] * x1\n",
    "            w2 += alpha * e[position] * x2\n",
    "\n",
    "        arrayErrorsAndWeights[position] = [e[position], w0, w1, w2]\n",
    "\n",
    "        position += 1\n",
    "\n",
    "    allEpochsArrayErrorAndWeights[i] = arrayErrorsAndWeights\n",
    "\n",
    "print(allEpochsArrayErrorAndWeights)"
   ]
  },
  {
   "cell_type": "code",
   "execution_count": 132,
   "metadata": {},
   "outputs": [
    {
     "data": {
      "text/plain": [
       "array([[[-1.  ,  0.86,  0.62,  0.92],\n",
       "        [-1.  ,  0.76,  0.62,  0.82],\n",
       "        [-1.  ,  0.66,  0.52,  0.82],\n",
       "        [ 0.  ,  0.66,  0.52,  0.82]],\n",
       "\n",
       "       [[-1.  ,  0.56,  0.52,  0.82],\n",
       "        [-1.  ,  0.46,  0.52,  0.72],\n",
       "        [-1.  ,  0.36,  0.42,  0.72],\n",
       "        [ 0.  ,  0.36,  0.42,  0.72]],\n",
       "\n",
       "       [[ 0.  ,  0.36,  0.42,  0.72],\n",
       "        [-1.  ,  0.26,  0.42,  0.62],\n",
       "        [-1.  ,  0.16,  0.32,  0.62],\n",
       "        [ 0.  ,  0.16,  0.32,  0.62]],\n",
       "\n",
       "       [[ 0.  ,  0.16,  0.32,  0.62],\n",
       "        [-1.  ,  0.06,  0.32,  0.52],\n",
       "        [ 0.  ,  0.06,  0.32,  0.52],\n",
       "        [ 0.  ,  0.06,  0.32,  0.52]],\n",
       "\n",
       "       [[ 0.  ,  0.06,  0.32,  0.52],\n",
       "        [-1.  , -0.04,  0.32,  0.42],\n",
       "        [ 0.  , -0.04,  0.32,  0.42],\n",
       "        [ 0.  , -0.04,  0.32,  0.42]],\n",
       "\n",
       "       [[ 0.  , -0.04,  0.32,  0.42],\n",
       "        [ 0.  , -0.04,  0.32,  0.42],\n",
       "        [ 0.  , -0.04,  0.32,  0.42],\n",
       "        [ 0.  , -0.04,  0.32,  0.42]],\n",
       "\n",
       "       [[ 0.  , -0.04,  0.32,  0.42],\n",
       "        [ 0.  , -0.04,  0.32,  0.42],\n",
       "        [ 0.  , -0.04,  0.32,  0.42],\n",
       "        [ 0.  , -0.04,  0.32,  0.42]],\n",
       "\n",
       "       [[ 0.  , -0.04,  0.32,  0.42],\n",
       "        [ 0.  , -0.04,  0.32,  0.42],\n",
       "        [ 0.  , -0.04,  0.32,  0.42],\n",
       "        [ 0.  , -0.04,  0.32,  0.42]],\n",
       "\n",
       "       [[ 0.  , -0.04,  0.32,  0.42],\n",
       "        [ 0.  , -0.04,  0.32,  0.42],\n",
       "        [ 0.  , -0.04,  0.32,  0.42],\n",
       "        [ 0.  , -0.04,  0.32,  0.42]],\n",
       "\n",
       "       [[ 0.  , -0.04,  0.32,  0.42],\n",
       "        [ 0.  , -0.04,  0.32,  0.42],\n",
       "        [ 0.  , -0.04,  0.32,  0.42],\n",
       "        [ 0.  , -0.04,  0.32,  0.42]],\n",
       "\n",
       "       [[ 0.  , -0.04,  0.32,  0.42],\n",
       "        [ 0.  , -0.04,  0.32,  0.42],\n",
       "        [ 0.  , -0.04,  0.32,  0.42],\n",
       "        [ 0.  , -0.04,  0.32,  0.42]],\n",
       "\n",
       "       [[ 0.  , -0.04,  0.32,  0.42],\n",
       "        [ 0.  , -0.04,  0.32,  0.42],\n",
       "        [ 0.  , -0.04,  0.32,  0.42],\n",
       "        [ 0.  , -0.04,  0.32,  0.42]],\n",
       "\n",
       "       [[ 0.  , -0.04,  0.32,  0.42],\n",
       "        [ 0.  , -0.04,  0.32,  0.42],\n",
       "        [ 0.  , -0.04,  0.32,  0.42],\n",
       "        [ 0.  , -0.04,  0.32,  0.42]],\n",
       "\n",
       "       [[ 0.  , -0.04,  0.32,  0.42],\n",
       "        [ 0.  , -0.04,  0.32,  0.42],\n",
       "        [ 0.  , -0.04,  0.32,  0.42],\n",
       "        [ 0.  , -0.04,  0.32,  0.42]],\n",
       "\n",
       "       [[ 0.  , -0.04,  0.32,  0.42],\n",
       "        [ 0.  , -0.04,  0.32,  0.42],\n",
       "        [ 0.  , -0.04,  0.32,  0.42],\n",
       "        [ 0.  , -0.04,  0.32,  0.42]],\n",
       "\n",
       "       [[ 0.  , -0.04,  0.32,  0.42],\n",
       "        [ 0.  , -0.04,  0.32,  0.42],\n",
       "        [ 0.  , -0.04,  0.32,  0.42],\n",
       "        [ 0.  , -0.04,  0.32,  0.42]],\n",
       "\n",
       "       [[ 0.  , -0.04,  0.32,  0.42],\n",
       "        [ 0.  , -0.04,  0.32,  0.42],\n",
       "        [ 0.  , -0.04,  0.32,  0.42],\n",
       "        [ 0.  , -0.04,  0.32,  0.42]],\n",
       "\n",
       "       [[ 0.  , -0.04,  0.32,  0.42],\n",
       "        [ 0.  , -0.04,  0.32,  0.42],\n",
       "        [ 0.  , -0.04,  0.32,  0.42],\n",
       "        [ 0.  , -0.04,  0.32,  0.42]],\n",
       "\n",
       "       [[ 0.  , -0.04,  0.32,  0.42],\n",
       "        [ 0.  , -0.04,  0.32,  0.42],\n",
       "        [ 0.  , -0.04,  0.32,  0.42],\n",
       "        [ 0.  , -0.04,  0.32,  0.42]],\n",
       "\n",
       "       [[ 0.  , -0.04,  0.32,  0.42],\n",
       "        [ 0.  , -0.04,  0.32,  0.42],\n",
       "        [ 0.  , -0.04,  0.32,  0.42],\n",
       "        [ 0.  , -0.04,  0.32,  0.42]]])"
      ]
     },
     "execution_count": 132,
     "metadata": {},
     "output_type": "execute_result"
    }
   ],
   "source": [
    "saveResultsForGraph = allEpochsArrayErrorAndWeights\n",
    "saveResultsForGraph"
   ]
  },
  {
   "cell_type": "code",
   "execution_count": 133,
   "metadata": {},
   "outputs": [
    {
     "data": {
      "image/png": "[encoded data removed]",
      "text/plain": [
       "<Figure size 640x480 with 1 Axes>"
      ]
     },
     "metadata": {},
     "output_type": "display_data"
    }
   ],
   "source": [
    "# visualize (a): Plot the value of the error at the end of each epoch, how does it behave?\n",
    "\n",
    "numberEpochs = range(len(saveResultsForGraph))\n",
    "numberEpochs\n",
    "\n",
    "error0 = []\n",
    "error1 = []\n",
    "error2 = []\n",
    "error3 = []\n",
    "\n",
    "for array in saveResultsForGraph:\n",
    "    error0.append(array[0,0])\n",
    "    error1.append(array[1,0])\n",
    "    error2.append(array[2,0])\n",
    "    error3.append(array[3,0])\n",
    "\n",
    "plt.plot(numberEpochs, error0, \"-\", color = \"green\", label = \"error of (0,0)\") \n",
    "plt.plot(numberEpochs, error1, \"-\", color = \"red\", label = \"error of (0,1)\") \n",
    "plt.plot(numberEpochs, error2, \"-\", color = \"orange\", label = \"error of (1,0)\") \n",
    "plt.plot(numberEpochs, error3, \"-\", color = \"purple\", label = \"error of (1,1)\") \n",
    "\n",
    "plt.ylabel(\"error\")\n",
    "plt.xlabel(\"epoche\")\n",
    "plt.title(\"error developement over epochs\")\n",
    "plt.legend(loc='lower right')\n",
    "\n",
    "plt.xlim(0, len(numberEpochs))\n",
    "plt.ylim(-1.5, 1.5)\n",
    "#plt.axis(\"equal\") \n",
    "plt .show()    "
   ]
  },
  {
   "cell_type": "markdown",
   "metadata": {},
   "source": [
    "###  How do the errors behave over the epochs?\n",
    "In the beginning, each error of each output can either be 1/-1 or already 0. (Predicting false or correct). By learning from the feedback the weights are improved so that in the end all errors will converge to 0. (Meaning that the output is correct)"
   ]
  },
  {
   "cell_type": "code",
   "execution_count": 134,
   "metadata": {},
   "outputs": [
    {
     "data": {
      "image/png": "[encoded data removed]",
      "text/plain": [
       "<Figure size 640x480 with 1 Axes>"
      ]
     },
     "metadata": {},
     "output_type": "display_data"
    }
   ],
   "source": [
    "# visualize (b) Plot the value of each weight at the end of each training epoch. \n",
    "\n",
    "numberEpochs = range(len(saveResultsForGraph))\n",
    "numberEpochs\n",
    "\n",
    "w0EndEpochs = []\n",
    "w1EndEpochs = []\n",
    "w2EndEpochs = []\n",
    "\n",
    "for array in saveResultsForGraph:\n",
    "    w0EndEpochs.append(array[3,1])\n",
    "    w1EndEpochs.append(array[3,2])\n",
    "    w2EndEpochs.append(array[3,3])\n",
    "\n",
    "plt.plot(numberEpochs, w0EndEpochs, \"-\", color = \"orange\", label = \"w0\") \n",
    "plt.plot(numberEpochs, w1EndEpochs, \"-\", color = \"red\", label = \"w1\") \n",
    "plt.plot(numberEpochs, w2EndEpochs, \"-\", color = \"green\", label = \"w2\") \n",
    "\n",
    "\n",
    "plt.ylabel(\"weights\")\n",
    "plt.xlabel(\"epoche\")\n",
    "plt.title(\"weights developement over epochs\")\n",
    "plt.legend(loc='lower right')\n",
    "\n",
    "plt.xlim(0, len(numberEpochs))\n",
    "plt.ylim(-1, 1)\n",
    "plt.show()"
   ]
  },
  {
   "cell_type": "markdown",
   "metadata": {},
   "source": [
    "### Are the values converging? if so, do they converge to similar values in different runs (with different random intializations)?\n",
    "\n",
    "They do converge, and eventhough the exact values are different, for the AND perceptron all weights converge to values between 0 and 0.5 .\n",
    "For the OR perceptron they converge to values between 0 and 1 so that at least 2 of the weights are above 0.5, so that adding them will always surpass the threshold."
   ]
  },
  {
   "cell_type": "markdown",
   "metadata": {},
   "source": [
    "### (c) What is the effect of increasing/decreasing the α parameter? Can you tell (approximately) what is the \"best\" value for α?\n",
    "\n",
    "The higher alpga, the stronger are the weights changes whenever an output is wrong. When alpha is too small, improving the weights in order to make good predictions is too slow and needs many epochs. When alpha is too big, the changes in weights will be too big and the correct a´weights are \"overshot\".\n",
    "\n",
    "A good value for alpha: 0.01 - 0.1\n"
   ]
  },
  {
   "cell_type": "code",
   "execution_count": 135,
   "metadata": {},
   "outputs": [
    {
     "data": {
      "image/png": "[encoded data removed]",
      "text/plain": [
       "<Figure size 640x480 with 1 Axes>"
      ]
     },
     "metadata": {},
     "output_type": "display_data"
    },
    {
     "name": "stdout",
     "output_type": "stream",
     "text": [
      "0.188 2.6666666666666665\n"
     ]
    }
   ],
   "source": [
    "# visualize alpha on x and number epochs till convergence on y\n",
    "\n",
    "listAlphas = []\n",
    "listNumberEpochs = []\n",
    "listStandardDeviations = []\n",
    "for alpha in range(1, 1001, 1):\n",
    "    alpha = alpha / 1000\n",
    "    listWithNumberEpochs = []\n",
    "\n",
    "\n",
    "    for i in range(30):\n",
    "        epochsNeeded = 0\n",
    "\n",
    "        w0 = round(random.random(), 2)\n",
    "        w1 = round(random.random(),2)\n",
    "        w2 = round(random.random(), 2)\n",
    "        d = arrayANDSolution\n",
    "        o = np.array((perceptron(w0, w1, w2, arrayBitPatterns)))\n",
    "\n",
    "        while not np.array_equal(d, o):\n",
    "            e = d - o\n",
    "            arrayErrorsAndWeights = np.zeros((4,4))\n",
    "            position = 0\n",
    "            for bitPair in arrayBitPatterns:\n",
    "                x1 = bitPair[0]\n",
    "                x2 = bitPair[1]\n",
    "\n",
    "                if e[position] != 0:\n",
    "                    w0 += alpha * e[position]\n",
    "                    w1 += alpha * e[position] * x1\n",
    "                    w2 += alpha * e[position] * x2\n",
    "\n",
    "                arrayErrorsAndWeights[position] = [e[position], w0, w1, w2]\n",
    "                position += 1\n",
    "            o = np.array((perceptron(w0, w1, w2, arrayBitPatterns)))\n",
    "            epochsNeeded += 1\n",
    "        \n",
    "        listWithNumberEpochs.append(epochsNeeded)\n",
    "\n",
    "    #print(listWithNumberEpochs)\n",
    "            \n",
    "    average = sum(listWithNumberEpochs) / len(listWithNumberEpochs)      \n",
    "    standardDeviation = np.std(listWithNumberEpochs)\n",
    "\n",
    "    listAlphas.append(alpha)\n",
    "    listNumberEpochs.append(average)\n",
    "    listStandardDeviations.append(standardDeviation)\n",
    "\n",
    "    #print(f\"average number of epochs till convergence: {round(average, 0)} \\n standard deviation: {round(standardDeviation, 2)}.\")\n",
    "\n",
    "minX = (np.argmin(listNumberEpochs)+1)/1000\n",
    "minY = np.min(listNumberEpochs)\n",
    "\n",
    "    \n",
    "plt.plot(listAlphas,listNumberEpochs, color = \"green\")\n",
    "#plt.plot(listAlphas,listStandardDeviations, color = \"darkblue\")\n",
    "plt.scatter(minX, minY,c='r', label='minimum')\n",
    "\n",
    "plt.show()\n",
    "print(minX, minY)"
   ]
  },
  {
   "cell_type": "code",
   "execution_count": 136,
   "metadata": {},
   "outputs": [
    {
     "data": {
      "image/png": "[encoded data removed]",
      "text/plain": [
       "<Figure size 640x480 with 1 Axes>"
      ]
     },
     "metadata": {},
     "output_type": "display_data"
    },
    {
     "name": "stdout",
     "output_type": "stream",
     "text": [
      "0.14 3.3666666666666667\n"
     ]
    }
   ],
   "source": [
    "# visualize alpha on x and number epochs till convergence on y\n",
    "\n",
    "listAlphas = []\n",
    "listNumberEpochs = []\n",
    "listStandardDeviations = []\n",
    "for alpha in range(1, 101, 1):\n",
    "    alpha = alpha / 100\n",
    "    listWithNumberEpochs = []\n",
    "\n",
    "\n",
    "    for i in range(30):\n",
    "        epochsNeeded = 0\n",
    "\n",
    "        w0 = round(random.random(), 2)\n",
    "        w1 = round(random.random(),2)\n",
    "        w2 = round(random.random(), 2)\n",
    "        d = arrayANDSolution\n",
    "        o = np.array((perceptron(w0, w1, w2, arrayBitPatterns)))\n",
    "\n",
    "        while not np.array_equal(d, o):\n",
    "            e = d - o\n",
    "            arrayErrorsAndWeights = np.zeros((4,4))\n",
    "            position = 0\n",
    "            for bitPair in arrayBitPatterns:\n",
    "                x1 = bitPair[0]\n",
    "                x2 = bitPair[1]\n",
    "\n",
    "                if e[position] != 0:\n",
    "                    w0 += alpha * e[position]\n",
    "                    w1 += alpha * e[position] * x1\n",
    "                    w2 += alpha * e[position] * x2\n",
    "\n",
    "                arrayErrorsAndWeights[position] = [e[position], w0, w1, w2]\n",
    "                position += 1\n",
    "            o = np.array((perceptron(w0, w1, w2, arrayBitPatterns)))\n",
    "            epochsNeeded += 1\n",
    "        \n",
    "        listWithNumberEpochs.append(epochsNeeded)\n",
    "\n",
    "    #print(listWithNumberEpochs)\n",
    "            \n",
    "    average = sum(listWithNumberEpochs) / len(listWithNumberEpochs)      \n",
    "    standardDeviation = np.std(listWithNumberEpochs)\n",
    "\n",
    "    listAlphas.append(alpha)\n",
    "    listNumberEpochs.append(average)\n",
    "    listStandardDeviations.append(standardDeviation)\n",
    "\n",
    "    #print(f\"average number of epochs till convergence: {round(average, 0)} \\n standard deviation: {round(standardDeviation, 2)}.\")\n",
    "\n",
    "minX = (np.argmin(listNumberEpochs)+1)/100\n",
    "minY = np.min(listNumberEpochs)\n",
    "\n",
    "    \n",
    "plt.plot(listAlphas,listNumberEpochs, color = \"green\")\n",
    "#plt.plot(listAlphas,listStandardDeviations, color = \"darkblue\")\n",
    "plt.scatter(minX, minY,c='r', label='minimum')\n",
    "\n",
    "plt.show()\n",
    "print(minX, minY)"
   ]
  },
  {
   "cell_type": "markdown",
   "metadata": {},
   "source": [
    "### (d) How many epochs (iterations through the whole set) did it take to get all examples right? (i.e. ∀i : di = oi). \n",
    "Repeat the experiment 30 times with different random values for the initial weights and present the average and standard deviation of the number of epochs it took to converge."
   ]
  },
  {
   "cell_type": "code",
   "execution_count": 137,
   "metadata": {},
   "outputs": [
    {
     "name": "stdout",
     "output_type": "stream",
     "text": [
      "[1384, 1201, 1300, 3500, 3967, 1101, 2617, 2284, 2451, 3539, 3461, 1234, 3234, 2434, 1007, 2950, 2784, 601, 2606, 2684, 2134, 2384, 1184, 2767, 4039, 3739, 2574, 2150, 2501, 2351]\n",
      "average number of epochs till convergence: 2405.0 \n",
      "standard deviation: 923.64.\n"
     ]
    }
   ],
   "source": [
    "alpha = 0.0001\n",
    "listWithNumberEpochs = []\n",
    "\n",
    "\n",
    "for i in range(30):\n",
    "    epochsNeeded = 0\n",
    "\n",
    "    w0 = round(random.random(), 2)\n",
    "    w1 = round(random.random(),2)\n",
    "    w2 = round(random.random(), 2)\n",
    "    d = arrayANDSolution\n",
    "    o = np.array((perceptron(w0, w1, w2, arrayBitPatterns)))\n",
    "\n",
    "    while not np.array_equal(d, o):\n",
    "        e = d - o\n",
    "        arrayErrorsAndWeights = np.zeros((4,4))\n",
    "        position = 0\n",
    "        for bitPair in arrayBitPatterns:\n",
    "            x1 = bitPair[0]\n",
    "            x2 = bitPair[1]\n",
    "\n",
    "            if e[position] != 0:\n",
    "                w0 += alpha * e[position]\n",
    "                w1 += alpha * e[position] * x1\n",
    "                w2 += alpha * e[position] * x2\n",
    "\n",
    "            arrayErrorsAndWeights[position] = [e[position], w0, w1, w2]\n",
    "            position += 1\n",
    "        o = np.array((perceptron(w0, w1, w2, arrayBitPatterns)))\n",
    "        epochsNeeded += 1\n",
    "    \n",
    "    listWithNumberEpochs.append(epochsNeeded)\n",
    "\n",
    "print(listWithNumberEpochs)\n",
    "        \n",
    "average = sum(listWithNumberEpochs) / len(listWithNumberEpochs)      \n",
    "standardDeviation = np.std(listWithNumberEpochs)\n",
    "\n",
    "print(f\"average number of epochs till convergence: {round(average, 0)} \\nstandard deviation: {round(standardDeviation, 2)}.\")\n",
    "\n",
    "\n",
    "    "
   ]
  },
  {
   "cell_type": "markdown",
   "metadata": {},
   "source": [
    "7. Generate 2D points using a multivariate Gaussian distribution."
   ]
  },
  {
   "cell_type": "code",
   "execution_count": 138,
   "metadata": {},
   "outputs": [
    {
     "data": {
      "image/png": "[encoded data removed]",
      "text/plain": [
       "<Figure size 640x480 with 1 Axes>"
      ]
     },
     "metadata": {},
     "output_type": "display_data"
    }
   ],
   "source": [
    "# generate data\n",
    "\n",
    "mean= [3, 3]\n",
    "cov = [[1, 0], [0, 1]]\n",
    "a = np.random.multivariate_normal(mean, cov, 500).T\n",
    "\n",
    "new_col_a = np.zeros((1, a.shape[1]))\n",
    "a = np.append(a, new_col_a, axis=0 )\n",
    "\n",
    "mean= [-3, -3]\n",
    "cov = [[2, 0], [0, 5]]\n",
    "b = np.random.multivariate_normal(mean, cov, 500).T\n",
    "\n",
    "new_col_b = np.ones((1, b.shape[1]))\n",
    "b = np.append(b, new_col_b, axis = 0)\n",
    "\n",
    "c = np.concatenate((a, b) , axis = 1) \n",
    "c=c.T\n",
    "np.random.shuffle(c)\n",
    "c=c.T\n",
    "\n",
    "x = c[0] \n",
    "y=c[1]\n",
    "labels=c[2]\n",
    "plt.plot(x, y, \"x\") \n",
    "plt.axis(\"equal\") \n",
    "plt .show()\n",
    "\n",
    "# save and load data\n",
    "np.savetxt(\"testData.csv\", c, delimiter=\",\")\n",
    "data = genfromtxt('testData.csv', delimiter=',')"
   ]
  },
  {
   "cell_type": "markdown",
   "metadata": {},
   "source": [
    "8. Use the dataset generated in the previous task as the training set for the same perceptron and train it to partition the two datasets (adjust number of epochs if necessary). Notice that the same program learned two different tasks depending on the dataset used."
   ]
  },
  {
   "cell_type": "code",
   "execution_count": 139,
   "metadata": {},
   "outputs": [],
   "source": [
    "dataCopy = data.copy()"
   ]
  },
  {
   "cell_type": "code",
   "execution_count": 140,
   "metadata": {},
   "outputs": [],
   "source": [
    "# alpha = 0.0001\n",
    "\n",
    "# w0 = round(random.random(), 2)\n",
    "# w1 = round(random.random(),2)\n",
    "# w2 = round(random.random(), 2)\n",
    "\n",
    "# d = data[2]\n",
    "# o = np.array((perceptron(w0, w1, w2, dataCopy.T)))\n",
    "\n",
    "# epochsNeeded = 0\n",
    "# while not np.array_equal(d, o):\n",
    "\n",
    "#     e = d - o\n",
    "#     arrayErrorsAndWeights = np.zeros((1000,4))\n",
    "#     position = 0\n",
    "#     for coordinates in data.T:\n",
    "#         x1 = coordinates[0]\n",
    "#         x2 = coordinates[1]\n",
    "\n",
    "#         if e[position] != 0:\n",
    "#             w0 += alpha * e[position]\n",
    "#             w1 += alpha * e[position] * x1\n",
    "#             w2 += alpha * e[position] * x2\n",
    "\n",
    "#         arrayErrorsAndWeights[position] = [e[position], w0, w1, w2]\n",
    "#         position += 1\n",
    "\n",
    "#     o = np.array((perceptron(w0, w1, w2, dataCopy.T)))\n",
    "#     epochsNeeded += 1\n",
    "\n",
    "# print(arrayErrorsAndWeights)\n",
    "# print(epochsNeeded)"
   ]
  },
  {
   "cell_type": "code",
   "execution_count": 144,
   "metadata": {},
   "outputs": [
    {
     "name": "stdout",
     "output_type": "stream",
     "text": [
      "[[ 2.20170312  4.58107924  0.          0.        ]\n",
      " [ 3.8676918   2.87193309  0.          1.        ]\n",
      " [-5.03007261 -0.04344327  1.          1.        ]\n",
      " ...\n",
      " [ 3.86962023  2.60715837  0.          1.        ]\n",
      " [ 3.65178847  4.02207071  0.          0.        ]\n",
      " [-2.67657957 -2.45680851  1.          1.        ]]\n"
     ]
    }
   ],
   "source": [
    "dataCopy = data.copy()\n",
    "alpha = 0.0001\n",
    "howManyEpochs = 1\n",
    "w0 = round(random.random(), 2)\n",
    "w1 = round(random.random(),2)\n",
    "w2 = round(random.random(), 2)\n",
    "\n",
    "d = dataCopy[2]\n",
    "o = np.array((perceptron(w0, w1, w2, dataCopy.T)))\n",
    "\n",
    "for i in range(howManyEpochs):\n",
    "    e = d - o\n",
    "    position = 0\n",
    "    for coordinates in dataCopy.T:\n",
    "        x1 = coordinates[0]\n",
    "        x2 = coordinates[1]\n",
    "\n",
    "        if e[position] != 0:\n",
    "            w0 += alpha * e[position]\n",
    "            w1 += alpha * e[position] * x1\n",
    "            w2 += alpha * e[position] * x2\n",
    "        position += 1\n",
    "\n",
    "    o = np.array((perceptron(w0, w1, w2, dataCopy.T)))\n",
    "\n",
    "\n",
    "newColumnDataCopy = np.ones((1, dataCopy.shape[1]))\n",
    "dataCopy = np.append(dataCopy, newColumnDataCopy, axis = 0)\n",
    "dataCopy[3] = o\n",
    "\n",
    "print(dataCopy.T)\n"
   ]
  },
  {
   "cell_type": "code",
   "execution_count": 145,
   "metadata": {},
   "outputs": [
    {
     "name": "stdout",
     "output_type": "stream",
     "text": [
      "181\n",
      "181\n",
      "319\n",
      "319\n",
      "7\n",
      "7\n",
      "493\n",
      "493\n"
     ]
    }
   ],
   "source": [
    "pointsCorrectRejectionsX = []\n",
    "pointsFalsePositivesX = []\n",
    "pointsFalseNegativesX = []\n",
    "pointsTruePositivesX = []\n",
    "\n",
    "pointsCorrectRejectionsY = []\n",
    "pointsFalsePositivesY = []\n",
    "pointsFalseNegativesY = []\n",
    "pointsTruePositivesY = []\n",
    "\n",
    "\n",
    "\n",
    "for i in range(len(dataCopy.T)):\n",
    "    if dataCopy.T[i][2] == 0 and dataCopy.T[i][3] == 0:\n",
    "        pointsCorrectRejectionsX.append(dataCopy.T[i][0])\n",
    "        pointsCorrectRejectionsY.append(dataCopy.T[i][1])\n",
    "\n",
    "    if dataCopy.T[i][2] == 0 and dataCopy.T[i][3] == 1:\n",
    "        pointsFalsePositivesX.append(dataCopy.T[i][0])\n",
    "        pointsFalsePositivesY.append(dataCopy.T[i][1])\n",
    "    \n",
    "    if dataCopy.T[i][2] == 1 and dataCopy.T[i][3] == 0:\n",
    "        pointsFalseNegativesX.append(dataCopy.T[i][0])\n",
    "        pointsFalseNegativesY.append(dataCopy.T[i][1])\n",
    "\n",
    "    if dataCopy.T[i][2] == 1 and dataCopy.T[i][3] == 1:\n",
    "        pointsTruePositivesX.append(dataCopy.T[i][0])\n",
    "        pointsTruePositivesY.append(dataCopy.T[i][1])\n",
    "\n",
    "\n",
    "print(len(pointsCorrectRejectionsX))\n",
    "print(len(pointsCorrectRejectionsY))\n",
    "\n",
    "print(len(pointsFalsePositivesX))\n",
    "print(len(pointsFalsePositivesY))\n",
    "print(len(pointsFalseNegativesX))\n",
    "print(len(pointsFalseNegativesY))\n",
    "print(len(pointsTruePositivesX))\n",
    "print(len(pointsTruePositivesY))"
   ]
  },
  {
   "cell_type": "code",
   "execution_count": 146,
   "metadata": {},
   "outputs": [
    {
     "data": {
      "image/png": "[encoded data removed]",
      "text/plain": [
       "<Figure size 640x480 with 1 Axes>"
      ]
     },
     "metadata": {},
     "output_type": "display_data"
    }
   ],
   "source": [
    "# visualize\n",
    "\n",
    "plt.plot(pointsCorrectRejectionsX, pointsCorrectRejectionsY, \"x\", color = \"blue\", label = \"Correct rejections\")\n",
    "plt.plot(pointsFalsePositivesX, pointsFalsePositivesY, \"x\", color = \"orange\", label = \"False positives\")\n",
    "plt.plot(pointsFalseNegativesX, pointsFalseNegativesY, \"x\", color = \"red\", label = \"False negatives\")\n",
    "plt.plot(pointsTruePositivesX, pointsTruePositivesY, \"x\", color = \"green\", label = \"Hits\")\n",
    "\n",
    "\n",
    "plt.title(\"points in different colours depending on true clusters and correct/false classifications by the perceptron\")\n",
    "plt.legend(loc='lower right')\n",
    "\n",
    "plt.axis(\"equal\") \n",
    "plt.show()"
   ]
  },
  {
   "cell_type": "markdown",
   "metadata": {},
   "source": [
    "9. Print/Plot the confusion matrix for the above test. Can you relate each of the numbers in the confusion matrix to the points of a given color on the previously generated figure?"
   ]
  },
  {
   "cell_type": "code",
   "execution_count": 23,
   "metadata": {},
   "outputs": [
    {
     "name": "stdout",
     "output_type": "stream",
     "text": [
      "  True cluster    label 1    label 0\n",
      "--------------  ---------  ---------\n",
      "             1       0.49       0.01\n",
      "             0       0          0.5\n"
     ]
    }
   ],
   "source": [
    "# confusion matrix\n",
    "\n",
    "totalLength = len(dataCopy.T)\n",
    "numberHits = len(pointsTruePositivesX)\n",
    "numberCorrectRejections = len(pointsCorrectRejectionsX)\n",
    "numberFalsePositives = len(pointsFalsePositivesX)\n",
    "numberFalseNegatives = len(pointsFalseNegativesX)\n",
    "\n",
    "confusionMatrix = [\n",
    "    [\"1\", round(numberHits/totalLength, 2), round(numberFalseNegatives/totalLength, 2)],\n",
    "    [\"0\", round(numberFalsePositives/totalLength, 2), round(numberCorrectRejections/totalLength, 2)]\n",
    "]\n",
    "\n",
    "head = [\"True cluster\", \"label 1\", \"label 0\"]\n",
    "\n",
    "tableConfusionMatrix = tabulate(confusionMatrix, headers = head)\n",
    "print(tableConfusionMatrix)"
   ]
  },
  {
   "cell_type": "markdown",
   "metadata": {},
   "source": [
    "10. Print the metrics (accuracy, precision, recall, and F1) for all the tests: metrics should be an average for 30 tests with the same parameters but different initial weights."
   ]
  },
  {
   "cell_type": "code",
   "execution_count": 24,
   "metadata": {},
   "outputs": [
    {
     "name": "stdout",
     "output_type": "stream",
     "text": [
      "average performance after 20 training epochs:\n",
      "accuracy: 0.99\n",
      "precision: 1.0\n",
      "recall: 0.98\n",
      "F1Score: 0.99\n"
     ]
    }
   ],
   "source": [
    "dataCopy = data.copy()\n",
    "alpha = 0.0001\n",
    "howManyEpochs = 20\n",
    "\n",
    "saveAccuracy = []\n",
    "savePrecision = []\n",
    "saveRecall = []\n",
    "saveF1Score = []\n",
    "\n",
    "for i in range(30):\n",
    "\n",
    "    w0 = round(random.random(), 2)\n",
    "    w1 = round(random.random(),2)\n",
    "    w2 = round(random.random(), 2)\n",
    "\n",
    "    d = dataCopy[2]\n",
    "    o = np.array((perceptron(w0, w1, w2, dataCopy.T)))\n",
    "\n",
    "    for i in range(howManyEpochs):\n",
    "        e = d - o\n",
    "        position = 0\n",
    "        for coordinates in dataCopy.T:\n",
    "            x1 = coordinates[0]\n",
    "            x2 = coordinates[1]\n",
    "\n",
    "            if e[position] != 0:\n",
    "                w0 += alpha * e[position]\n",
    "                w1 += alpha * e[position] * x1\n",
    "                w2 += alpha * e[position] * x2\n",
    "            position += 1\n",
    "\n",
    "        o = np.array((perceptron(w0, w1, w2, dataCopy.T)))\n",
    "\n",
    "\n",
    "    newColumnDataCopy = np.ones((1, dataCopy.shape[1]))\n",
    "    dataCopy = np.append(dataCopy, newColumnDataCopy, axis = 0)\n",
    "    dataCopy[3] = o\n",
    "\n",
    "\n",
    "    pointsCorrectRejectionsX = []\n",
    "    pointsFalsePositivesX = []\n",
    "    pointsFalseNegativesX = []\n",
    "    pointsTruePositivesX = []\n",
    "\n",
    "    pointsCorrectRejectionsY = []\n",
    "    pointsFalsePositivesY = []\n",
    "    pointsFalseNegativesY = []\n",
    "    pointsTruePositivesY = []\n",
    "\n",
    "    for i in range(len(dataCopy.T)):\n",
    "        if dataCopy.T[i][2] == 0 and dataCopy.T[i][3] == 0:\n",
    "            pointsCorrectRejectionsX.append(dataCopy.T[i][0])\n",
    "            pointsCorrectRejectionsY.append(dataCopy.T[i][1])\n",
    "\n",
    "        if dataCopy.T[i][2] == 0 and dataCopy.T[i][3] == 1:\n",
    "            pointsFalsePositivesX.append(dataCopy.T[i][0])\n",
    "            pointsFalsePositivesY.append(dataCopy.T[i][1])\n",
    "        \n",
    "        if dataCopy.T[i][2] == 1 and dataCopy.T[i][3] == 0:\n",
    "            pointsFalseNegativesX.append(dataCopy.T[i][0])\n",
    "            pointsFalseNegativesY.append(dataCopy.T[i][1])\n",
    "\n",
    "        if dataCopy.T[i][2] == 1 and dataCopy.T[i][3] == 1:\n",
    "            pointsTruePositivesX.append(dataCopy.T[i][0])\n",
    "            pointsTruePositivesY.append(dataCopy.T[i][1])\n",
    "\n",
    "\n",
    "    totalLength = len(dataCopy.T)\n",
    "    numberHits = len(pointsTruePositivesX)\n",
    "    numberCorrectRejections = len(pointsCorrectRejectionsX)\n",
    "    numberFalsePositives = len(pointsFalsePositivesX)\n",
    "    numberFalseNegatives = len(pointsFalseNegativesX)\n",
    "\n",
    "    accuracy = (numberHits+numberCorrectRejections)/totalLength\n",
    "    precision = numberHits/(numberHits + numberFalsePositives)\n",
    "    recall = numberHits/(numberHits + numberFalseNegatives)\n",
    "    F1Score = (2*precision*recall)/(precision+recall)\n",
    "\n",
    "    saveAccuracy.append(accuracy)\n",
    "    savePrecision.append(precision)\n",
    "    saveRecall.append(recall)\n",
    "    saveF1Score.append(F1Score)\n",
    "    \n",
    "\n",
    "\n",
    "\n",
    "accuracy = round(sum(saveAccuracy)/len(saveAccuracy), 2)\n",
    "precision = round(sum(savePrecision)/len(savePrecision), 2)\n",
    "recall = round(sum(saveRecall)/len(saveRecall), 2)\n",
    "F1Score = round(sum(saveF1Score)/len(saveF1Score), 2)\n",
    "\n",
    "\n",
    "print(f\"average performance after {howManyEpochs} training epochs:\")\n",
    "print(f\"accuracy: {accuracy}\")\n",
    "print(f\"precision: {precision}\")\n",
    "print(f\"recall: {recall}\")\n",
    "print(f\"F1Score: {F1Score}\")"
   ]
  },
  {
   "cell_type": "code",
   "execution_count": 21,
   "metadata": {},
   "outputs": [],
   "source": [
    "# accuracy = round((numberHits+numberCorrectRejections)/totalLength, 2)\n",
    "# precision = round(numberHits/(numberHits + numberFalsePositives), 2)\n",
    "# recall = round(numberHits/(numberHits + numberFalseNegatives), 2)\n",
    "# F1Score = round((2*precision*recall)/(precision+recall), 2)\n",
    "\n",
    "# print(f\"average performance after {howManyEpochs} training epochs:\")\n",
    "# print(f\"accuracy: {accuracy}\")\n",
    "# print(f\"precision: {precision}\")\n",
    "# print(f\"recall: {recall}\")\n",
    "# print(f\"F1Score: {F1Score}\")"
   ]
  },
  {
   "cell_type": "markdown",
   "metadata": {},
   "source": [
    "### Exercise 2\n",
    "\n",
    "Implement a k-NN classifier that is specifically suited for the dataset in https://archive.ics.uci.edu/ml/datasets/iris.\n",
    "Given a dataset containing labelled examples (a training set) and a new example (extracted from the test set), the classifier should calculate the euclidean distance from the new example to all the elements of the training set, choose the k closest elements of the training set and output this example classification as the class of the majority of the k closest training set elements (the k-Nearest Neighbors)."
   ]
  },
  {
   "cell_type": "markdown",
   "metadata": {},
   "source": [
    "1. Split the dataset randomly in two subsets (70% / 30%). Use the bigger subset as the training set and the smaller as the test set. Run all test examples through the classifier and calculate the number of correct predictions over the total number of examples of the test set. Compare the scores of k-NN classifiers for k = 3, 7, and 11. Repeat 30 times, with different dataset splits, for each value of k. Use a boxplot with whiskers graphic to allow easy comparison.\n"
   ]
  },
  {
   "cell_type": "code",
   "execution_count": 147,
   "metadata": {},
   "outputs": [],
   "source": [
    "coloumnNames = [\"sepal length\", \"sepal width\", \"petal length\", \"petal width\", \"class\"]\n",
    "data = pd.read_csv(\"data/iris.data\", sep = \",\", names = coloumnNames)"
   ]
  },
  {
   "cell_type": "code",
   "execution_count": 148,
   "metadata": {},
   "outputs": [],
   "source": [
    "# divide data into input features (y) and output criterion (X)\n",
    "y = data.loc[:, data.columns != 'class']\n",
    "X = data.loc[:,'class']"
   ]
  },
  {
   "cell_type": "code",
   "execution_count": 149,
   "metadata": {},
   "outputs": [],
   "source": [
    "# get seperate train and test data \n",
    "X_train, X_test, y_train, y_test = train_test_split(X, y, test_size=0.3)\n",
    "# split the test data again for final test vs cross validation tests\n",
    "#X_test_for_cross_validation, X_final_test, y_test_for_cross_validation, y_final_test = train_test_split(X_test, y_test, test_size=0.5)\n"
   ]
  },
  {
   "cell_type": "code",
   "execution_count": 150,
   "metadata": {},
   "outputs": [],
   "source": [
    "# training data is needed with features and outcomes:\n",
    "trainingData = y_train.join(X_train)\n",
    "trainingData\n",
    "\n",
    "# reindexing\n",
    "trainingData = trainingData.reset_index()  \n",
    "trainingData = trainingData.drop(labels = \"index\", axis = \"columns\")\n"
   ]
  },
  {
   "cell_type": "code",
   "execution_count": 151,
   "metadata": {},
   "outputs": [],
   "source": [
    "# also reindex testdata, therefore first join X and y and then split again\n",
    "\n",
    "testData = y_test.join(X_test)\n",
    "testData\n",
    "\n",
    "# reindexing\n",
    "testData = testData.reset_index()  \n",
    "testData = testData.drop(labels = \"index\", axis = \"columns\")\n",
    "\n",
    "y_test = testData.loc[:, data.columns != 'class']\n",
    "X_test = testData.loc[:,'class']\n"
   ]
  },
  {
   "cell_type": "code",
   "execution_count": 152,
   "metadata": {},
   "outputs": [],
   "source": [
    "def getEuclideanDistance(point1, point2):\n",
    "    point1 = np.array(point1)\n",
    "    point2 = np.array(point2)\n",
    "\n",
    "    distance = np.sqrt(np.sum((point1 - point2) ** 2))\n",
    "\n",
    "    return(distance)\n",
    "\n",
    "#getEuclideanDistance([1, 1, 1], [5, 2, 6])"
   ]
  },
  {
   "cell_type": "code",
   "execution_count": 153,
   "metadata": {},
   "outputs": [
    {
     "name": "stdout",
     "output_type": "stream",
     "text": [
      "prediction:\n",
      "Iris-versicolor\n"
     ]
    }
   ],
   "source": [
    "# classifier function\n",
    "def kNearestNeighbourClassifier(trainData, testData, k):\n",
    "    dictIndexToDistance = {}\n",
    "    kMinDistances = []\n",
    "    index = 0\n",
    "    for index, dataPoint in trainData.iterrows():\n",
    "        distance = getEuclideanDistance(dataPoint[:4], testData)\n",
    "        dictIndexToDistance[index] = distance\n",
    "        index += 1\n",
    "    \n",
    "    for i in range(k):\n",
    "        minDistance = min(dictIndexToDistance, key = dictIndexToDistance.get)\n",
    "        kMinDistances.append(minDistance)\n",
    "        del dictIndexToDistance[minDistance]\n",
    "\n",
    "    classesOfPointsWithMinDistances = []\n",
    "    for index in kMinDistances:\n",
    "        classesOfPointsWithMinDistances.append(trainData.iloc[index][\"class\"])\n",
    "\n",
    "    classesOfPointsWithMinDistances = pd.Series(classesOfPointsWithMinDistances, dtype = \"category\")\n",
    "    predictedClass = classesOfPointsWithMinDistances.mode()[0]\n",
    "\n",
    "    return(predictedClass)\n",
    "\n",
    "# example \n",
    "print(\"prediction:\")\n",
    "print(kNearestNeighbourClassifier(trainingData, y_test.iloc[0], 3))\n"
   ]
  },
  {
   "cell_type": "code",
   "execution_count": 32,
   "metadata": {},
   "outputs": [
    {
     "name": "stdout",
     "output_type": "stream",
     "text": [
      "Average accuracy for k = 3: 0.96\n",
      "Average accuracy for k = 7: 0.97\n",
      "Average accuracy for k = 11: 0.97\n"
     ]
    }
   ],
   "source": [
    "# run all the test examples and classify\n",
    "allK = [3, 7, 11]\n",
    "allSingleAccuraciesInList = []\n",
    "for k in allK:\n",
    "\n",
    "    allAccuracies = []\n",
    "    for i in range(30):\n",
    "\n",
    "        # get random data splits and preprocess \n",
    "        y = data.loc[:, data.columns != 'class']\n",
    "        X = data.loc[:,'class']\n",
    "        X_train, X_test, y_train, y_test = train_test_split(X, y, test_size=0.3)\n",
    "        trainingData = y_train.join(X_train)\n",
    "        trainingData = trainingData.reset_index()  \n",
    "        trainingData = trainingData.drop(labels = \"index\", axis = \"columns\")\n",
    "        testData = y_test.join(X_test)\n",
    "        testData = testData.reset_index()  \n",
    "        testData = testData.drop(labels = \"index\", axis = \"columns\")\n",
    "        y_test = testData.loc[:, data.columns != 'class']\n",
    "        X_test = testData.loc[:,'class']\n",
    "\n",
    "        allPredictedClasses = []\n",
    "        for i in range(len(y_test)):\n",
    "            predictedClass = kNearestNeighbourClassifier(trainingData, y_test.iloc[i], k)\n",
    "            allPredictedClasses.append(predictedClass)\n",
    "\n",
    "        position = 0\n",
    "        totalCorrectPredictions = 0\n",
    "        for item in allPredictedClasses:\n",
    "            if item == X_test[position]:\n",
    "                totalCorrectPredictions += 1\n",
    "            position += 1\n",
    "\n",
    "        accuracy = totalCorrectPredictions/position\n",
    "        allAccuracies.append(accuracy)\n",
    "\n",
    "    allSingleAccuraciesInList.append(allAccuracies)\n",
    "    averageAccuracy = sum(allAccuracies)/len(allAccuracies)\n",
    "    print(f\"Average accuracy for k = {k}: {round(averageAccuracy, 2)}\")"
   ]
  },
  {
   "cell_type": "code",
   "execution_count": 37,
   "metadata": {},
   "outputs": [
    {
     "data": {
      "image/png": "[encoded data removed]",
      "text/plain": [
       "<Figure size 640x480 with 1 Axes>"
      ]
     },
     "metadata": {},
     "output_type": "display_data"
    }
   ],
   "source": [
    "# visualize total numbers\n",
    "tryout = []\n",
    "for item in allSingleAccuraciesInList:\n",
    "    outtry = []\n",
    "    for i in item:\n",
    "        outtry.append(i*len(y_test))\n",
    "    tryout.append(outtry)\n",
    "\n",
    "labels = [\"k = 3\", \"k = 7\", \"k = 11\"]\n",
    "\n",
    "fig, ax = plt.subplots()\n",
    "ax.set_ylabel(\"correct predictions of class (out of 45)\")\n",
    "ax.set_title('k-NN Performance using different ks, total numbers')\n",
    "bplot = ax.boxplot(tryout, \n",
    "                   labels = labels)\n",
    "plt.show()"
   ]
  },
  {
   "cell_type": "code",
   "execution_count": 38,
   "metadata": {},
   "outputs": [
    {
     "data": {
      "image/png": "[encoded data removed]",
      "text/plain": [
       "<Figure size 640x480 with 1 Axes>"
      ]
     },
     "metadata": {},
     "output_type": "display_data"
    }
   ],
   "source": [
    "# visualize accuracies\n",
    "labels = [\"k = 3\", \"k = 7\", \"k = 11\"]\n",
    "\n",
    "fig, ax = plt.subplots()\n",
    "ax.set_ylabel(\"accuracy of class predictions\")\n",
    "ax.set_title('k-NN Performance using different ks')\n",
    "bplot = ax.boxplot(allSingleAccuraciesInList, \n",
    "                   labels = labels)\n",
    "plt.show()"
   ]
  },
  {
   "cell_type": "markdown",
   "metadata": {},
   "source": [
    "2. Plot the confusion matrix of one of the tests for each value of k.\n"
   ]
  },
  {
   "cell_type": "code",
   "execution_count": 39,
   "metadata": {},
   "outputs": [
    {
     "name": "stdout",
     "output_type": "stream",
     "text": [
      "Confusion matrix for k = 3:\n",
      "True cluster       label Iris-virginica    label Iris-versicolor    label Iris-setosa\n",
      "---------------  ----------------------  -----------------------  -------------------\n",
      "Iris-virginica                       16                        1                    0\n",
      "Iris-versicolor                       2                       14                    0\n",
      "Iris-setosa                           0                        0                   12\n",
      "\n",
      " \n",
      "Confusion matrix for k = 7:\n",
      "True cluster       label Iris-virginica    label Iris-versicolor    label Iris-setosa\n",
      "---------------  ----------------------  -----------------------  -------------------\n",
      "Iris-virginica                       17                        0                    0\n",
      "Iris-versicolor                       1                       15                    0\n",
      "Iris-setosa                           0                        0                   12\n",
      "\n",
      " \n",
      "Confusion matrix for k = 11:\n",
      "True cluster       label Iris-virginica    label Iris-versicolor    label Iris-setosa\n",
      "---------------  ----------------------  -----------------------  -------------------\n",
      "Iris-virginica                       17                        0                    0\n",
      "Iris-versicolor                       2                       14                    0\n",
      "Iris-setosa                           0                        0                   12\n",
      "\n",
      " \n"
     ]
    }
   ],
   "source": [
    " # get random data splits and preprocess \n",
    "y = data.loc[:, data.columns != 'class']\n",
    "X = data.loc[:,'class']\n",
    "X_train, X_test, y_train, y_test = train_test_split(X, y, test_size=0.3)\n",
    "trainingData = y_train.join(X_train)\n",
    "trainingData = trainingData.reset_index()  \n",
    "trainingData = trainingData.drop(labels = \"index\", axis = \"columns\")\n",
    "testData = y_test.join(X_test)\n",
    "testData = testData.reset_index()  \n",
    "testData = testData.drop(labels = \"index\", axis = \"columns\")\n",
    "y_test = testData.loc[:, data.columns != 'class']\n",
    "X_test = testData.loc[:,'class']\n",
    "\n",
    "# run all the test examples and classify\n",
    "allK = [3, 7, 11]\n",
    "for k in allK:\n",
    "    allPredictedClasses = []\n",
    "    for i in range(len(y_test)):\n",
    "        predictedClass = kNearestNeighbourClassifier(trainingData, y_test.iloc[i], k)\n",
    "        allPredictedClasses.append(predictedClass)\n",
    "\n",
    "    position = 0\n",
    "    numberHitsVirginica = 0\n",
    "    numberHitsVersicolor = 0\n",
    "    numberHitsSetosa = 0\n",
    "    virginicaInsteadVersicolor = 0\n",
    "    virginicaInsteadSetosa = 0\n",
    "    versicolorInsteadSetosa = 0\n",
    "    versicolorInsteadVirginica = 0\n",
    "    setosaInsteadVirginica = 0\n",
    "    setosaInsteadVersicolor = 0\n",
    "\n",
    "    for item in allPredictedClasses:\n",
    "        # hits\n",
    "        if item == X_test[position] == \"Iris-virginica\":\n",
    "            numberHitsVirginica += 1\n",
    "        elif item == X_test[position] == \"Iris-versicolor\":\n",
    "            numberHitsVersicolor += 1\n",
    "        elif item == X_test[position] == \"Iris-setosa\":\n",
    "            numberHitsSetosa += 1\n",
    "        # false decisions\n",
    "        elif item == \"Iris-virginica\" and X_test[position] == \"Iris-versicolor\":\n",
    "            virginicaInsteadVersicolor += 1\n",
    "        elif item == \"Iris-virginica\" and X_test[position] == \"Iris-setosa\":\n",
    "            virginicaInsteadSetosa += 1\n",
    "\n",
    "        elif item == \"Iris-versicolor\" and X_test[position] == \"Iris-virginica\":\n",
    "            versicolorInsteadVirginica += 1\n",
    "        elif item == \"Iris-versicolor\" and X_test[position] == \"Iris-setosa\":\n",
    "            versicolorInsteadSetosa += 1\n",
    "\n",
    "        elif item == \"Iris-setosa\" and X_test[position] == \"Iris-virginica\":\n",
    "            setosaInsteadVirginica += 1\n",
    "        elif item == \"Iris-setosa\" and X_test[position] == \"Iris-versicolor\":\n",
    "            setosaInsteadVersicolor += 1   \n",
    "        position += 1\n",
    "\n",
    "    # confusion matrix\n",
    "    confusionMatrix = [\n",
    "        [\"Iris-virginica\", numberHitsVirginica, round(versicolorInsteadVirginica, 2) , round(setosaInsteadVirginica, 2)],\n",
    "        [\"Iris-versicolor\", round(virginicaInsteadVersicolor, 2), round(numberHitsVersicolor, 2), round(setosaInsteadVersicolor, 2)],\n",
    "        [\"Iris-setosa\", round(virginicaInsteadSetosa, 2), round(versicolorInsteadSetosa, 2), round(numberHitsSetosa, 2)]\n",
    "    ]\n",
    "    head = [\"True cluster\", \"label Iris-virginica\", \"label Iris-versicolor\", \"label Iris-setosa\"]\n",
    "    tableConfusionMatrix = tabulate(confusionMatrix, headers = head)\n",
    "    print(f\"Confusion matrix for k = {k}:\")\n",
    "    print(tableConfusionMatrix)\n",
    "    print(\"\\n \")\n"
   ]
  },
  {
   "cell_type": "markdown",
   "metadata": {},
   "source": [
    "3. Considering the dataset presented in Fig. 3, why should k always be an odd number?"
   ]
  },
  {
   "cell_type": "markdown",
   "metadata": {},
   "source": [
    "Caviate: For 2 clusters!\n",
    "\n",
    "If we chose an even number of k, it would be possible that the k closest training examples would be evenly distributed between the 2 clusters, leaving the algorithm undecided which one to categorize as the most common.\n",
    "\n",
    "\n"
   ]
  },
  {
   "cell_type": "markdown",
   "metadata": {},
   "source": [
    "### Exercise 3\n",
    "\n",
    "Using the dataset from the previous exercise, implement a Naive Bayes classifier."
   ]
  },
  {
   "cell_type": "markdown",
   "metadata": {},
   "source": [
    "1. Transform by discretizing all columns’ values into categories with three possible values (low / medium / high). Use a sensible partition for each column. As in the previous exercise, split the dataset randomly in two subsets (70% / 30%). Repeat the process of the previous exercise to obtain evaluation metrics and an example of a confusion matrix (this time, there is no parameter to vary, so only one cycle of 30 repetitions with different dataset partitions)."
   ]
  },
  {
   "cell_type": "code",
   "execution_count": 154,
   "metadata": {},
   "outputs": [
    {
     "data": {
      "text/html": [
       "<div>\n",
       "<style scoped>\n",
       "    .dataframe tbody tr th:only-of-type {\n",
       "        vertical-align: middle;\n",
       "    }\n",
       "\n",
       "    .dataframe tbody tr th {\n",
       "        vertical-align: top;\n",
       "    }\n",
       "\n",
       "    .dataframe thead th {\n",
       "        text-align: right;\n",
       "    }\n",
       "</style>\n",
       "<table border=\"1\" class=\"dataframe\">\n",
       "  <thead>\n",
       "    <tr style=\"text-align: right;\">\n",
       "      <th></th>\n",
       "      <th>sepal length</th>\n",
       "      <th>sepal width</th>\n",
       "      <th>petal length</th>\n",
       "      <th>petal width</th>\n",
       "    </tr>\n",
       "  </thead>\n",
       "  <tbody>\n",
       "    <tr>\n",
       "      <th>count</th>\n",
       "      <td>150.000000</td>\n",
       "      <td>150.000000</td>\n",
       "      <td>150.000000</td>\n",
       "      <td>150.000000</td>\n",
       "    </tr>\n",
       "    <tr>\n",
       "      <th>mean</th>\n",
       "      <td>5.843333</td>\n",
       "      <td>3.054000</td>\n",
       "      <td>3.758667</td>\n",
       "      <td>1.198667</td>\n",
       "    </tr>\n",
       "    <tr>\n",
       "      <th>std</th>\n",
       "      <td>0.828066</td>\n",
       "      <td>0.433594</td>\n",
       "      <td>1.764420</td>\n",
       "      <td>0.763161</td>\n",
       "    </tr>\n",
       "    <tr>\n",
       "      <th>min</th>\n",
       "      <td>4.300000</td>\n",
       "      <td>2.000000</td>\n",
       "      <td>1.000000</td>\n",
       "      <td>0.100000</td>\n",
       "    </tr>\n",
       "    <tr>\n",
       "      <th>33%</th>\n",
       "      <td>5.400000</td>\n",
       "      <td>2.900000</td>\n",
       "      <td>2.087000</td>\n",
       "      <td>0.668000</td>\n",
       "    </tr>\n",
       "    <tr>\n",
       "      <th>50%</th>\n",
       "      <td>5.800000</td>\n",
       "      <td>3.000000</td>\n",
       "      <td>4.350000</td>\n",
       "      <td>1.300000</td>\n",
       "    </tr>\n",
       "    <tr>\n",
       "      <th>66%</th>\n",
       "      <td>6.234000</td>\n",
       "      <td>3.200000</td>\n",
       "      <td>4.834000</td>\n",
       "      <td>1.600000</td>\n",
       "    </tr>\n",
       "    <tr>\n",
       "      <th>max</th>\n",
       "      <td>7.900000</td>\n",
       "      <td>4.400000</td>\n",
       "      <td>6.900000</td>\n",
       "      <td>2.500000</td>\n",
       "    </tr>\n",
       "  </tbody>\n",
       "</table>\n",
       "</div>"
      ],
      "text/plain": [
       "       sepal length  sepal width  petal length  petal width\n",
       "count    150.000000   150.000000    150.000000   150.000000\n",
       "mean       5.843333     3.054000      3.758667     1.198667\n",
       "std        0.828066     0.433594      1.764420     0.763161\n",
       "min        4.300000     2.000000      1.000000     0.100000\n",
       "33%        5.400000     2.900000      2.087000     0.668000\n",
       "50%        5.800000     3.000000      4.350000     1.300000\n",
       "66%        6.234000     3.200000      4.834000     1.600000\n",
       "max        7.900000     4.400000      6.900000     2.500000"
      ]
     },
     "execution_count": 154,
     "metadata": {},
     "output_type": "execute_result"
    }
   ],
   "source": [
    "data.describe(percentiles=[.33,.66])\n"
   ]
  },
  {
   "cell_type": "code",
   "execution_count": 156,
   "metadata": {},
   "outputs": [],
   "source": [
    "# discretizise columns\n",
    "data.describe(percentiles=[.33,.66])\n",
    "\n",
    "data[\"sepal length (cat)\"] = pd.cut(data[\"sepal length\"],\n",
    "       bins=[0, 5.4, 6.24, 7.9], \n",
    "       labels=[\"low\", \"medium\", \"high\"])\n",
    "\n",
    "data[\"sepal width (cat)\"] = pd.cut(data[\"sepal width\"],\n",
    "       bins=[0, 2.9, 3.2, 4.4], \n",
    "       labels=[\"low\", \"medium\", \"high\"])\n",
    "\n",
    "data[\"petal length (cat)\"] = pd.cut(data[\"petal length\"],\n",
    "       bins=[0, 2.087, 4.83, 6.9], \n",
    "       labels=[\"low\", \"medium\", \"high\"])\n",
    "\n",
    "data[\"petal width (cat)\"] = pd.cut(data[\"petal width\"],\n",
    "       bins=[0, 0.668, 1.6, 2.5], \n",
    "       labels=[\"low\", \"medium\", \"high\"])"
   ]
  },
  {
   "cell_type": "code",
   "execution_count": 157,
   "metadata": {},
   "outputs": [
    {
     "data": {
      "text/html": [
       "<div>\n",
       "<style scoped>\n",
       "    .dataframe tbody tr th:only-of-type {\n",
       "        vertical-align: middle;\n",
       "    }\n",
       "\n",
       "    .dataframe tbody tr th {\n",
       "        vertical-align: top;\n",
       "    }\n",
       "\n",
       "    .dataframe thead th {\n",
       "        text-align: right;\n",
       "    }\n",
       "</style>\n",
       "<table border=\"1\" class=\"dataframe\">\n",
       "  <thead>\n",
       "    <tr style=\"text-align: right;\">\n",
       "      <th></th>\n",
       "      <th>sepal length (cat)</th>\n",
       "      <th>sepal width (cat)</th>\n",
       "      <th>petal length (cat)</th>\n",
       "      <th>petal width (cat)</th>\n",
       "      <th>class</th>\n",
       "    </tr>\n",
       "  </thead>\n",
       "  <tbody>\n",
       "    <tr>\n",
       "      <th>0</th>\n",
       "      <td>low</td>\n",
       "      <td>high</td>\n",
       "      <td>low</td>\n",
       "      <td>low</td>\n",
       "      <td>Iris-setosa</td>\n",
       "    </tr>\n",
       "    <tr>\n",
       "      <th>1</th>\n",
       "      <td>low</td>\n",
       "      <td>medium</td>\n",
       "      <td>low</td>\n",
       "      <td>low</td>\n",
       "      <td>Iris-setosa</td>\n",
       "    </tr>\n",
       "    <tr>\n",
       "      <th>2</th>\n",
       "      <td>low</td>\n",
       "      <td>medium</td>\n",
       "      <td>low</td>\n",
       "      <td>low</td>\n",
       "      <td>Iris-setosa</td>\n",
       "    </tr>\n",
       "    <tr>\n",
       "      <th>3</th>\n",
       "      <td>low</td>\n",
       "      <td>medium</td>\n",
       "      <td>low</td>\n",
       "      <td>low</td>\n",
       "      <td>Iris-setosa</td>\n",
       "    </tr>\n",
       "    <tr>\n",
       "      <th>4</th>\n",
       "      <td>low</td>\n",
       "      <td>high</td>\n",
       "      <td>low</td>\n",
       "      <td>low</td>\n",
       "      <td>Iris-setosa</td>\n",
       "    </tr>\n",
       "    <tr>\n",
       "      <th>...</th>\n",
       "      <td>...</td>\n",
       "      <td>...</td>\n",
       "      <td>...</td>\n",
       "      <td>...</td>\n",
       "      <td>...</td>\n",
       "    </tr>\n",
       "    <tr>\n",
       "      <th>145</th>\n",
       "      <td>high</td>\n",
       "      <td>medium</td>\n",
       "      <td>high</td>\n",
       "      <td>high</td>\n",
       "      <td>Iris-virginica</td>\n",
       "    </tr>\n",
       "    <tr>\n",
       "      <th>146</th>\n",
       "      <td>high</td>\n",
       "      <td>low</td>\n",
       "      <td>high</td>\n",
       "      <td>high</td>\n",
       "      <td>Iris-virginica</td>\n",
       "    </tr>\n",
       "    <tr>\n",
       "      <th>147</th>\n",
       "      <td>high</td>\n",
       "      <td>medium</td>\n",
       "      <td>high</td>\n",
       "      <td>high</td>\n",
       "      <td>Iris-virginica</td>\n",
       "    </tr>\n",
       "    <tr>\n",
       "      <th>148</th>\n",
       "      <td>medium</td>\n",
       "      <td>high</td>\n",
       "      <td>high</td>\n",
       "      <td>high</td>\n",
       "      <td>Iris-virginica</td>\n",
       "    </tr>\n",
       "    <tr>\n",
       "      <th>149</th>\n",
       "      <td>medium</td>\n",
       "      <td>medium</td>\n",
       "      <td>high</td>\n",
       "      <td>high</td>\n",
       "      <td>Iris-virginica</td>\n",
       "    </tr>\n",
       "  </tbody>\n",
       "</table>\n",
       "<p>150 rows × 5 columns</p>\n",
       "</div>"
      ],
      "text/plain": [
       "    sepal length (cat) sepal width (cat) petal length (cat) petal width (cat)  \\\n",
       "0                  low              high                low               low   \n",
       "1                  low            medium                low               low   \n",
       "2                  low            medium                low               low   \n",
       "3                  low            medium                low               low   \n",
       "4                  low              high                low               low   \n",
       "..                 ...               ...                ...               ...   \n",
       "145               high            medium               high              high   \n",
       "146               high               low               high              high   \n",
       "147               high            medium               high              high   \n",
       "148             medium              high               high              high   \n",
       "149             medium            medium               high              high   \n",
       "\n",
       "              class  \n",
       "0       Iris-setosa  \n",
       "1       Iris-setosa  \n",
       "2       Iris-setosa  \n",
       "3       Iris-setosa  \n",
       "4       Iris-setosa  \n",
       "..              ...  \n",
       "145  Iris-virginica  \n",
       "146  Iris-virginica  \n",
       "147  Iris-virginica  \n",
       "148  Iris-virginica  \n",
       "149  Iris-virginica  \n",
       "\n",
       "[150 rows x 5 columns]"
      ]
     },
     "execution_count": 157,
     "metadata": {},
     "output_type": "execute_result"
    }
   ],
   "source": [
    "columnsToSubset = ['sepal length (cat)', 'sepal width (cat)',\n",
    "       'petal length (cat)', 'petal width (cat)', 'class']\n",
    "dataCategorical = data[columnsToSubset]\n",
    "dataCategorical"
   ]
  },
  {
   "cell_type": "code",
   "execution_count": 158,
   "metadata": {},
   "outputs": [
    {
     "data": {
      "text/html": [
       "<div>\n",
       "<style scoped>\n",
       "    .dataframe tbody tr th:only-of-type {\n",
       "        vertical-align: middle;\n",
       "    }\n",
       "\n",
       "    .dataframe tbody tr th {\n",
       "        vertical-align: top;\n",
       "    }\n",
       "\n",
       "    .dataframe thead th {\n",
       "        text-align: right;\n",
       "    }\n",
       "</style>\n",
       "<table border=\"1\" class=\"dataframe\">\n",
       "  <thead>\n",
       "    <tr style=\"text-align: right;\">\n",
       "      <th></th>\n",
       "      <th>sepal length (cat)</th>\n",
       "      <th>sepal width (cat)</th>\n",
       "      <th>petal length (cat)</th>\n",
       "      <th>petal width (cat)</th>\n",
       "      <th>class</th>\n",
       "    </tr>\n",
       "  </thead>\n",
       "  <tbody>\n",
       "    <tr>\n",
       "      <th>count</th>\n",
       "      <td>150</td>\n",
       "      <td>150</td>\n",
       "      <td>150</td>\n",
       "      <td>150</td>\n",
       "      <td>150</td>\n",
       "    </tr>\n",
       "    <tr>\n",
       "      <th>unique</th>\n",
       "      <td>3</td>\n",
       "      <td>3</td>\n",
       "      <td>3</td>\n",
       "      <td>3</td>\n",
       "      <td>3</td>\n",
       "    </tr>\n",
       "    <tr>\n",
       "      <th>top</th>\n",
       "      <td>low</td>\n",
       "      <td>low</td>\n",
       "      <td>high</td>\n",
       "      <td>medium</td>\n",
       "      <td>Iris-setosa</td>\n",
       "    </tr>\n",
       "    <tr>\n",
       "      <th>freq</th>\n",
       "      <td>52</td>\n",
       "      <td>57</td>\n",
       "      <td>51</td>\n",
       "      <td>52</td>\n",
       "      <td>50</td>\n",
       "    </tr>\n",
       "  </tbody>\n",
       "</table>\n",
       "</div>"
      ],
      "text/plain": [
       "       sepal length (cat) sepal width (cat) petal length (cat)  \\\n",
       "count                 150               150                150   \n",
       "unique                  3                 3                  3   \n",
       "top                   low               low               high   \n",
       "freq                   52                57                 51   \n",
       "\n",
       "       petal width (cat)        class  \n",
       "count                150          150  \n",
       "unique                 3            3  \n",
       "top               medium  Iris-setosa  \n",
       "freq                  52           50  "
      ]
     },
     "execution_count": 158,
     "metadata": {},
     "output_type": "execute_result"
    }
   ],
   "source": [
    "# new columns\n",
    "dataCategorical.describe()"
   ]
  },
  {
   "cell_type": "code",
   "execution_count": 159,
   "metadata": {},
   "outputs": [],
   "source": [
    " # get random data splits and preprocess \n",
    "y = dataCategorical.loc[:, dataCategorical.columns != 'class']\n",
    "X = dataCategorical.loc[:,'class']\n",
    "X_train, X_test, y_train, y_test = train_test_split(X, y, test_size=0.3)\n",
    "trainingData = y_train.join(X_train)\n",
    "trainingData = trainingData.reset_index()  \n",
    "trainingData = trainingData.drop(labels = \"index\", axis = \"columns\")\n",
    "testData = y_test.join(X_test)\n",
    "testData = testData.reset_index()  \n",
    "testData = testData.drop(labels = \"index\", axis = \"columns\")\n",
    "y_test = testData.loc[:, dataCategorical.columns != 'class']\n",
    "X_test = testData.loc[:,'class']"
   ]
  },
  {
   "cell_type": "code",
   "execution_count": 160,
   "metadata": {},
   "outputs": [],
   "source": [
    "# build bayesian classifier\n",
    "\n",
    "def bayesianClassifier(trainingData, y_test, indexOfExample):\n",
    "    item = indexOfExample\n",
    "    # get prior probabilities \n",
    "    all = len(trainingData)\n",
    "    subsetVirginica = trainingData[trainingData[\"class\"] == \"Iris-virginica\"]\n",
    "    subsetVersicolor = trainingData[trainingData[\"class\"] == \"Iris-versicolor\"]\n",
    "    subsetSetosa = trainingData[trainingData[\"class\"] == \"Iris-setosa\"]\n",
    "\n",
    "    priorVirginica = len(subsetVirginica)/all\n",
    "    priorVersicolor = len(subsetVersicolor)/all\n",
    "    priorSetosa = len(subsetSetosa)/all\n",
    "\n",
    "    # get conditional probabilities per attribute\n",
    "    sepalLengthVirginica = len(subsetVirginica[subsetVirginica[\"sepal length (cat)\"] == y_test.loc[item][\"sepal length (cat)\"]])/len(subsetVirginica)\n",
    "    sepalLengthVersicolor = len(subsetVersicolor[subsetVersicolor[\"sepal length (cat)\"] == y_test.loc[item][\"sepal length (cat)\"]])/len(subsetVersicolor)\n",
    "    sepalLengthSetosa = len(subsetSetosa[subsetSetosa[\"sepal length (cat)\"] == y_test.loc[item][\"sepal length (cat)\"]])/len(subsetSetosa)\n",
    "\n",
    "    sepalWidthVirginica = len(subsetVirginica[subsetVirginica[\"sepal width (cat)\"] == y_test.loc[item][\"sepal width (cat)\"]])/len(subsetVirginica)\n",
    "    sepalWidthVersicolor = len(subsetVersicolor[subsetVersicolor[\"sepal width (cat)\"] == y_test.loc[item][\"sepal width (cat)\"]])/len(subsetVersicolor)\n",
    "    sepalWidthSetosa = len(subsetSetosa[subsetSetosa[\"sepal width (cat)\"] == y_test.loc[item][\"sepal width (cat)\"]])/len(subsetSetosa)\n",
    "\n",
    "    petalLengthVirginica = len(subsetVirginica[subsetVirginica[\"petal length (cat)\"] == y_test.loc[item][\"petal length (cat)\"]])/len(subsetVirginica)\n",
    "    petalLengthVersicolor = len(subsetVersicolor[subsetVersicolor[\"petal length (cat)\"] == y_test.loc[item][\"petal length (cat)\"]])/len(subsetVersicolor)\n",
    "    petalLengthSetosa = len(subsetSetosa[subsetSetosa[\"petal length (cat)\"] == y_test.loc[item][\"petal length (cat)\"]])/len(subsetSetosa)\n",
    "\n",
    "    petalWidthVirginica = len(subsetVirginica[subsetVirginica[\"petal width (cat)\"] == y_test.loc[item][\"petal width (cat)\"]])/len(subsetVirginica)\n",
    "    petalWidthVersicolor = len(subsetVersicolor[subsetVersicolor[\"petal width (cat)\"] == y_test.loc[item][\"petal width (cat)\"]])/len(subsetVersicolor)\n",
    "    petalWidthSetosa = len(subsetSetosa[subsetSetosa[\"petal width (cat)\"] == y_test.loc[item][\"petal width (cat)\"]])/len(subsetSetosa)\n",
    "\n",
    "\n",
    "    # calculate probability that given attributes, test example belongs to virginica\n",
    "    probabilityVirginica = sepalLengthVirginica * sepalWidthVirginica * petalLengthVirginica * petalWidthVirginica * priorVirginica\n",
    "    # calculate probability that given attributes, test example belongs to versicolor\n",
    "    probabilityVersicolor = sepalLengthVersicolor * sepalWidthVersicolor * petalLengthVersicolor * petalWidthVersicolor * priorVersicolor\n",
    "    # calculate probability that given attributes, test example belongs to setosa\n",
    "    probabilitySetosa = sepalLengthSetosa * sepalWidthSetosa * petalLengthSetosa * petalWidthSetosa * priorSetosa\n",
    "\n",
    "    \n",
    "    # classify as class where highest probability\n",
    "    if probabilityVirginica > probabilityVersicolor and probabilityVirginica > probabilitySetosa:\n",
    "        prediction = \"Iris-virginica\"\n",
    "    elif probabilityVersicolor > probabilityVirginica and probabilityVersicolor > probabilitySetosa:\n",
    "        prediction = \"Iris-versicolor\"\n",
    "    elif probabilitySetosa > probabilityVirginica and probabilitySetosa > probabilityVersicolor:\n",
    "        prediction = \"Iris-setosa\"\n",
    "\n",
    "\n",
    "    print(f\"probability Virginica: {probabilityVirginica} \\nprobability Versicolor: {probabilityVersicolor}\\nprobability Setosa: { probabilitySetosa}\")\n",
    "    return(prediction)"
   ]
  },
  {
   "cell_type": "code",
   "execution_count": 161,
   "metadata": {},
   "outputs": [
    {
     "name": "stdout",
     "output_type": "stream",
     "text": [
      "probability Virginica: 0.0001272067387769867 \n",
      "probability Versicolor: 0.05019841269841269\n",
      "probability Setosa: 0.0\n"
     ]
    },
    {
     "data": {
      "text/plain": [
       "'Iris-versicolor'"
      ]
     },
     "execution_count": 161,
     "metadata": {},
     "output_type": "execute_result"
    }
   ],
   "source": [
    "bayesianClassifier(trainingData, y_test, 13)"
   ]
  },
  {
   "cell_type": "code",
   "execution_count": 162,
   "metadata": {},
   "outputs": [],
   "source": [
    "# loop over all test examples\n",
    "\n",
    "# build bayesian classifier\n",
    "\n",
    "def bayesianClassifier(trainingData, y_test):\n",
    "    allPredictions = []\n",
    "    for item in range(len(y_test)):\n",
    "        # get prior probabilities \n",
    "        all = len(trainingData)\n",
    "        subsetVirginica = trainingData[trainingData[\"class\"] == \"Iris-virginica\"]\n",
    "        subsetVersicolor = trainingData[trainingData[\"class\"] == \"Iris-versicolor\"]\n",
    "        subsetSetosa = trainingData[trainingData[\"class\"] == \"Iris-setosa\"]\n",
    "\n",
    "        priorVirginica = len(subsetVirginica)/all\n",
    "        priorVersicolor = len(subsetVersicolor)/all\n",
    "        priorSetosa = len(subsetSetosa)/all\n",
    "\n",
    "        # get conditional probabilities per attribute\n",
    "        sepalLengthVirginica = len(subsetVirginica[subsetVirginica[\"sepal length (cat)\"] == y_test.loc[item][\"sepal length (cat)\"]])/len(subsetVirginica)\n",
    "        sepalLengthVersicolor = len(subsetVersicolor[subsetVersicolor[\"sepal length (cat)\"] == y_test.loc[item][\"sepal length (cat)\"]])/len(subsetVersicolor)\n",
    "        sepalLengthSetosa = len(subsetSetosa[subsetSetosa[\"sepal length (cat)\"] == y_test.loc[item][\"sepal length (cat)\"]])/len(subsetSetosa)\n",
    "\n",
    "        sepalWidthVirginica = len(subsetVirginica[subsetVirginica[\"sepal width (cat)\"] == y_test.loc[item][\"sepal width (cat)\"]])/len(subsetVirginica)\n",
    "        sepalWidthVersicolor = len(subsetVersicolor[subsetVersicolor[\"sepal width (cat)\"] == y_test.loc[item][\"sepal width (cat)\"]])/len(subsetVersicolor)\n",
    "        sepalWidthSetosa = len(subsetSetosa[subsetSetosa[\"sepal width (cat)\"] == y_test.loc[item][\"sepal width (cat)\"]])/len(subsetSetosa)\n",
    "\n",
    "        petalLengthVirginica = len(subsetVirginica[subsetVirginica[\"petal length (cat)\"] == y_test.loc[item][\"petal length (cat)\"]])/len(subsetVirginica)\n",
    "        petalLengthVersicolor = len(subsetVersicolor[subsetVersicolor[\"petal length (cat)\"] == y_test.loc[item][\"petal length (cat)\"]])/len(subsetVersicolor)\n",
    "        petalLengthSetosa = len(subsetSetosa[subsetSetosa[\"petal length (cat)\"] == y_test.loc[item][\"petal length (cat)\"]])/len(subsetSetosa)\n",
    "\n",
    "        petalWidthVirginica = len(subsetVirginica[subsetVirginica[\"petal width (cat)\"] == y_test.loc[item][\"petal width (cat)\"]])/len(subsetVirginica)\n",
    "        petalWidthVersicolor = len(subsetVersicolor[subsetVersicolor[\"petal width (cat)\"] == y_test.loc[item][\"petal width (cat)\"]])/len(subsetVersicolor)\n",
    "        petalWidthSetosa = len(subsetSetosa[subsetSetosa[\"petal width (cat)\"] == y_test.loc[item][\"petal width (cat)\"]])/len(subsetSetosa)\n",
    "\n",
    "\n",
    "        # calculate probability that given attributes, test example belongs to virginica\n",
    "        probabilityVirginica = sepalLengthVirginica * sepalWidthVirginica * petalLengthVirginica * petalWidthVirginica * priorVirginica\n",
    "        # calculate probability that given attributes, test example belongs to versicolor\n",
    "        probabilityVersicolor = sepalLengthVersicolor * sepalWidthVersicolor * petalLengthVersicolor * petalWidthVersicolor * priorVersicolor\n",
    "        # calculate probability that given attributes, test example belongs to setosa\n",
    "        probabilitySetosa = sepalLengthSetosa * sepalWidthSetosa * petalLengthSetosa * petalWidthSetosa * priorSetosa\n",
    "        # classify as class where highest probability\n",
    "        if probabilityVirginica >= probabilityVersicolor and probabilityVirginica > probabilitySetosa:\n",
    "            prediction = \"Iris-virginica\"\n",
    "        elif probabilityVersicolor > probabilityVirginica and probabilityVersicolor > probabilitySetosa:\n",
    "            prediction = \"Iris-versicolor\"\n",
    "        elif probabilitySetosa > probabilityVirginica and probabilitySetosa >= probabilityVersicolor:\n",
    "            prediction = \"Iris-setosa\"\n",
    "\n",
    "\n",
    "        #print(probabilityVirginica, probabilityVersicolor, probabilitySetosa)\n",
    "        allPredictions.append(prediction)\n",
    "    return(allPredictions)"
   ]
  },
  {
   "cell_type": "code",
   "execution_count": 163,
   "metadata": {},
   "outputs": [
    {
     "name": "stdout",
     "output_type": "stream",
     "text": [
      "Confusion matrix for Bayes classifier:\n",
      "True cluster       label Iris-virginica    label Iris-versicolor    label Iris-setosa\n",
      "---------------  ----------------------  -----------------------  -------------------\n",
      "Iris-virginica                       15                        2                    0\n",
      "Iris-versicolor                       2                       12                    0\n",
      "Iris-setosa                           0                        0                   14\n",
      "\n",
      " \n"
     ]
    }
   ],
   "source": [
    "# example confusion matrix\n",
    "predictionsTestData = bayesianClassifier(trainingData, y_test)\n",
    "predictionsTestData\n",
    "\n",
    "position = 0\n",
    "numberHitsVirginica = 0\n",
    "numberHitsVersicolor = 0\n",
    "numberHitsSetosa = 0\n",
    "virginicaInsteadVersicolor = 0\n",
    "virginicaInsteadSetosa = 0\n",
    "versicolorInsteadSetosa = 0\n",
    "versicolorInsteadVirginica = 0\n",
    "setosaInsteadVirginica = 0\n",
    "setosaInsteadVersicolor = 0\n",
    "\n",
    "for item in predictionsTestData:\n",
    "    # hits\n",
    "    if item == X_test[position] == \"Iris-virginica\":\n",
    "        numberHitsVirginica += 1\n",
    "    elif item == X_test[position] == \"Iris-versicolor\":\n",
    "        numberHitsVersicolor += 1\n",
    "    elif item == X_test[position] == \"Iris-setosa\":\n",
    "        numberHitsSetosa += 1\n",
    "    # false decisions\n",
    "    elif item == \"Iris-virginica\" and X_test[position] == \"Iris-versicolor\":\n",
    "        virginicaInsteadVersicolor += 1\n",
    "    elif item == \"Iris-virginica\" and X_test[position] == \"Iris-setosa\":\n",
    "        virginicaInsteadSetosa += 1\n",
    "\n",
    "    elif item == \"Iris-versicolor\" and X_test[position] == \"Iris-virginica\":\n",
    "        versicolorInsteadVirginica += 1\n",
    "    elif item == \"Iris-versicolor\" and X_test[position] == \"Iris-setosa\":\n",
    "        versicolorInsteadSetosa += 1\n",
    "\n",
    "    elif item == \"Iris-setosa\" and X_test[position] == \"Iris-virginica\":\n",
    "        setosaInsteadVirginica += 1\n",
    "    elif item == \"Iris-setosa\" and X_test[position] == \"Iris-versicolor\":\n",
    "        setosaInsteadVersicolor += 1   \n",
    "    position += 1\n",
    "\n",
    "# confusion matrix\n",
    "confusionMatrix = [\n",
    "    [\"Iris-virginica\", numberHitsVirginica, round(versicolorInsteadVirginica, 2) , round(setosaInsteadVirginica, 2)],\n",
    "    [\"Iris-versicolor\", round(virginicaInsteadVersicolor, 2), round(numberHitsVersicolor, 2), round(setosaInsteadVersicolor, 2)],\n",
    "    [\"Iris-setosa\", round(virginicaInsteadSetosa, 2), round(versicolorInsteadSetosa, 2), round(numberHitsSetosa, 2)]\n",
    "]\n",
    "head = [\"True cluster\", \"label Iris-virginica\", \"label Iris-versicolor\", \"label Iris-setosa\"]\n",
    "tableConfusionMatrix = tabulate(confusionMatrix, headers = head)\n",
    "\n",
    "print(f\"Confusion matrix for Bayes classifier:\")\n",
    "print(tableConfusionMatrix)\n",
    "print(\"\\n \")\n"
   ]
  },
  {
   "cell_type": "code",
   "execution_count": 164,
   "metadata": {},
   "outputs": [
    {
     "name": "stdout",
     "output_type": "stream",
     "text": [
      "average accuracy of bayesian classifier: 0.94\n"
     ]
    }
   ],
   "source": [
    "# split data randomly 30 times, than classify, get average performance\n",
    "\n",
    "allAccuracies = []\n",
    "for i in range(30):\n",
    "     # get random data splits and preprocess \n",
    "    y = dataCategorical.loc[:, dataCategorical.columns != 'class']\n",
    "    X = dataCategorical.loc[:,'class']\n",
    "    X_train, X_test, y_train, y_test = train_test_split(X, y, test_size=0.3)\n",
    "    trainingData = y_train.join(X_train)\n",
    "    trainingData = trainingData.reset_index()  \n",
    "    trainingData = trainingData.drop(labels = \"index\", axis = \"columns\")\n",
    "    testData = y_test.join(X_test)\n",
    "    testData = testData.reset_index()  \n",
    "    testData = testData.drop(labels = \"index\", axis = \"columns\")\n",
    "    y_test = testData.loc[:, dataCategorical.columns != 'class']\n",
    "    X_test = testData.loc[:,'class']\n",
    "\n",
    "    \n",
    "\n",
    "    predictionsTestData = bayesianClassifier(trainingData, y_test)\n",
    "\n",
    "    position = 0\n",
    "    totalCorrectPredictions = 0\n",
    "    for item in predictionsTestData:\n",
    "        if item == X_test[position]:\n",
    "            totalCorrectPredictions += 1\n",
    "        position += 1\n",
    "\n",
    "    accuracy = totalCorrectPredictions/position\n",
    "    allAccuracies.append(accuracy)\n",
    "\n",
    "averageAccuracy = sum(allAccuracies)/len(allAccuracies)\n",
    "print(f\"average accuracy of bayesian classifier: {round(averageAccuracy, 2)}\")\n",
    "\n"
   ]
  },
  {
   "cell_type": "markdown",
   "metadata": {},
   "source": [
    "2. How does this classifier compare to the k-NN classifier?"
   ]
  },
  {
   "cell_type": "code",
   "execution_count": 57,
   "metadata": {},
   "outputs": [
    {
     "data": {
      "image/png": "[encoded data removed]",
      "text/plain": [
       "<Figure size 640x480 with 1 Axes>"
      ]
     },
     "metadata": {},
     "output_type": "display_data"
    }
   ],
   "source": [
    "# boxplot visualization\n",
    "\n",
    "allSingleAccuraciesInList.append(allAccuracies)\n",
    "\n",
    "# visualize accuracies\n",
    "labels = [\"k = 3\", \"k = 7\", \"k = 11\", \"Bayes\"]\n",
    "\n",
    "fig, ax = plt.subplots()\n",
    "ax.set_ylabel(\"accuracy of class predictions\")\n",
    "ax.set_title('k-NN Performance vs. Bayes classifier Performance')\n",
    "bplot = ax.boxplot(allSingleAccuraciesInList, \n",
    "                   labels = labels)\n",
    "plt.show()"
   ]
  },
  {
   "cell_type": "markdown",
   "metadata": {},
   "source": [
    "The Bayes classifier seems to be classifying a bit worse than the k-NN classifiers. We do need to keep in mind though, that by discretizing the dataset, we took some information away, handicapping the bayes classifier a bit."
   ]
  },
  {
   "cell_type": "markdown",
   "metadata": {},
   "source": [
    "### Exercise 4\n",
    "\n",
    "Use the dataset from the previous exercise, with the categorized values (high, medium, low). Use Iris-setosa as your target value (p+ are the examples classified as Iris-setosa and p− the remaining ones) and create 3 new datasets by putting in each the examples that have the same values in the first column, i.e. Low DataSet has all elements that have the value low in the first column, Medium Dataset, has all the examples that have medium value in the dataset and High Dataset has all elements that have high value in the first column."
   ]
  },
  {
   "cell_type": "code",
   "execution_count": 165,
   "metadata": {},
   "outputs": [
    {
     "name": "stderr",
     "output_type": "stream",
     "text": [
      "/var/folders/jp/7rxct1gj4xsc_51ldxz05w9w0000gn/T/ipykernel_24337/3189479042.py:4: SettingWithCopyWarning: \n",
      "A value is trying to be set on a copy of a slice from a DataFrame.\n",
      "Try using .loc[row_indexer,col_indexer] = value instead\n",
      "\n",
      "See the caveats in the documentation: https://pandas.pydata.org/pandas-docs/stable/user_guide/indexing.html#returning-a-view-versus-a-copy\n",
      "  dataCategorical[\"class\"] = dataCategorical[\"class\"].map(dictWithNewCategories)\n"
     ]
    },
    {
     "data": {
      "text/html": [
       "<div>\n",
       "<style scoped>\n",
       "    .dataframe tbody tr th:only-of-type {\n",
       "        vertical-align: middle;\n",
       "    }\n",
       "\n",
       "    .dataframe tbody tr th {\n",
       "        vertical-align: top;\n",
       "    }\n",
       "\n",
       "    .dataframe thead th {\n",
       "        text-align: right;\n",
       "    }\n",
       "</style>\n",
       "<table border=\"1\" class=\"dataframe\">\n",
       "  <thead>\n",
       "    <tr style=\"text-align: right;\">\n",
       "      <th></th>\n",
       "      <th>sepal length (cat)</th>\n",
       "      <th>sepal width (cat)</th>\n",
       "      <th>petal length (cat)</th>\n",
       "      <th>petal width (cat)</th>\n",
       "      <th>class</th>\n",
       "    </tr>\n",
       "  </thead>\n",
       "  <tbody>\n",
       "    <tr>\n",
       "      <th>0</th>\n",
       "      <td>low</td>\n",
       "      <td>high</td>\n",
       "      <td>low</td>\n",
       "      <td>low</td>\n",
       "      <td>p+</td>\n",
       "    </tr>\n",
       "    <tr>\n",
       "      <th>1</th>\n",
       "      <td>low</td>\n",
       "      <td>medium</td>\n",
       "      <td>low</td>\n",
       "      <td>low</td>\n",
       "      <td>p+</td>\n",
       "    </tr>\n",
       "    <tr>\n",
       "      <th>2</th>\n",
       "      <td>low</td>\n",
       "      <td>medium</td>\n",
       "      <td>low</td>\n",
       "      <td>low</td>\n",
       "      <td>p+</td>\n",
       "    </tr>\n",
       "    <tr>\n",
       "      <th>3</th>\n",
       "      <td>low</td>\n",
       "      <td>medium</td>\n",
       "      <td>low</td>\n",
       "      <td>low</td>\n",
       "      <td>p+</td>\n",
       "    </tr>\n",
       "    <tr>\n",
       "      <th>4</th>\n",
       "      <td>low</td>\n",
       "      <td>high</td>\n",
       "      <td>low</td>\n",
       "      <td>low</td>\n",
       "      <td>p+</td>\n",
       "    </tr>\n",
       "    <tr>\n",
       "      <th>...</th>\n",
       "      <td>...</td>\n",
       "      <td>...</td>\n",
       "      <td>...</td>\n",
       "      <td>...</td>\n",
       "      <td>...</td>\n",
       "    </tr>\n",
       "    <tr>\n",
       "      <th>145</th>\n",
       "      <td>high</td>\n",
       "      <td>medium</td>\n",
       "      <td>high</td>\n",
       "      <td>high</td>\n",
       "      <td>p-</td>\n",
       "    </tr>\n",
       "    <tr>\n",
       "      <th>146</th>\n",
       "      <td>high</td>\n",
       "      <td>low</td>\n",
       "      <td>high</td>\n",
       "      <td>high</td>\n",
       "      <td>p-</td>\n",
       "    </tr>\n",
       "    <tr>\n",
       "      <th>147</th>\n",
       "      <td>high</td>\n",
       "      <td>medium</td>\n",
       "      <td>high</td>\n",
       "      <td>high</td>\n",
       "      <td>p-</td>\n",
       "    </tr>\n",
       "    <tr>\n",
       "      <th>148</th>\n",
       "      <td>medium</td>\n",
       "      <td>high</td>\n",
       "      <td>high</td>\n",
       "      <td>high</td>\n",
       "      <td>p-</td>\n",
       "    </tr>\n",
       "    <tr>\n",
       "      <th>149</th>\n",
       "      <td>medium</td>\n",
       "      <td>medium</td>\n",
       "      <td>high</td>\n",
       "      <td>high</td>\n",
       "      <td>p-</td>\n",
       "    </tr>\n",
       "  </tbody>\n",
       "</table>\n",
       "<p>150 rows × 5 columns</p>\n",
       "</div>"
      ],
      "text/plain": [
       "    sepal length (cat) sepal width (cat) petal length (cat) petal width (cat)  \\\n",
       "0                  low              high                low               low   \n",
       "1                  low            medium                low               low   \n",
       "2                  low            medium                low               low   \n",
       "3                  low            medium                low               low   \n",
       "4                  low              high                low               low   \n",
       "..                 ...               ...                ...               ...   \n",
       "145               high            medium               high              high   \n",
       "146               high               low               high              high   \n",
       "147               high            medium               high              high   \n",
       "148             medium              high               high              high   \n",
       "149             medium            medium               high              high   \n",
       "\n",
       "    class  \n",
       "0      p+  \n",
       "1      p+  \n",
       "2      p+  \n",
       "3      p+  \n",
       "4      p+  \n",
       "..    ...  \n",
       "145    p-  \n",
       "146    p-  \n",
       "147    p-  \n",
       "148    p-  \n",
       "149    p-  \n",
       "\n",
       "[150 rows x 5 columns]"
      ]
     },
     "execution_count": 165,
     "metadata": {},
     "output_type": "execute_result"
    }
   ],
   "source": [
    "dictWithNewCategories = {\n",
    "    'Iris-setosa': \"p+\", 'Iris-versicolor': \"p-\", 'Iris-virginica': \"p-\"\n",
    "}\n",
    "dataCategorical[\"class\"] = dataCategorical[\"class\"].map(dictWithNewCategories)\n",
    "dataCategorical"
   ]
  },
  {
   "cell_type": "code",
   "execution_count": 167,
   "metadata": {},
   "outputs": [],
   "source": [
    "# 3 subset dfs depending on feature sepal length\n",
    "\n",
    "lowDataSet = dataCategorical[dataCategorical[\"sepal length (cat)\"] == \"low\"]\n",
    "mediumDataSet = dataCategorical[dataCategorical[\"sepal length (cat)\"] == \"medium\"]\n",
    "highDataSet = dataCategorical[dataCategorical[\"sepal length (cat)\"] == \"high\"]"
   ]
  },
  {
   "cell_type": "markdown",
   "metadata": {},
   "source": [
    "\n",
    "1. Calculate the entropy of the 4 datasets (the complete dataset, and the three subsets).\n",
    "Calculate the gain of the split of S by feature a."
   ]
  },
  {
   "cell_type": "code",
   "execution_count": 168,
   "metadata": {},
   "outputs": [
    {
     "name": "stdout",
     "output_type": "stream",
     "text": [
      "Entropy full data set: 0.9182958340544896\n",
      "Entropy low sepal length data set: 0.5699613760403499\n",
      "Entropy medium sepal length data set: 0.48890859144051524\n",
      "Entropy high sepal length data set: 0\n"
     ]
    }
   ],
   "source": [
    "# calculate entropy\n",
    "\n",
    "def calculateEntropy(dataSet):\n",
    "    pPlus = len(dataSet[dataSet[\"class\"] == \"p+\"])/len(dataSet)\n",
    "    pMinus = len(dataSet[dataSet[\"class\"] == \"p-\"])/len(dataSet)\n",
    "    if pPlus == 0 or pMinus == 0:\n",
    "        entropy = 0\n",
    "    else:\n",
    "        entropy = - (pPlus * np.log2(pPlus) + pMinus * np.log2(pMinus))\n",
    "    return(entropy)\n",
    "\n",
    "entropyFullDataSet = calculateEntropy(dataCategorical)\n",
    "print(f\"Entropy full data set: {entropyFullDataSet}\")\n",
    "\n",
    "entropyLowDataSet = calculateEntropy(lowDataSet)\n",
    "print(f\"Entropy low sepal length data set: {entropyLowDataSet}\")\n",
    "\n",
    "entropyMediumDataSet = calculateEntropy(mediumDataSet)\n",
    "print(f\"Entropy medium sepal length data set: {entropyMediumDataSet}\")\n",
    "\n",
    "entropyHighDataSet = calculateEntropy(highDataSet)\n",
    "print(f\"Entropy high sepal length data set: {entropyHighDataSet}\")\n"
   ]
  },
  {
   "cell_type": "code",
   "execution_count": 169,
   "metadata": {},
   "outputs": [
    {
     "data": {
      "text/plain": [
       "0.5675178650424735"
      ]
     },
     "execution_count": 169,
     "metadata": {},
     "output_type": "execute_result"
    }
   ],
   "source": [
    "# calculate info gain\n",
    "\n",
    "gain = entropyFullDataSet - (sum([len(lowDataSet)*entropyLowDataSet, len(mediumDataSet)*entropyMediumDataSet, len(highDataSet)*entropyHighDataSet])/len(dataCategorical))\n",
    "gain"
   ]
  },
  {
   "cell_type": "markdown",
   "metadata": {},
   "source": [
    "2. What is the value of gain(S, a) for the above split? What does it mean in terms of your ability to classify the elements of S before and after the split?"
   ]
  },
  {
   "cell_type": "markdown",
   "metadata": {},
   "source": [
    "The gain is 0.5675178650424735.\n",
    "It means that the uncertainty in classifying new examples is reduced by 0.57.\n",
    "How good that is depends on the entropy of the original data set and on the comparison of all other possible splits that could be made."
   ]
  },
  {
   "cell_type": "markdown",
   "metadata": {},
   "source": [
    "3. Do the same for all features of your dataset. Which is the feature with greatest gain? How can you improve your chances of guessing a random examples’ class using this information?"
   ]
  },
  {
   "cell_type": "code",
   "execution_count": 170,
   "metadata": {},
   "outputs": [
    {
     "name": "stdout",
     "output_type": "stream",
     "text": [
      "Entropy full data set: 0.9182958340544896\n",
      "Entropy low data set: 0.5699613760403499\n",
      "Entropy medium data set: 0.48890859144051524\n",
      "Entropy high data set: 0\n",
      " Info gain for sepal length (cat): 0.5675178650424735\n",
      "Entropy full data set: 0.9182958340544896\n",
      "Entropy low data set: 0.2192973081321754\n",
      "Entropy medium data set: 0.8974271930876951\n",
      "Entropy high data set: 0.7918583525674836\n",
      " Info gain for sepal width (cat): 0.3081172725955511\n",
      "Entropy full data set: 0.9182958340544896\n",
      "Entropy low data set: 0\n",
      "Entropy medium data set: 0\n",
      "Entropy high data set: 0\n",
      " Info gain for petal length (cat): 0.9182958340544896\n",
      "Entropy full data set: 0.9182958340544896\n",
      "Entropy low data set: 0\n",
      "Entropy medium data set: 0\n",
      "Entropy high data set: 0\n",
      " Info gain for petal width (cat): 0.9182958340544896\n"
     ]
    },
    {
     "data": {
      "text/plain": [
       "['petal length (cat)', 'petal width (cat)']"
      ]
     },
     "execution_count": 170,
     "metadata": {},
     "output_type": "execute_result"
    }
   ],
   "source": [
    "listWithColoumnNames = [\n",
    "    'sepal length (cat)', \n",
    "    'sepal width (cat)',\n",
    "    'petal length (cat)', \n",
    "    'petal width (cat)']\n",
    "\n",
    "dictColoumnNameToGain = {}\n",
    "for coloumnName in listWithColoumnNames:\n",
    "    lowDataSet = dataCategorical[dataCategorical[coloumnName] == \"low\"]\n",
    "    mediumDataSet = dataCategorical[dataCategorical[coloumnName] == \"medium\"]\n",
    "    highDataSet = dataCategorical[dataCategorical[coloumnName] == \"high\"]\n",
    "\n",
    "    entropyFullDataSet = calculateEntropy(dataCategorical)\n",
    "    print(f\"Entropy full data set: {entropyFullDataSet}\")\n",
    "    entropyLowDataSet = calculateEntropy(lowDataSet)\n",
    "    print(f\"Entropy low data set: {entropyLowDataSet}\")\n",
    "    entropyMediumDataSet = calculateEntropy(mediumDataSet)\n",
    "    print(f\"Entropy medium data set: {entropyMediumDataSet}\")\n",
    "    entropyHighDataSet = calculateEntropy(highDataSet)\n",
    "    print(f\"Entropy high data set: {entropyHighDataSet}\")\n",
    "\n",
    "    gain = entropyFullDataSet - (sum([len(lowDataSet)*entropyLowDataSet, len(mediumDataSet)*entropyMediumDataSet, len(highDataSet)*entropyHighDataSet])/len(dataCategorical))\n",
    "    print(f\" Info gain for {coloumnName}: {gain}\")\n",
    "\n",
    "    dictColoumnNameToGain[coloumnName] = gain\n",
    "\n",
    "maxGain = max(dictColoumnNameToGain.values()) \n",
    "maxGainKeys = [key for key, value in dictColoumnNameToGain.items() if value == maxGain]\n",
    "\n",
    "\n",
    "maxGainKeys\n",
    "    "
   ]
  },
  {
   "cell_type": "markdown",
   "metadata": {},
   "source": [
    "['petal length (cat)', 'petal width (cat)']\n",
    "are the features with the greatest gains. Both perfectly split the data. \n",
    "So, if we have a random example, we can just look at the petal length or petal width. If they are \"low\", classify as \"p+\". If not, classify as \"p-\".\n"
   ]
  },
  {
   "cell_type": "code",
   "execution_count": 63,
   "metadata": {},
   "outputs": [
    {
     "name": "stdout",
     "output_type": "stream",
     "text": [
      "    sepal length (cat) sepal width (cat) petal length (cat) petal width (cat)  \\\n",
      "50                high            medium             medium            medium   \n",
      "51                high            medium             medium            medium   \n",
      "52                high            medium               high            medium   \n",
      "53              medium               low             medium            medium   \n",
      "54                high               low             medium            medium   \n",
      "..                 ...               ...                ...               ...   \n",
      "145               high            medium               high              high   \n",
      "146               high               low               high              high   \n",
      "147               high            medium               high              high   \n",
      "148             medium              high               high              high   \n",
      "149             medium            medium               high              high   \n",
      "\n",
      "    class  \n",
      "50     p-  \n",
      "51     p-  \n",
      "52     p-  \n",
      "53     p-  \n",
      "54     p-  \n",
      "..    ...  \n",
      "145    p-  \n",
      "146    p-  \n",
      "147    p-  \n",
      "148    p-  \n",
      "149    p-  \n",
      "\n",
      "[100 rows x 5 columns]\n"
     ]
    }
   ],
   "source": [
    "print(dataCategorical[dataCategorical[\"class\"] == \"p-\"])"
   ]
  },
  {
   "cell_type": "markdown",
   "metadata": {},
   "source": [
    "4. Explain how to build a decision tree with this information.\n",
    "\n"
   ]
  },
  {
   "cell_type": "code",
   "execution_count": 49,
   "metadata": {},
   "outputs": [
    {
     "data": {
      "text/html": [
       "<div>\n",
       "<style scoped>\n",
       "    .dataframe tbody tr th:only-of-type {\n",
       "        vertical-align: middle;\n",
       "    }\n",
       "\n",
       "    .dataframe tbody tr th {\n",
       "        vertical-align: top;\n",
       "    }\n",
       "\n",
       "    .dataframe thead th {\n",
       "        text-align: right;\n",
       "    }\n",
       "</style>\n",
       "<table border=\"1\" class=\"dataframe\">\n",
       "  <thead>\n",
       "    <tr style=\"text-align: right;\">\n",
       "      <th></th>\n",
       "      <th>sepal length (cat)</th>\n",
       "      <th>sepal width (cat)</th>\n",
       "      <th>petal length (cat)</th>\n",
       "      <th>petal width (cat)</th>\n",
       "      <th>class</th>\n",
       "    </tr>\n",
       "  </thead>\n",
       "  <tbody>\n",
       "    <tr>\n",
       "      <th>count</th>\n",
       "      <td>50</td>\n",
       "      <td>50</td>\n",
       "      <td>50</td>\n",
       "      <td>50</td>\n",
       "      <td>50</td>\n",
       "    </tr>\n",
       "    <tr>\n",
       "      <th>unique</th>\n",
       "      <td>2</td>\n",
       "      <td>3</td>\n",
       "      <td>1</td>\n",
       "      <td>1</td>\n",
       "      <td>1</td>\n",
       "    </tr>\n",
       "    <tr>\n",
       "      <th>top</th>\n",
       "      <td>low</td>\n",
       "      <td>high</td>\n",
       "      <td>low</td>\n",
       "      <td>low</td>\n",
       "      <td>p+</td>\n",
       "    </tr>\n",
       "    <tr>\n",
       "      <th>freq</th>\n",
       "      <td>45</td>\n",
       "      <td>32</td>\n",
       "      <td>50</td>\n",
       "      <td>50</td>\n",
       "      <td>50</td>\n",
       "    </tr>\n",
       "  </tbody>\n",
       "</table>\n",
       "</div>"
      ],
      "text/plain": [
       "       sepal length (cat) sepal width (cat) petal length (cat)  \\\n",
       "count                  50                50                 50   \n",
       "unique                  2                 3                  1   \n",
       "top                   low              high                low   \n",
       "freq                   45                32                 50   \n",
       "\n",
       "       petal width (cat) class  \n",
       "count                 50    50  \n",
       "unique                 1     1  \n",
       "top                  low    p+  \n",
       "freq                  50    50  "
      ]
     },
     "execution_count": 49,
     "metadata": {},
     "output_type": "execute_result"
    }
   ],
   "source": [
    "subsetPPlus = dataCategorical[dataCategorical[\"class\"] == \"p+\"]\n",
    "subsetPPlus.describe()"
   ]
  },
  {
   "cell_type": "markdown",
   "metadata": {},
   "source": [
    "Buildig a decision tree would be really easy with this datset:\n",
    "\n",
    "Only rule, with an accuracy of 100%:\n",
    "\n",
    "    If petal length (cat) == \"low\":\n",
    "        categorize as \"p+\"\n",
    "    else:\n",
    "        categorize as \"p-\""
   ]
  },
  {
   "cell_type": "markdown",
   "metadata": {},
   "source": [
    "General procedure when building a decision tree:\n",
    "\n",
    "    1. calculate entropy and info gain for all possible splits\n",
    "    2. find highest info gain and use that split criterion for first branching\n",
    "    \n",
    "    3. repeat 1. and 2. with subsets of data until all data is classified or no criterions are left\n",
    "    (if no data left, done :)\n",
    "    (if no feature left, choose majority category for all data that is left)\n"
   ]
  }
 ],
 "metadata": {
  "kernelspec": {
   "display_name": "base",
   "language": "python",
   "name": "python3"
  },
  "language_info": {
   "codemirror_mode": {
    "name": "ipython",
    "version": 3
   },
   "file_extension": ".py",
   "mimetype": "text/x-python",
   "name": "python",
   "nbconvert_exporter": "python",
   "pygments_lexer": "ipython3",
   "version": "3.11.5"
  }
 },
 "nbformat": 4,
 "nbformat_minor": 2
}
