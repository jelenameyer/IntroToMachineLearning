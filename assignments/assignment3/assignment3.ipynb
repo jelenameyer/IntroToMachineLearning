{
 "cells": [
  {
   "cell_type": "markdown",
   "metadata": {},
   "source": [
    "# Introduction to Machine Learning — 2023/2024 Reinforcement Learning\n",
    "\n"
   ]
  },
  {
   "cell_type": "code",
   "execution_count": 85,
   "metadata": {},
   "outputs": [],
   "source": [
    "import numpy as np\n",
    "import random\n",
    "import matplotlib.pyplot as plt\n",
    "import time\n"
   ]
  },
  {
   "cell_type": "markdown",
   "metadata": {},
   "source": [
    "### Exercise 1\n",
    "\n",
    "Build the simulation environment. Develop the following functionalities:"
   ]
  },
  {
   "cell_type": "markdown",
   "metadata": {},
   "source": [
    "a) The state-transition function (s′ = f (s, a)), where a state (s) and an action (a) are given as argument, and a new state (the arrival state, s′) is returned, so that: f(1,right) = 2, f(1, down) = 11, f(1, up) = 1, etc."
   ]
  },
  {
   "cell_type": "markdown",
   "metadata": {},
   "source": [
    "When tie, than always chose random action"
   ]
  },
  {
   "cell_type": "code",
   "execution_count": 41,
   "metadata": {},
   "outputs": [],
   "source": [
    "def stateTransitionFunction(state, action):\n",
    "    newstate = state\n",
    "    if action == 'right':\n",
    "        newstate += 1\n",
    "    elif action == 'left':\n",
    "        newstate -= 1\n",
    "    elif action == 'up':\n",
    "        newstate -= 10\n",
    "    elif action == 'down':\n",
    "        newstate += 10\n",
    "    \n",
    "    if newstate in range(1, 101):\n",
    "        if not (state % 10 == 1 and action == 'left') and not (state % 10 == 0 and action == 'right'):\n",
    "            state = newstate\n",
    "\n",
    "    return state"
   ]
  },
  {
   "cell_type": "code",
   "execution_count": 42,
   "metadata": {},
   "outputs": [
    {
     "data": {
      "text/plain": [
       "1"
      ]
     },
     "execution_count": 42,
     "metadata": {},
     "output_type": "execute_result"
    }
   ],
   "source": [
    "stateTransitionFunction(1, \"left\")"
   ]
  },
  {
   "cell_type": "markdown",
   "metadata": {},
   "source": [
    "b) A reward function r(s) that rewards all states with 0 and the goal-state(state100) with 100 points."
   ]
  },
  {
   "cell_type": "code",
   "execution_count": 43,
   "metadata": {},
   "outputs": [],
   "source": [
    "def getReward(state):\n",
    "    reward = 0\n",
    "    if state == 100:\n",
    "        reward = 100\n",
    "    else:\n",
    "        pass\n",
    "\n",
    "    return (reward)"
   ]
  },
  {
   "cell_type": "code",
   "execution_count": 44,
   "metadata": {},
   "outputs": [
    {
     "data": {
      "text/plain": [
       "0"
      ]
     },
     "execution_count": 44,
     "metadata": {},
     "output_type": "execute_result"
    }
   ],
   "source": [
    "getReward(10000)"
   ]
  },
  {
   "cell_type": "markdown",
   "metadata": {},
   "source": [
    "c) A function that randomly chooses an action."
   ]
  },
  {
   "cell_type": "code",
   "execution_count": 45,
   "metadata": {},
   "outputs": [],
   "source": [
    "def randomlyChoseAction():\n",
    "    possibleActions = [\"up\", \"left\", \"right\", \"down\"]\n",
    "    randomPosition = random.randint(0,3)\n",
    "    randomAction = possibleActions[randomPosition]\n",
    "\n",
    "    return (randomAction)\n"
   ]
  },
  {
   "cell_type": "code",
   "execution_count": 53,
   "metadata": {},
   "outputs": [
    {
     "data": {
      "text/plain": [
       "'up'"
      ]
     },
     "execution_count": 53,
     "metadata": {},
     "output_type": "execute_result"
    }
   ],
   "source": [
    "randomlyChoseAction()"
   ]
  },
  {
   "cell_type": "markdown",
   "metadata": {},
   "source": [
    "d)  An episode consists in all the movements from the start-point until it reaches the goal, or until it gives-up (because it has reached the maximum number of steps allowed). Define the end of the episode as: the robot reaches the goal-state (the plug, marked with an X, state 100) or the robot performs 1000 actions without reaching the goal. After the end of an episode the robot gets the reward (if it has reached the goal) and is always returned to the initial position. "
   ]
  },
  {
   "cell_type": "code",
   "execution_count": null,
   "metadata": {},
   "outputs": [
    {
     "name": "stdout",
     "output_type": "stream",
     "text": [
      "(743, 100)\n"
     ]
    }
   ],
   "source": [
    "def runEpisode(state = 1, finalState = 100, maxNumberStepsAllowed = 1000):\n",
    "    numberOfStepsEpisode = 0\n",
    "    reward = 0\n",
    "\n",
    "    while state != finalState and numberOfStepsEpisode < maxNumberStepsAllowed:\n",
    "        state = stateTransitionFunction(state, randomlyChoseAction())\n",
    "        reward += getReward(state) \n",
    "        numberOfStepsEpisode +=1\n",
    "\n",
    "    return (numberOfStepsEpisode, reward)\n",
    "\n",
    "random.seed(13)\n",
    "print(runEpisode())\n"
   ]
  },
  {
   "cell_type": "markdown",
   "metadata": {},
   "source": [
    "e) Simulate the robot performing an episode and repeat it 30 times. Measure and record the average reward per step in each episode and the number of steps to reach the goal in each episode. Calculate the mean and standard deviation of the number of steps to reach the goal, execution times, and rewards for the 30 tests. These will be the reference results and will be used to test whether the system is performing better than just guessing randomly.\n"
   ]
  },
  {
   "cell_type": "code",
   "execution_count": 122,
   "metadata": {},
   "outputs": [
    {
     "name": "stdout",
     "output_type": "stream",
     "text": [
      "number of steps mean: 588.4666666666667, sd: 311.68442730143295\n",
      "overall reward mean: 73.33333333333333, sd: 44.221663871405326\n",
      "execution time mean: 0.0010486364364624024, sd: 0.0007888926780456286\n",
      "average rewards per step: 0.22732994299646986, sd: 0.21027542407602043\n"
     ]
    }
   ],
   "source": [
    "allNumberOfStepsEpisode = []\n",
    "allRewards = [] # need???\n",
    "allexecutionTimes = []\n",
    "allRewardsPerSteps = []\n",
    "\n",
    "random.seed(13)\n",
    "for i in range(30):\n",
    "    startTime = time.time()\n",
    "    numberOfStepsEpisode, reward = runEpisode()\n",
    "    endTime = time.time()\n",
    "    executionTime = endTime - startTime\n",
    "\n",
    "    allNumberOfStepsEpisode.append(numberOfStepsEpisode)\n",
    "    allRewards.append(reward)\n",
    "    allexecutionTimes.append(executionTime)\n",
    "\n",
    "    rewardPerStep = reward/numberOfStepsEpisode\n",
    "    allRewardsPerSteps.append(rewardPerStep)\n",
    "\n",
    "\n",
    "# get metrics\n",
    "\n",
    "# steps needed\n",
    "meanNumberOfStepsEpisode = sum(allNumberOfStepsEpisode) /len(allNumberOfStepsEpisode)\n",
    "sdNumberOfStepsEpisode = np.std(allNumberOfStepsEpisode)\n",
    "print(f\"number of steps mean: {meanNumberOfStepsEpisode}, sd: {sdNumberOfStepsEpisode}\")\n",
    "\n",
    "# reward total\n",
    "meanRewards = sum(allRewards) /len(allRewards)\n",
    "sdRewards = np.std(allRewards)\n",
    "print(f\"overall reward mean: {meanRewards}, sd: {sdRewards}\")\n",
    "\n",
    "# execution time\n",
    "meanExecutionTimes = sum(allexecutionTimes) /len(allexecutionTimes)\n",
    "sdExecutionTimes = np.std(allexecutionTimes)\n",
    "print(f\"execution time mean: {meanExecutionTimes}, sd: {sdExecutionTimes}\")\n",
    "\n",
    "# average reward per step\n",
    "averageRewardPerStep = sum(allRewardsPerSteps) /len(allRewardsPerSteps)\n",
    "sdRewardPerStep = np.std(allRewardsPerSteps)\n",
    "print(f\"average rewards per step: {averageRewardPerStep}, sd: {sdRewardPerStep}\")\n"
   ]
  },
  {
   "cell_type": "markdown",
   "metadata": {},
   "source": [
    "\n",
    "f) Represent the mean and standard deviation (reward, steps to reach the goal, and execution times), each in a different boxplot with vertical boxes (Figure 2)."
   ]
  },
  {
   "cell_type": "code",
   "execution_count": null,
   "metadata": {},
   "outputs": [
    {
     "data": {
      "image/png": "[encoded data removed]",
      "text/plain": [
       "<Figure size 640x480 with 3 Axes>"
      ]
     },
     "metadata": {},
     "output_type": "display_data"
    }
   ],
   "source": [
    "# visualize metrics\n",
    "fig, axs = plt.subplots(1, 3)\n",
    "\n",
    "axs[0].boxplot(allRewardsPerSteps, \n",
    "                   patch_artist=True)\n",
    "axs[0].set_title(\"mean reward per step\")\n",
    "axs[0].set_xticks([])\n",
    "\n",
    "axs[1].boxplot(allNumberOfStepsEpisode, \n",
    "                   patch_artist=True)\n",
    "axs[1].set_title(\"mean number of steps\")\n",
    "axs[1].set_xticks([])\n",
    "\n",
    "axs[2].boxplot(allexecutionTimes, \n",
    "                   patch_artist=True)\n",
    "axs[2].set_title(\"mean execution time (s)\")\n",
    "axs[2].set_xticks([])\n",
    "\n",
    "fig.subplots_adjust(left=0.2, right=1.4, bottom=0.05, top=0.9,\n",
    "                    hspace=0.4, wspace=0.3)\n",
    "\n",
    "\n",
    "plt.show()"
   ]
  },
  {
   "cell_type": "markdown",
   "metadata": {},
   "source": [
    "# Exercise 2\n",
    "\n",
    "Create a matrix Q"
   ]
  },
  {
   "cell_type": "code",
   "execution_count": null,
   "metadata": {},
   "outputs": [],
   "source": []
  }
 ],
 "metadata": {
  "kernelspec": {
   "display_name": "base",
   "language": "python",
   "name": "python3"
  },
  "language_info": {
   "codemirror_mode": {
    "name": "ipython",
    "version": 3
   },
   "file_extension": ".py",
   "mimetype": "text/x-python",
   "name": "python",
   "nbconvert_exporter": "python",
   "pygments_lexer": "ipython3",
   "version": "3.11.5"
  }
 },
 "nbformat": 4,
 "nbformat_minor": 2
}
