{
 "cells": [
  {
   "cell_type": "markdown",
   "metadata": {},
   "source": [
    "# Introduction to Machine Learning — 2023/2024 Reinforcement Learning\n",
    "\n"
   ]
  },
  {
   "cell_type": "markdown",
   "metadata": {},
   "source": []
  },
  {
   "cell_type": "code",
   "execution_count": 112,
   "metadata": {},
   "outputs": [],
   "source": [
    "import numpy as np\n",
    "import random\n",
    "import matplotlib.pyplot as plt\n",
    "import time\n",
    "import pandas as pd\n"
   ]
  },
  {
   "cell_type": "markdown",
   "metadata": {},
   "source": [
    "### Exercise 1\n",
    "\n",
    "Build the simulation environment. Develop the following functionalities:"
   ]
  },
  {
   "cell_type": "markdown",
   "metadata": {},
   "source": [
    "a) The state-transition function (s′ = f (s, a)), where a state (s) and an action (a) are given as argument, and a new state (the arrival state, s′) is returned, so that: f(1,right) = 2, f(1, down) = 11, f(1, up) = 1, etc."
   ]
  },
  {
   "cell_type": "markdown",
   "metadata": {},
   "source": [
    "When tie, than always chose random action"
   ]
  },
  {
   "cell_type": "code",
   "execution_count": 113,
   "metadata": {},
   "outputs": [],
   "source": [
    "def stateTransitionFunction(state, action):\n",
    "    newstate = state\n",
    "    if action == 'right':\n",
    "        newstate += 1\n",
    "    elif action == 'left':\n",
    "        newstate -= 1\n",
    "    elif action == 'up':\n",
    "        newstate -= 10\n",
    "    elif action == 'down':\n",
    "        newstate += 10\n",
    "    \n",
    "    if newstate in range(1, 101):\n",
    "        if not (state % 10 == 1 and action == 'left') and not (state % 10 == 0 and action == 'right'):\n",
    "            state = newstate\n",
    "\n",
    "    return state"
   ]
  },
  {
   "cell_type": "code",
   "execution_count": 114,
   "metadata": {},
   "outputs": [
    {
     "data": {
      "text/plain": [
       "1"
      ]
     },
     "execution_count": 114,
     "metadata": {},
     "output_type": "execute_result"
    }
   ],
   "source": [
    "stateTransitionFunction(1, \"left\")"
   ]
  },
  {
   "cell_type": "markdown",
   "metadata": {},
   "source": [
    "b) A reward function r(s) that rewards all states with 0 and the goal-state(state100) with 100 points."
   ]
  },
  {
   "cell_type": "code",
   "execution_count": 115,
   "metadata": {},
   "outputs": [],
   "source": [
    "def getReward(state):\n",
    "    reward = 0\n",
    "    if state == 100:\n",
    "        reward = 100\n",
    "    else:\n",
    "        pass\n",
    "\n",
    "    return (reward)"
   ]
  },
  {
   "cell_type": "code",
   "execution_count": 116,
   "metadata": {},
   "outputs": [
    {
     "data": {
      "text/plain": [
       "0"
      ]
     },
     "execution_count": 116,
     "metadata": {},
     "output_type": "execute_result"
    }
   ],
   "source": [
    "getReward(10000)"
   ]
  },
  {
   "cell_type": "markdown",
   "metadata": {},
   "source": [
    "c) A function that randomly chooses an action."
   ]
  },
  {
   "cell_type": "code",
   "execution_count": 117,
   "metadata": {},
   "outputs": [],
   "source": [
    "def randomlyChoseAction():\n",
    "    possibleActions = [\"up\", \"left\", \"right\", \"down\"]\n",
    "    randomPosition = random.randint(0,3)\n",
    "    randomAction = possibleActions[randomPosition]\n",
    "\n",
    "    return (randomAction)\n"
   ]
  },
  {
   "cell_type": "code",
   "execution_count": 118,
   "metadata": {},
   "outputs": [
    {
     "data": {
      "text/plain": [
       "'right'"
      ]
     },
     "execution_count": 118,
     "metadata": {},
     "output_type": "execute_result"
    }
   ],
   "source": [
    "randomlyChoseAction()"
   ]
  },
  {
   "cell_type": "markdown",
   "metadata": {},
   "source": [
    "d)  An episode consists in all the movements from the start-point until it reaches the goal, or until it gives-up (because it has reached the maximum number of steps allowed). Define the end of the episode as: the robot reaches the goal-state (the plug, marked with an X, state 100) or the robot performs 1000 actions without reaching the goal. After the end of an episode the robot gets the reward (if it has reached the goal) and is always returned to the initial position. "
   ]
  },
  {
   "cell_type": "code",
   "execution_count": 119,
   "metadata": {},
   "outputs": [
    {
     "name": "stdout",
     "output_type": "stream",
     "text": [
      "(743, 100)\n"
     ]
    }
   ],
   "source": [
    "def runEpisode(state = 1, finalState = 100, maxNumberStepsAllowed = 1000):\n",
    "    numberOfStepsEpisode = 0\n",
    "    reward = 0\n",
    "\n",
    "    while state != finalState and numberOfStepsEpisode < maxNumberStepsAllowed:\n",
    "        state = stateTransitionFunction(state, randomlyChoseAction())\n",
    "        reward += getReward(state) \n",
    "        numberOfStepsEpisode +=1\n",
    "\n",
    "    return (numberOfStepsEpisode, reward)\n",
    "\n",
    "random.seed(13)\n",
    "print(runEpisode())\n"
   ]
  },
  {
   "cell_type": "markdown",
   "metadata": {},
   "source": [
    "e) Simulate the robot performing an episode and repeat it 30 times. Measure and record the average reward per step in each episode and the number of steps to reach the goal in each episode. Calculate the mean and standard deviation of the number of steps to reach the goal, execution times, and rewards for the 30 tests. These will be the reference results and will be used to test whether the system is performing better than just guessing randomly.\n"
   ]
  },
  {
   "cell_type": "code",
   "execution_count": 120,
   "metadata": {},
   "outputs": [
    {
     "name": "stdout",
     "output_type": "stream",
     "text": [
      "number of steps mean: 588.4666666666667, sd: 311.68442730143295\n",
      "overall reward mean: 73.33333333333333, sd: 44.221663871405326\n",
      "execution time mean: 0.0010615110397338868, sd: 0.000599699347759541\n",
      "average rewards per step: 0.22732994299646986, sd: 0.21027542407602043\n"
     ]
    }
   ],
   "source": [
    "allNumberOfStepsEpisode = []\n",
    "allRewards = [] # need???\n",
    "allexecutionTimes = []\n",
    "allRewardsPerSteps = []\n",
    "\n",
    "random.seed(13)\n",
    "for i in range(30):\n",
    "    startTime = time.time()\n",
    "    numberOfStepsEpisode, reward = runEpisode()\n",
    "    endTime = time.time()\n",
    "    executionTime = endTime - startTime\n",
    "\n",
    "    allNumberOfStepsEpisode.append(numberOfStepsEpisode)\n",
    "    allRewards.append(reward)\n",
    "    allexecutionTimes.append(executionTime)\n",
    "\n",
    "    rewardPerStep = reward/numberOfStepsEpisode\n",
    "    allRewardsPerSteps.append(rewardPerStep)\n",
    "\n",
    "\n",
    "# get metrics\n",
    "\n",
    "# steps needed\n",
    "meanNumberOfStepsEpisode = sum(allNumberOfStepsEpisode) /len(allNumberOfStepsEpisode)\n",
    "sdNumberOfStepsEpisode = np.std(allNumberOfStepsEpisode)\n",
    "print(f\"number of steps mean: {meanNumberOfStepsEpisode}, sd: {sdNumberOfStepsEpisode}\")\n",
    "\n",
    "# reward total\n",
    "meanRewards = sum(allRewards) /len(allRewards)\n",
    "sdRewards = np.std(allRewards)\n",
    "print(f\"overall reward mean: {meanRewards}, sd: {sdRewards}\")\n",
    "\n",
    "# execution time\n",
    "meanExecutionTimes = sum(allexecutionTimes) /len(allexecutionTimes)\n",
    "sdExecutionTimes = np.std(allexecutionTimes)\n",
    "print(f\"execution time mean: {meanExecutionTimes}, sd: {sdExecutionTimes}\")\n",
    "\n",
    "# average reward per step\n",
    "averageRewardPerStep = sum(allRewardsPerSteps) /len(allRewardsPerSteps)\n",
    "sdRewardPerStep = np.std(allRewardsPerSteps)\n",
    "print(f\"average rewards per step: {averageRewardPerStep}, sd: {sdRewardPerStep}\")\n"
   ]
  },
  {
   "cell_type": "markdown",
   "metadata": {},
   "source": [
    "\n",
    "f) Represent the mean and standard deviation (reward, steps to reach the goal, and execution times), each in a different boxplot with vertical boxes (Figure 2)."
   ]
  },
  {
   "cell_type": "code",
   "execution_count": 121,
   "metadata": {},
   "outputs": [
    {
     "data": {
      "image/png": "[encoded data removed]",
      "text/plain": [
       "<Figure size 640x480 with 3 Axes>"
      ]
     },
     "metadata": {},
     "output_type": "display_data"
    }
   ],
   "source": [
    "# visualize metrics\n",
    "fig, axs = plt.subplots(1, 3)\n",
    "\n",
    "axs[0].boxplot(allRewardsPerSteps, \n",
    "                   patch_artist=True)\n",
    "axs[0].set_title(\"mean reward per step\")\n",
    "axs[0].set_xticks([])\n",
    "\n",
    "axs[1].boxplot(allNumberOfStepsEpisode, \n",
    "                   patch_artist=True)\n",
    "axs[1].set_title(\"mean number of steps\")\n",
    "axs[1].set_xticks([])\n",
    "\n",
    "axs[2].boxplot(allexecutionTimes, \n",
    "                   patch_artist=True)\n",
    "axs[2].set_title(\"mean execution time (s)\")\n",
    "axs[2].set_xticks([])\n",
    "\n",
    "fig.subplots_adjust(left=0.2, right=1.4, bottom=0.05, top=0.9,\n",
    "                    hspace=0.4, wspace=0.3)\n",
    "\n",
    "\n",
    "plt.show()"
   ]
  },
  {
   "cell_type": "markdown",
   "metadata": {},
   "source": [
    "# Exercise 2\n",
    "\n",
    "Create a matrix Q"
   ]
  },
  {
   "cell_type": "code",
   "execution_count": 122,
   "metadata": {},
   "outputs": [
    {
     "data": {
      "text/plain": [
       "array([0., 0., 0., 0., 0., 0., 0., 0., 0., 0., 0., 0., 0., 0., 0., 0., 0.,\n",
       "       0., 0., 0., 0., 0., 0., 0., 0., 0., 0., 0., 0., 0., 0., 0., 0., 0.,\n",
       "       0., 0., 0., 0., 0., 0., 0., 0., 0., 0., 0., 0., 0., 0., 0., 0., 0.,\n",
       "       0., 0., 0., 0., 0., 0., 0., 0., 0., 0., 0., 0., 0., 0., 0., 0., 0.,\n",
       "       0., 0., 0., 0., 0., 0., 0., 0., 0., 0., 0., 0., 0., 0., 0., 0., 0.,\n",
       "       0., 0., 0., 0., 0., 0., 0., 0., 0., 0., 0., 0., 0., 0., 0., 0.],\n",
       "      dtype=float32)"
      ]
     },
     "execution_count": 122,
     "metadata": {},
     "output_type": "execute_result"
    }
   ],
   "source": [
    "dType = [('right', 'f4'), ('left', 'f4'), ('up', 'f4'), ('down', 'f4')]\n",
    "matrixQ = np.zeros(101, dtype = dType)\n",
    "matrixQ[\"right\"]"
   ]
  },
  {
   "cell_type": "code",
   "execution_count": 123,
   "metadata": {},
   "outputs": [],
   "source": [
    "# state = 1\n",
    "# matrixQ[\"right\"][1] = 1000\n",
    "\n",
    "# allPossibleUtilitiesAtNextState = [matrixQ[\"right\"][state], matrixQ[\"left\"][state], matrixQ[\"up\"][state], matrixQ[\"down\"][state]]\n",
    "# allPossibleUtilitiesAtNextState\n",
    "\n",
    "# maxUtility = max(allPossibleUtilitiesAtNextState)\n",
    "# maxUtility\n",
    "# matrixQ"
   ]
  },
  {
   "cell_type": "code",
   "execution_count": 124,
   "metadata": {},
   "outputs": [],
   "source": [
    "def getUpdatedUtility(state, action, matrixQ, alpha = 0.7, discountRate = 0.99):\n",
    "    QAtStateAndAction = matrixQ[action][state]\n",
    "    nextState = stateTransitionFunction(state, action)\n",
    "    rewardAtNextState = getReward(nextState)\n",
    "\n",
    "    allPossibleUtilitiesAtNextState = [matrixQ[\"right\"][nextState], matrixQ[\"left\"][nextState], matrixQ[\"up\"][nextState], matrixQ[\"down\"][nextState]]\n",
    "    maxUtilityNextState = max(allPossibleUtilitiesAtNextState)\n",
    "\n",
    "    utilityState = (1-alpha)*QAtStateAndAction + alpha * (rewardAtNextState + discountRate*maxUtilityNextState)\n",
    "    return (utilityState)\n",
    "\n",
    "def updateUtility(state, action, matrixQ, alpha = 0.7, discountRate = 0.99):\n",
    "    updatedUtility = getUpdatedUtility(state, action, matrixQ, alpha, discountRate)\n",
    "    matrixQ[action][state] = updatedUtility\n",
    "\n",
    "    return (matrixQ)\n"
   ]
  },
  {
   "cell_type": "code",
   "execution_count": 125,
   "metadata": {},
   "outputs": [
    {
     "data": {
      "text/plain": [
       "array([(0., 0., 0., 0.), (0., 0., 0., 0.), (0., 0., 0., 0.),\n",
       "       (0., 0., 0., 0.), (0., 0., 0., 0.), (0., 0., 0., 0.),\n",
       "       (0., 0., 0., 0.), (0., 0., 0., 0.), (0., 0., 0., 0.),\n",
       "       (0., 0., 0., 0.), (0., 0., 0., 0.), (0., 0., 0., 0.),\n",
       "       (0., 0., 0., 0.), (0., 0., 0., 0.), (0., 0., 0., 0.),\n",
       "       (0., 0., 0., 0.), (0., 0., 0., 0.), (0., 0., 0., 0.),\n",
       "       (0., 0., 0., 0.), (0., 0., 0., 0.), (0., 0., 0., 0.),\n",
       "       (0., 0., 0., 0.), (0., 0., 0., 0.), (0., 0., 0., 0.),\n",
       "       (0., 0., 0., 0.), (0., 0., 0., 0.), (0., 0., 0., 0.),\n",
       "       (0., 0., 0., 0.), (0., 0., 0., 0.), (0., 0., 0., 0.),\n",
       "       (0., 0., 0., 0.), (0., 0., 0., 0.), (0., 0., 0., 0.),\n",
       "       (0., 0., 0., 0.), (0., 0., 0., 0.), (0., 0., 0., 0.),\n",
       "       (0., 0., 0., 0.), (0., 0., 0., 0.), (0., 0., 0., 0.),\n",
       "       (0., 0., 0., 0.), (0., 0., 0., 0.), (0., 0., 0., 0.),\n",
       "       (0., 0., 0., 0.), (0., 0., 0., 0.), (0., 0., 0., 0.),\n",
       "       (0., 0., 0., 0.), (0., 0., 0., 0.), (0., 0., 0., 0.),\n",
       "       (0., 0., 0., 0.), (0., 0., 0., 0.), (0., 0., 0., 0.),\n",
       "       (0., 0., 0., 0.), (0., 0., 0., 0.), (0., 0., 0., 0.),\n",
       "       (0., 0., 0., 0.), (0., 0., 0., 0.), (0., 0., 0., 0.),\n",
       "       (0., 0., 0., 0.), (0., 0., 0., 0.), (0., 0., 0., 0.),\n",
       "       (0., 0., 0., 0.), (0., 0., 0., 0.), (0., 0., 0., 0.),\n",
       "       (0., 0., 0., 0.), (0., 0., 0., 0.), (0., 0., 0., 0.),\n",
       "       (0., 0., 0., 0.), (0., 0., 0., 0.), (0., 0., 0., 0.),\n",
       "       (0., 0., 0., 0.), (0., 0., 0., 0.), (0., 0., 0., 0.),\n",
       "       (0., 0., 0., 0.), (0., 0., 0., 0.), (0., 0., 0., 0.),\n",
       "       (0., 0., 0., 0.), (0., 0., 0., 0.), (0., 0., 0., 0.),\n",
       "       (0., 0., 0., 0.), (0., 0., 0., 0.), (0., 0., 0., 0.),\n",
       "       (0., 0., 0., 0.), (0., 0., 0., 0.), (0., 0., 0., 0.),\n",
       "       (0., 0., 0., 0.), (0., 0., 0., 0.), (0., 0., 0., 0.),\n",
       "       (0., 0., 0., 0.), (0., 0., 0., 0.), (0., 0., 0., 0.),\n",
       "       (0., 0., 0., 0.), (0., 0., 0., 0.), (0., 0., 0., 0.),\n",
       "       (0., 0., 0., 0.), (0., 0., 0., 0.), (0., 0., 0., 0.),\n",
       "       (0., 0., 0., 0.), (0., 0., 0., 0.), (0., 0., 0., 0.),\n",
       "       (0., 0., 0., 0.), (0., 0., 0., 0.)],\n",
       "      dtype=[('right', '<f4'), ('left', '<f4'), ('up', '<f4'), ('down', '<f4')])"
      ]
     },
     "execution_count": 125,
     "metadata": {},
     "output_type": "execute_result"
    }
   ],
   "source": [
    "updateUtility(state = 11, action = \"up\", matrixQ = matrixQ)"
   ]
  },
  {
   "cell_type": "markdown",
   "metadata": {},
   "source": [
    "a) Do a random walk (like in Exercise 1) and execute this update-function after each state transition for 20000 steps in each experiment. Repeat the experiment 30 times. In each of the 30 experiments, at steps 100, 200, 500, 600, 700, 800, 900, 1000, 2500, 5000, 7500, 10000, 12500, 15000, 17500, and 20000 (or other intermediate points that are deemed useful) stop to run a test.\n",
    "A test consists of running the system for 1000 steps using the current Q table (without changing it) and always choosing the best action at each step. Measure the average reward per step in these 1000 steps.\n",
    "Measure also the runtime of each full test (all 20000 steps) and calculate average and standard-deviation of run-times for the tests. Plot the steps (x-axis) vs the average\n"
   ]
  },
  {
   "cell_type": "code",
   "execution_count": 126,
   "metadata": {},
   "outputs": [
    {
     "name": "stdout",
     "output_type": "stream",
     "text": [
      "[(   0.    ,    0.    ,    0.    ,    0.    )\n",
      " (1971.5387, 1945.5334, 1309.287 , 1830.9825)\n",
      " (2017.8661, 1938.7687, 1982.901 , 1923.8972)\n",
      " (2043.5724, 1986.2155, 2004.269 , 2034.8871)\n",
      " (2088.5022, 1974.8314, 2055.3264, 2036.788 )\n",
      " (2102.2642, 2065.1362, 2088.7244, 2140.5625)\n",
      " (1993.5581, 2083.233 , 2108.218 , 2139.0645)\n",
      " (2177.9001, 2019.4594, 2046.8617, 2399.9153)\n",
      " (2271.9119, 2224.341 , 2295.1782, 2402.7727)\n",
      " (2305.263 , 2303.886 , 2393.5283, 2429.935 )\n",
      " (2304.5728, 2265.5115, 2274.57  , 2449.0889)\n",
      " (1930.764 , 1880.33  , 1758.1024, 1910.2656)\n",
      " (2037.5504, 1868.6287, 1929.9314, 2029.1342)\n",
      " (2016.2195, 1915.368 , 1990.1151, 2140.4668)\n",
      " (2070.437 , 2030.7225, 2037.9078, 2001.2174)\n",
      " (2175.4905, 2022.6846, 2054.1008, 2263.0898)\n",
      " (2266.9182, 2072.344 , 2117.065 , 2370.4282)\n",
      " (2410.1687, 2238.5366, 2243.118 , 2437.9753)\n",
      " (2459.2795, 2343.0015, 2267.9885, 2359.647 )\n",
      " (2350.8933, 2279.0115, 2394.1655, 2513.027 )\n",
      " (2493.0015, 2388.829 , 2260.646 , 2519.9055)\n",
      " (1575.9491, 1925.8823, 1858.277 , 2102.3245)\n",
      " (2079.1377, 1918.7316, 2009.1635, 2096.3862)\n",
      " (2188.949 , 2063.6438, 2030.2688, 2222.8896)\n",
      " (2255.4377, 2160.1829, 2037.0171, 2084.1282)\n",
      " (2297.7593, 2154.3655, 2184.4336, 2257.5   )\n",
      " (2496.918 , 2244.0356, 2179.8342, 2441.1074)\n",
      " (2403.4163, 2236.4587, 2370.6633, 2591.701 )\n",
      " (2363.002 , 2468.7212, 2342.268 , 2433.0645)\n",
      " (2507.5337, 2403.3623, 2452.974 , 2576.3774)\n",
      " (2342.341 , 2534.4724, 2308.9802, 2603.514 )\n",
      " (2170.8582, 1961.7283, 1972.6018, 2092.3962)\n",
      " (2211.4822, 2013.2697, 2058.9675, 2196.7783)\n",
      " (2278.4402, 2183.1184, 2154.2295, 2235.0671)\n",
      " (2362.4211, 2229.808 , 2185.0295, 2307.9897)\n",
      " (2477.9858, 2212.0073, 2210.9187, 2466.4226)\n",
      " (2575.7197, 2421.0168, 2282.5369, 2571.989 )\n",
      " (2648.7043, 2520.244 , 2525.5728, 2564.1777)\n",
      " (2575.7454, 2572.425 , 2392.7317, 2713.0415)\n",
      " (2617.2073, 2639.4182, 2540.4485, 2629.0093)\n",
      " (2614.9058, 2571.4756, 2478.5054, 2728.8928)\n",
      " (2195.8896, 2150.7651, 2017.8645, 2184.6445)\n",
      " (2268.2585, 2150.7268, 2171.5525, 2230.9893)\n",
      " (2309.8486, 2240.3347, 2177.6453, 2201.074 )\n",
      " (2337.8362, 2261.2505, 2282.124 , 2338.0356)\n",
      " (2572.8696, 2239.7595, 2411.7766, 2500.5918)\n",
      " (2615.7056, 2490.2285, 2445.6729, 2629.0942)\n",
      " (2694.863 , 2584.3384, 2577.464 , 2553.4646)\n",
      " (2686.933 , 2647.7485, 2574.5796, 2759.1519)\n",
      " (2732.3267, 2674.7363, 2611.8389, 2718.8364)\n",
      " (2721.457 , 2699.867 , 2593.1887, 2764.4905)\n",
      " (2217.4136, 1862.3284, 2130.8384, 2146.7747)\n",
      " (2311.4148, 2153.723 , 2188.6838, 2061.5679)\n",
      " (2377.0913, 2195.582 , 2266.1426, 2266.5054)\n",
      " (2489.1982, 2283.7593, 2313.1738, 2471.0933)\n",
      " (2588.573 , 2411.5112, 2457.163 , 2553.6497)\n",
      " (2640.681 , 2439.5142, 2569.3633, 2663.1626)\n",
      " (2419.2573, 2629.4036, 2637.5332, 2672.749 )\n",
      " (2718.4656, 2620.331 , 2727.0417, 2789.9944)\n",
      " (2720.9365, 2757.8135, 2683.125 , 2741.5596)\n",
      " (2764.6294, 2714.1096, 2661.9507, 2814.9053)\n",
      " (2236.7002, 1924.9849, 2127.492 , 2150.0417)\n",
      " (2295.203 , 2190.7227, 2210.5679, 2265.8909)\n",
      " (2322.8225, 2263.8093, 2254.7307, 2294.7903)\n",
      " (2602.9844, 2297.342 , 2378.7793, 2498.2202)\n",
      " (2657.365 , 2511.5142, 2507.3972, 2560.143 )\n",
      " (2691.7788, 2618.8936, 2621.9622, 2620.4414)\n",
      " (2741.7422, 2661.026 , 2489.4011, 2649.9626)\n",
      " (2794.224 , 2688.8677, 2750.0498, 2869.6604)\n",
      " (2806.9976, 2808.1306, 2714.057 , 2824.9688)\n",
      " (2818.1023, 2777.0007, 2781.8657, 2847.3047)\n",
      " (2214.686 , 2125.9417, 1982.0803, 2204.5852)\n",
      " (2291.2324, 2189.4302, 2240.4038, 2271.728 )\n",
      " (2425.6746, 2264.9932, 2296.7861, 2368.022 )\n",
      " (2564.5862, 2298.6987, 2496.7703, 2370.0686)\n",
      " (2601.6133, 2448.8367, 2552.848 , 2580.509 )\n",
      " (2650.4595, 2555.1104, 2661.9355, 2600.3105)\n",
      " (2819.831 , 2554.7766, 2700.759 , 2643.4539)\n",
      " (2951.1597, 2773.917 , 2829.7334, 2917.283 )\n",
      " (2883.0476, 2866.7668, 2794.2979, 3003.227 )\n",
      " (2843.8667, 2902.2275, 2813.5413, 2927.0808)\n",
      " (2238.1743, 2040.0466, 2144.7417, 2136.718 )\n",
      " (2363.2341, 2126.6846, 2267.246 , 2127.0923)\n",
      " (2409.5327, 2203.0334, 2329.0557, 2332.0881)\n",
      " (2562.4446, 2328.2913, 2323.5986, 2265.3984)\n",
      " (2622.4631, 2509.0488, 2564.2754, 2440.9534)\n",
      " (2643.916 , 2590.5583, 2621.8528, 2651.937 )\n",
      " (2671.7979, 2622.5857, 2618.8154, 2691.6472)\n",
      " (3012.6345, 2628.2947, 2902.8926, 2860.6213)\n",
      " (2941.466 , 2908.5498, 2925.3079, 3058.6626)\n",
      " (2912.0332, 2973.7153, 2882.2546, 2977.2332)\n",
      " (2143.804 , 1994.265 , 2180.3218, 1455.3379)\n",
      " (2329.437 , 1908.3744, 2280.3174, 2046.1226)\n",
      " (2282.0327, 2290.9985, 2379.0574, 2324.134 )\n",
      " (2314.5632, 2326.5964, 2233.793 , 2265.5408)\n",
      " (2430.6926, 2210.5864, 2479.7766, 2302.8257)\n",
      " (2705.2117, 2378.7246, 2611.1443, 2571.3418)\n",
      " (2890.3782, 2629.8457, 2643.6885, 2706.0488)\n",
      " (2775.1536, 2791.6404, 2945.589 , 2896.967 )\n",
      " (3258.972 , 2828.0825, 2937.2935, 3174.3608)\n",
      " (3470.042 , 3089.875 , 2944.621 , 3431.504 )]\n"
     ]
    }
   ],
   "source": [
    "def runEpisodeWithUpdatingUtilities(matrixQ = matrixQ, state = 1, finalState = 100, maxNumberSteps = 20000):\n",
    "    copyMatrixQ = matrixQ.copy()\n",
    "    for i in range(maxNumberSteps):\n",
    "        action = randomlyChoseAction()\n",
    "        newState = stateTransitionFunction(state, action)\n",
    "        copyMatrixQ = updateUtility(state = state, action = action, matrixQ = copyMatrixQ)\n",
    "        state = newState\n",
    "        \n",
    "    return (copyMatrixQ)\n",
    "\n",
    "random.seed(13)\n",
    "print(runEpisodeWithUpdatingUtilities())\n"
   ]
  }
 ],
 "metadata": {
  "kernelspec": {
   "display_name": "base",
   "language": "python",
   "name": "python3"
  },
  "language_info": {
   "codemirror_mode": {
    "name": "ipython",
    "version": 3
   },
   "file_extension": ".py",
   "mimetype": "text/x-python",
   "name": "python",
   "nbconvert_exporter": "python",
   "pygments_lexer": "ipython3",
   "version": "3.11.5"
  }
 },
 "nbformat": 4,
 "nbformat_minor": 2
}
