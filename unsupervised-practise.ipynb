{
 "cells": [
  {
   "cell_type": "markdown",
   "metadata": {},
   "source": [
    "# Unsupervised learning algorithms\n",
    "\n",
    "In this document I am going to build an easy practice dataset, and practice clustering using different supervised learning algorithms.\n",
    "\n",
    "Things that I want to implement here:\n",
    "- build easy dataset myself with 2 different clusters\n",
    "- how to determine test performance exactly in clustering (where there is no \"correct\" answer)?\n",
    "    - use the k-fold cross validation tactic to verify the statistical robustness of my algorithm's performance\n",
    "    - test perfromance\n",
    "\n",
    "- implement k-means clustering algorithm\n",
    "- implement DBSCAN\n",
    "- implement another algorithms?\n",
    "\n",
    "Well, let's get started. Wish me luck and endurance! :)"
   ]
  },
  {
   "cell_type": "markdown",
   "metadata": {},
   "source": [
    "# Build data set for clustering"
   ]
  },
  {
   "cell_type": "code",
   "execution_count": 146,
   "metadata": {},
   "outputs": [],
   "source": [
    "# import packages\n",
    "import pandas as pd\n",
    "import sklearn\n",
    "from sklearn.model_selection import train_test_split\n",
    "import numpy as np\n",
    "import math\n",
    "import matplotlib.pyplot as plt\n"
   ]
  },
  {
   "cell_type": "code",
   "execution_count": 147,
   "metadata": {},
   "outputs": [],
   "source": [
    "# Build mock dataset\n",
    "\n",
    "feature1 = [1, 2, 3, 2, 3, 3, 3, 3,  4, 5, 5, 18, 8,9, 16,17, 11, 9, 9, 9,10, 10, 11, 12, 13, 14, 14, 15, 14,12, 13, 14, 11, 12, 14]\n",
    "feature2 = [3, 2, 5, 3, 1, 4, 1, 3,  3, 4, 2, 19, 17, 14, 10, 15, 11, 12, 14, 19,16, 17, 9, 10, 10, 19, 18, 17, 19, 13, 14, 15, 15, 16, 11]\n",
    "\n",
    "mock_data = []\n",
    "\n",
    "for i in range(len(feature1)):\n",
    "    mock_data.append((feature1[i], feature2[i],))\n"
   ]
  },
  {
   "cell_type": "code",
   "execution_count": 148,
   "metadata": {},
   "outputs": [
    {
     "data": {
      "image/png": "[encoded data removed]",
      "text/plain": [
       "<Figure size 640x480 with 1 Axes>"
      ]
     },
     "metadata": {},
     "output_type": "display_data"
    }
   ],
   "source": [
    "# Visualize mock data to show that it fits well with two clusters\n",
    "\n",
    "plt.plot(feature1, feature2, \"o\", color=\"green\")\n",
    "plt.show()"
   ]
  },
  {
   "cell_type": "markdown",
   "metadata": {},
   "source": [
    "# K-Means Algorithm\n",
    "\n",
    " Partitioning method\n",
    " \n",
    "    - Input:\n",
    "        - D = {p1,..., pn} points to be clustered (with their m-dimensions)\n",
    "        - k  = number of clusters (have to be specified?!)\n",
    "    - Output:\n",
    "        - C = {c1,...,ck} Cluster centroids\n",
    "        - M: D -> {1,...,k} cluster membership\n",
    "    - Method:\n",
    "        - arbitrarily choose k objects from D as the initial cluster centres\n",
    "        - repeat:\n",
    "            - reassign each object to the cluster to which the object is most similar, \n",
    "                (based on MEAN VALUE of the objects in the  cluster)\n",
    "            - update the cluster means (= calculate the mean value of the objects for each cluster)\n",
    "        - until no change"
   ]
  },
  {
   "cell_type": "code",
   "execution_count": 276,
   "metadata": {},
   "outputs": [],
   "source": [
    "class KMeansClustering:\n",
    "\n",
    "    # attributes\n",
    "    k = None\n",
    "    setWithDataTuples = None\n",
    "    kDataPoinsInSet = None\n",
    "    dictWithMappingAllPointsToK = None\n",
    "    newKPointsinSet = None\n",
    "    clusterCentroids = None\n",
    "    clusterMemberships = None\n",
    "    colourMap = None\n",
    "    listOfColours = [\"black\", \"green\", \"orange\", \"darkred\", \"darkblue\", \"lightblue\", \"purple\", \"pink\", \"cyan\", \"olive\", \"gray\", \"lightpink\"]\n",
    "\n",
    "\n",
    "    # constructor\n",
    "    def __init__(self, setWithDataTuples, k):\n",
    "        self.setWithDataTuples = setWithDataTuples\n",
    "        self.k = k\n",
    "        \n",
    "    def __str__(self):\n",
    "        return \"K-Means Clustering Object\" \n",
    "    \n",
    "\n",
    "\n",
    "    # define all helper methods\n",
    "\n",
    "    def __defineRandomKStart(self):\n",
    "        # initiate list to store k random points\n",
    "        kDataPointsInSet = set()\n",
    "        # randomly draw k numbers in the rande of how long listWithDataTuples is\n",
    "        rng = np.random.default_rng()\n",
    "        randomPositionsOfKPoints = rng.integers(low=0, high=len(self.setWithDataTuples), size=self.k)\n",
    "        # chose k points as random start points\n",
    "        for i in randomPositionsOfKPoints:\n",
    "            kDataPointsInSet.add(self.setWithDataTuples[i])\n",
    "        \n",
    "        # map colours to initial k points\n",
    "        colourMap = {}\n",
    "        number = 0\n",
    "        for i in kDataPointsInSet:\n",
    "            number += 1\n",
    "            colourMap[i] = self.listOfColours[number]\n",
    "        self.colourMap = colourMap\n",
    "        \n",
    "        return(kDataPointsInSet)\n",
    "    \n",
    "\n",
    "\n",
    "    def __mapAllPointsToNearestK(self, setOfKs):\n",
    "        # calculate distance from each point to all k points\n",
    "        dictWithMappingAllPointsToK = {}\n",
    "        for k in setOfKs:\n",
    "            dictWithMappingAllPointsToK[k] = []\n",
    "\n",
    "        for i in self.setWithDataTuples:\n",
    "            allDistancesFromOnePointToAllK = {}\n",
    "            for l in setOfKs:\n",
    "                allDistancesFromOnePointToAllK[l] = (self.__getEuclideanDistance(i[0], i[1], l[0], l[1]))\n",
    "            # assign each point to the k-point which is closest\n",
    "            # für minimales k:\n",
    "            minK = min(allDistancesFromOnePointToAllK, key=allDistancesFromOnePointToAllK.get)\n",
    "            dictWithMappingAllPointsToK[minK].append(i)\n",
    "\n",
    "        return(dictWithMappingAllPointsToK)\n",
    "\n",
    "\n",
    "\n",
    "    def __calcKNewMeans(self, dictWithMappingAllPointsToK):\n",
    "        newKPointsinSet = set()\n",
    "        for listWithPoints in dictWithMappingAllPointsToK.values():\n",
    "            newMeanXCoordinate = []\n",
    "            newMeanYCoordinate = []\n",
    "            for i in range(len(listWithPoints)):\n",
    "                newMeanXCoordinate.append(listWithPoints[i][0])\n",
    "                newMeanX = round(sum(newMeanXCoordinate)/len(newMeanXCoordinate), 6)\n",
    "                newMeanYCoordinate.append(listWithPoints[i][1])\n",
    "                newMeanY = round(sum(newMeanYCoordinate)/len(newMeanYCoordinate), 6)\n",
    "            newKPointsinSet.add((newMeanX, newMeanY,))\n",
    "\n",
    "        # map colours to new centroids (that are closest to old ones)\n",
    "        self.__reassignColorsToCentroids(newKPointsinSet)\n",
    "            \n",
    "        \n",
    "        return(newKPointsinSet)\n",
    "    \n",
    "\n",
    "    def __reassignColorsToCentroids(self, newCentroids):\n",
    "        # Dictionary to store the updated color mapping\n",
    "        newColorMapping = {}\n",
    "        \n",
    "        # Find closest new centroid for each old centroid and assign the same color\n",
    "        usedNewCentroids = set()\n",
    "        for oldCentroid in self.colourMap:\n",
    "            closestNewCentroid = min(newCentroids, key=lambda newCentroid: self.__getEuclideanDistance(oldCentroid[0], oldCentroid[1], newCentroid[0], newCentroid[1]))\n",
    "            newColorMapping[closestNewCentroid] = self.colourMap[oldCentroid]\n",
    "            usedNewCentroids.add(closestNewCentroid)\n",
    "        \n",
    "        # Find remaining colors from old centroids (i.e., those not reused)\n",
    "        remainingColors = set(self.colourMap.values()) - set(newColorMapping.values())\n",
    "        \n",
    "        # Find new centroids that haven't been assigned a color yet\n",
    "        unusedNewCentroids = set(newCentroids) - usedNewCentroids\n",
    "        \n",
    "        # Assign remaining colors from old centroids to new centroids\n",
    "        for newCentroid in unusedNewCentroids:\n",
    "            if remainingColors:\n",
    "                newColorMapping[newCentroid] = remainingColors.pop()\n",
    "            else:\n",
    "                # Fallback if no remaining colors (this shouldn't happen with enough colors)\n",
    "                newColorMapping[newCentroid] = \"gray\"\n",
    "        \n",
    "        # Update the color mapping to the new centroids\n",
    "        self.colourMap = newColorMapping\n",
    "    \n",
    "\n",
    "\n",
    "\n",
    "\n",
    "\n",
    "    # main functions\n",
    "\n",
    "    def cluster(self):\n",
    "\n",
    "        # arbitrarily choose k objects from D as the initial cluster centres\n",
    "        kDataPointsInSet = self.__defineRandomKStart()\n",
    "\n",
    "        # assign each object to the cluster to which the object is most similar and update cluster means until no change\n",
    "        mappingOld = 1\n",
    "        mappingEnd = 0\n",
    "        while mappingOld != mappingEnd:\n",
    "            mappingOld = self.__mapAllPointsToNearestK(kDataPointsInSet)\n",
    "            kDataPointsInSet = self.__calcKNewMeans(mappingOld)\n",
    "            mappingEnd = self.__mapAllPointsToNearestK(kDataPointsInSet)\n",
    "\n",
    "            self.clusterCentroids = kDataPointsInSet\n",
    "            self.clusterMemberships = mappingEnd\n",
    "            self.visualize()\n",
    "\n",
    "        return(kDataPointsInSet, mappingEnd)\n",
    "    \n",
    "\n",
    "    def visualize(self):\n",
    "\n",
    "        listWithListsX = []\n",
    "        listWithListsY = []\n",
    "\n",
    "        for centroid in self.clusterCentroids:\n",
    "            oneListWithX = []\n",
    "            oneListWithY = []\n",
    "            for x in self.clusterMemberships[centroid]:\n",
    "                oneListWithX.append(x[0])\n",
    "            for y in self.clusterMemberships[centroid]:\n",
    "                oneListWithY.append(y[1])\n",
    "            listWithListsX.append(oneListWithX)\n",
    "            listWithListsY.append(oneListWithY)\n",
    "        \n",
    "\n",
    "        for i in range(len(listWithListsX)):   \n",
    "            centroid = list(self.clusterCentroids)[i] \n",
    "            plt.plot(listWithListsX[i], listWithListsY[i], \"o\", color=self.colourMap[centroid])\n",
    "        plt.show()\n",
    "\n",
    "\n",
    "\n",
    "    # helper function: calculate euclidean distance with 2 coordinates of the train and two coordinates of the test data \n",
    "    ### todo: can I generalize the function to take in any input coordinate length?!\n",
    "    @staticmethod\n",
    "    def __getEuclideanDistance(trainData1Coordinate, trainData2Coordinate, testData1Coordinate, testData2Coordinate):\n",
    "        distance = math.sqrt((trainData1Coordinate-testData1Coordinate)**2+(trainData2Coordinate-testData2Coordinate)**2)\n",
    "        return(distance)\n",
    "    "
   ]
  },
  {
   "cell_type": "code",
   "execution_count": 281,
   "metadata": {},
   "outputs": [
    {
     "data": {
      "image/png": "[encoded data removed]",
      "text/plain": [
       "<Figure size 640x480 with 1 Axes>"
      ]
     },
     "metadata": {},
     "output_type": "display_data"
    },
    {
     "data": {
      "image/png": "[encoded data removed]",
      "text/plain": [
       "<Figure size 640x480 with 1 Axes>"
      ]
     },
     "metadata": {},
     "output_type": "display_data"
    },
    {
     "data": {
      "image/png": "[encoded data removed]",
      "text/plain": [
       "<Figure size 640x480 with 1 Axes>"
      ]
     },
     "metadata": {},
     "output_type": "display_data"
    },
    {
     "data": {
      "image/png": "[encoded data removed]",
      "text/plain": [
       "<Figure size 640x480 with 1 Axes>"
      ]
     },
     "metadata": {},
     "output_type": "display_data"
    },
    {
     "data": {
      "image/png": "[encoded data removed]",
      "text/plain": [
       "<Figure size 640x480 with 1 Axes>"
      ]
     },
     "metadata": {},
     "output_type": "display_data"
    },
    {
     "data": {
      "text/plain": [
       "({(3.090909, 2.818182), (12.291667, 14.583333)},\n",
       " {(12.291667, 14.583333): [(18, 19),\n",
       "   (8, 17),\n",
       "   (9, 14),\n",
       "   (16, 10),\n",
       "   (17, 15),\n",
       "   (11, 11),\n",
       "   (9, 12),\n",
       "   (9, 14),\n",
       "   (9, 19),\n",
       "   (10, 16),\n",
       "   (10, 17),\n",
       "   (11, 9),\n",
       "   (12, 10),\n",
       "   (13, 10),\n",
       "   (14, 19),\n",
       "   (14, 18),\n",
       "   (15, 17),\n",
       "   (14, 19),\n",
       "   (12, 13),\n",
       "   (13, 14),\n",
       "   (14, 15),\n",
       "   (11, 15),\n",
       "   (12, 16),\n",
       "   (14, 11)],\n",
       "  (3.090909, 2.818182): [(1, 3),\n",
       "   (2, 2),\n",
       "   (3, 5),\n",
       "   (2, 3),\n",
       "   (3, 1),\n",
       "   (3, 4),\n",
       "   (3, 1),\n",
       "   (3, 3),\n",
       "   (4, 3),\n",
       "   (5, 4),\n",
       "   (5, 2)]})"
      ]
     },
     "execution_count": 281,
     "metadata": {},
     "output_type": "execute_result"
    }
   ],
   "source": [
    "newModel = KMeansClustering(mock_data, 2)\n",
    "newModel.cluster()\n"
   ]
  },
  {
   "cell_type": "markdown",
   "metadata": {},
   "source": [
    "# DBSCAN Algorithm\n",
    "\n",
    "- Density based theory: \n",
    "    - Idea: Clusters are dense areas, seperated by areas of lower density\n",
    "    - e=max distance (defined)\n",
    "    - MinPts defined\n",
    "    - D = {p1,..., pn} points to be clustered (with their m-dimensions)\n",
    "\n",
    "    - Core objects: within defined e there are at least MinPts object reachable from the object\n",
    "    - Border objects: no core object but density reachable by a core object, border points can only join a cluster, not extend it further!\n",
    "\n",
    "    - directly density-reachable objects\n",
    "    - density-reachable objects\n",
    "    - density-connected\n",
    "\n",
    "- algorithm pseudo-code:\n",
    "\n",
    "    Input: e, MinPts, set with datapoints as tuples\n",
    "    \n",
    "    Output: Cluster of data points with noise\n",
    "\n",
    "    1. Select an unprocessed data point P and retrieve all points density-reachable (neighbours) from P with respect to given e and MinPts\n",
    "\n",
    "    2. If P is a core point, a cluster is formed\n",
    "       else, P is classified as noise\n",
    "    \n",
    "    3. retrieve all points density-reachable from neighbour points and assign them to current cluster\n",
    "\n",
    "    4. If P or neighbour is a border point, no points are density-reachable from P. Go to step 1.\n",
    "\n",
    "    5. Continue algorithm until all data points have been processed.\n",
    "\n"
   ]
  },
  {
   "cell_type": "code",
   "execution_count": 328,
   "metadata": {},
   "outputs": [],
   "source": [
    "# Build mock dataset\n",
    "\n",
    "feature1 = [1, 2, 3, 2, 3, 3, 3, 3,  4, 5, 5, 18, 8,9, 16,17, 11, 9, 9, 9,10, 10, 11, 12, 13, 14, 14, 15, 14,12, 13, 14, 11, 12, 14]\n",
    "feature2 = [3, 2, 5, 3, 1, 4, 1, 3,  3, 4, 2, 19, 17, 14, 10, 15, 11, 12, 14, 19,16, 17, 9, 10, 10, 19, 18, 17, 19, 13, 14, 15, 15, 16, 11]\n",
    "\n",
    "mockData = set()\n",
    "\n",
    "for i in range(len(feature1)):\n",
    "    mockData.add((feature1[i], feature2[i],))\n"
   ]
  },
  {
   "cell_type": "code",
   "execution_count": 323,
   "metadata": {},
   "outputs": [],
   "source": [
    "import random"
   ]
  },
  {
   "cell_type": "code",
   "execution_count": 332,
   "metadata": {},
   "outputs": [
    {
     "data": {
      "text/plain": [
       "{(3, 4): {(1, 3),\n",
       "  (2, 2),\n",
       "  (2, 3),\n",
       "  (3, 1),\n",
       "  (3, 3),\n",
       "  (3, 5),\n",
       "  (4, 3),\n",
       "  (5, 2),\n",
       "  (5, 4)},\n",
       " (4, 3): {(1, 3),\n",
       "  (2, 2),\n",
       "  (2, 3),\n",
       "  (3, 1),\n",
       "  (3, 3),\n",
       "  (3, 4),\n",
       "  (3, 5),\n",
       "  (5, 2),\n",
       "  (5, 4)},\n",
       " (3, 1): {(1, 3), (2, 2), (2, 3), (3, 3), (3, 4), (4, 3), (5, 2)},\n",
       " (12, 10): {(11, 9), (11, 11), (12, 13), (13, 10), (14, 11)},\n",
       " (5, 4): {(3, 3), (3, 4), (3, 5), (4, 3), (5, 2)},\n",
       " (12, 16): {(10, 16),\n",
       "  (10, 17),\n",
       "  (11, 15),\n",
       "  (12, 13),\n",
       "  (13, 14),\n",
       "  (14, 15),\n",
       "  (14, 18)},\n",
       " (12, 13): {(11, 11),\n",
       "  (11, 15),\n",
       "  (12, 10),\n",
       "  (12, 16),\n",
       "  (13, 14),\n",
       "  (14, 11),\n",
       "  (14, 15)},\n",
       " (2, 2): {(1, 3), (2, 3), (3, 1), (3, 3), (3, 4), (4, 3), (5, 2)},\n",
       " (1, 3): {(2, 2), (2, 3), (3, 1), (3, 3), (3, 4), (3, 5), (4, 3)},\n",
       " (11, 11): {(9, 12), (11, 9), (12, 10), (12, 13), (13, 10), (14, 11)},\n",
       " (13, 14): {(11, 15), (12, 13), (12, 16), (14, 15)},\n",
       " (15, 17): {(14, 15), (14, 18), (14, 19), (17, 15)},\n",
       " (3, 3): {(1, 3),\n",
       "  (2, 2),\n",
       "  (2, 3),\n",
       "  (3, 1),\n",
       "  (3, 4),\n",
       "  (3, 5),\n",
       "  (4, 3),\n",
       "  (5, 2),\n",
       "  (5, 4)},\n",
       " (14, 18): {(12, 16), (14, 15), (14, 19), (15, 17)},\n",
       " (14, 15): {(11, 15),\n",
       "  (12, 13),\n",
       "  (12, 16),\n",
       "  (13, 14),\n",
       "  (14, 18),\n",
       "  (15, 17),\n",
       "  (17, 15)},\n",
       " (10, 17): {(8, 17), (9, 19), (10, 16), (11, 15), (12, 16)},\n",
       " (13, 10): {(11, 9), (11, 11), (12, 10), (14, 11), (16, 10)},\n",
       " (3, 5): {(1, 3), (2, 3), (3, 3), (3, 4), (4, 3), (5, 4)},\n",
       " (5, 2): {(2, 2), (3, 1), (3, 3), (3, 4), (4, 3), (5, 4)},\n",
       " (14, 11): {(11, 11), (12, 10), (12, 13), (13, 10), (16, 10)},\n",
       " (2, 3): {(1, 3), (2, 2), (3, 1), (3, 3), (3, 4), (3, 5), (4, 3)},\n",
       " (10, 16): {(8, 17), (9, 14), (10, 17), (11, 15), (12, 16)},\n",
       " (11, 15): {(9, 14),\n",
       "  (10, 16),\n",
       "  (10, 17),\n",
       "  (12, 13),\n",
       "  (12, 16),\n",
       "  (13, 14),\n",
       "  (14, 15)}}"
      ]
     },
     "execution_count": 332,
     "metadata": {},
     "output_type": "execute_result"
    }
   ],
   "source": [
    "# helper function: calculate euclidean distance with 2 coordinates of the train and two coordinates of the test data \n",
    "### todo: can I generalize the function to take in any input coordinate length?!\n",
    "def getEuclideanDistance(trainData1Coordinate, trainData2Coordinate, testData1Coordinate, testData2Coordinate):\n",
    "    distance = math.sqrt((trainData1Coordinate-testData1Coordinate)**2+(trainData2Coordinate-testData2Coordinate)**2)\n",
    "    return(distance)\n",
    "\n",
    "\n",
    "\n",
    "def getAllCorePoints(setWithDataTuples, e, MinPts):\n",
    "    corePoints = set()\n",
    "    for dataPoint in setWithDataTuples:\n",
    "        neighbours = set()\n",
    "        for potentialNeighbour in setWithDataTuples:\n",
    "            if getEuclideanDistance(potentialNeighbour[0], potentialNeighbour[1], dataPoint[0], dataPoint[1]) <= e and dataPoint != potentialNeighbour:\n",
    "                neighbours.add(potentialNeighbour)\n",
    "        if len(neighbours) >= MinPts:\n",
    "            corePoints.add(dataPoint)\n",
    "    return(corePoints)\n",
    "\n",
    "corePoints = getAllCorePoints(mockData, e = 3, MinPts = 4)\n",
    "\n",
    "def DBSCAN(setWithDataTuples, e, MinPts):\n",
    "\n",
    "    corePoints = getAllCorePoints(mockData, e , MinPts)\n",
    "\n",
    "    listOfClusters = []\n",
    "    listOfNoise = []\n",
    "    unprocessedDataPoints = setWithDataTuples\n",
    "\n",
    "    while len(unprocessedDataPoints) != 0:\n",
    "        pointInProgress = random.choice(list(unprocessedDataPoints))\n",
    "        cluster = []\n",
    "        neighbourStack = []\n",
    "        if pointInProgress in corePoints:\n",
    "            cluster.append(pointInProgress)\n",
    "            neighbours = [item for item in unprocessedDataPoints if getEuclideanDistance(pointInProgress[0], pointInProgress[1], item[0], item[1]) <= e]\n",
    "            for neighbour in neighbours:\n",
    "                if neighbour in corePoints:\n",
    "                    cluster.append(neighbour)\n",
    "                    neighbourStack.append(neighbour)\n",
    "            while len(neighbourStack) != 0:\n",
    "                # recursive thingi\n",
    "            for dataPoint in unprocessedDataPoints:\n",
    "                if dataPoint in cluster:\n",
    "                    unprocessedDataPoints.remove(dataPoint)\n",
    "            for  dataPoint in unprocessedDataPoints:\n",
    "                for item in cluster:\n",
    "                    if getEuclideanDistance(pointInProgress[0], pointInProgress[1], item[0], item[1]) <= e and dataPoint not in cluster:\n",
    "                        cluster.append(dataPoint)\n",
    "            for dataPoint in unprocessedDataPoints:\n",
    "                if dataPoint in cluster:\n",
    "                    unprocessedDataPoints.remove(dataPoint)\n",
    "            listOfClusters.append(cluster)\n",
    "\n",
    "            \n",
    "\n",
    "\n",
    "\n",
    "                \n",
    "\n",
    "    \n",
    "\n",
    "\n",
    "\n",
    "\n",
    "\n",
    "\n",
    "    return(listOfClusters, listOfNoise)\n",
    "\n",
    "\n",
    "\n",
    "# test \n",
    "DBSCAN(mockData, e = 4, MinPts = 3)\n",
    "\n",
    "\n",
    "\n"
   ]
  },
  {
   "cell_type": "code",
   "execution_count": 319,
   "metadata": {},
   "outputs": [
    {
     "ename": "IndentationError",
     "evalue": "expected an indented block after 'for' statement on line 38 (1464433277.py, line 41)",
     "output_type": "error",
     "traceback": [
      "\u001b[0;36m  Cell \u001b[0;32mIn[319], line 41\u001b[0;36m\u001b[0m\n\u001b[0;31m    numberNeighbours = len(neighbours)\u001b[0m\n\u001b[0m    ^\u001b[0m\n\u001b[0;31mIndentationError\u001b[0m\u001b[0;31m:\u001b[0m expected an indented block after 'for' statement on line 38\n"
     ]
    }
   ],
   "source": [
    "# helper function: calculate euclidean distance with 2 coordinates of the train and two coordinates of the test data \n",
    "### todo: can I generalize the function to take in any input coordinate length?!\n",
    "def getEuclideanDistance(trainData1Coordinate, trainData2Coordinate, testData1Coordinate, testData2Coordinate):\n",
    "    distance = math.sqrt((trainData1Coordinate-testData1Coordinate)**2+(trainData2Coordinate-testData2Coordinate)**2)\n",
    "    return(distance)\n",
    "\n",
    "def getNumberNeighbours(listWithDataPoints, dataPoint, e):\n",
    "    neighbours = []\n",
    "    for item in listWithDataPoints:\n",
    "        if getEuclideanDistance(dataPoint[0], dataPoint[1], item[0], item[1]) >= e:\n",
    "            neighbours.append(item)\n",
    "\n",
    "    numberNeighbours = len(neighbours)\n",
    "    return(numberNeighbours, neighbours)\n",
    "\n",
    "\n",
    "def isPointCorePoint(numberNeighbours, e):\n",
    "    if numberNeighbours >= e:\n",
    "        True\n",
    "    else:\n",
    "        False\n",
    "\n",
    "\n",
    "def DBSCAN(setWithDataTuples, e, MinPts):\n",
    "    listWithNoise = []\n",
    "    unprocessedDataTuples = []\n",
    "    numberCluster = 0\n",
    "    listOfPointsInCluster = []\n",
    "\n",
    "    for dataTuple in setWithDataTuples:\n",
    "        unprocessedDataTuples.append(dataTuple)    \n",
    "    \n",
    "    while len(unprocessedDataTuples) != 0:\n",
    "        print(len(unprocessedDataTuples))\n",
    "\n",
    "        pointInProgress = unprocessedDataTuples[0]\n",
    "        print(pointInProgress)\n",
    "        unprocessedDataTuples.remove(pointInProgress)\n",
    "\n",
    "        numberNeighbours , neighbours = getNumberNeighbours(unprocessedDataTuples, pointInProgress, e)\n",
    "\n",
    "        if numberNeighbours >=MinPts:\n",
    "            numberCluster+=1\n",
    "            allPointsInCluster = set(pointInProgress)\n",
    "            for neighbour in neighbours:\n",
    "                allPointsInCluster.add(neighbour)\n",
    "                for item in unprocessedDataTuples:\n",
    "                    if getEuclideanDistance(neighbour[0], neighbour[1], item[0], item[1]) >= e:\n",
    "                        allPointsInCluster.add(item)\n",
    "                unprocessedDataTuples.remove(neighbour)\n",
    "            listOfPointsInCluster.append(allPointsInCluster)\n",
    "        \n",
    "        elif: \n",
    "            for neighbour in neighbours:\n",
    "                numberNeighboursOfNeighbours , neighboursOfNeighbours = getNumberNeighbours(unprocessedDataTuples, neighbour, e)\n",
    "\n",
    "\n",
    "        else:\n",
    "            listWithNoise.append(pointInProgress)\n",
    "\n",
    "    return(listOfPointsInCluster, numberCluster)\n",
    "\n",
    "           \n",
    "\n",
    "\n",
    "\n",
    "        \n",
    "\n",
    "\n",
    "\n",
    "\n",
    "        \n",
    "\n"
   ]
  },
  {
   "cell_type": "code",
   "execution_count": 321,
   "metadata": {},
   "outputs": [
    {
     "data": {
      "text/plain": [
       "list"
      ]
     },
     "execution_count": 321,
     "metadata": {},
     "output_type": "execute_result"
    }
   ],
   "source": [
    "type(mock_data)"
   ]
  },
  {
   "cell_type": "code",
   "execution_count": 318,
   "metadata": {},
   "outputs": [
    {
     "name": "stdout",
     "output_type": "stream",
     "text": [
      "35\n",
      "(1, 3)\n",
      "10\n",
      "(2, 2)\n",
      "9\n",
      "(3, 5)\n",
      "8\n",
      "(2, 3)\n",
      "7\n",
      "(3, 1)\n",
      "6\n",
      "(3, 4)\n",
      "5\n",
      "(3, 1)\n",
      "4\n",
      "(3, 3)\n",
      "3\n",
      "(4, 3)\n",
      "2\n",
      "(5, 4)\n",
      "1\n",
      "(5, 2)\n"
     ]
    },
    {
     "data": {
      "text/plain": [
       "([{(10, 16),\n",
       "   (10, 17),\n",
       "   (11, 11),\n",
       "   (11, 15),\n",
       "   (11, 9),\n",
       "   (12, 10),\n",
       "   (12, 13),\n",
       "   (12, 16),\n",
       "   (13, 10),\n",
       "   (13, 14),\n",
       "   (14, 11),\n",
       "   (14, 15),\n",
       "   (14, 18),\n",
       "   (14, 19),\n",
       "   (15, 17),\n",
       "   (16, 10),\n",
       "   (17, 15),\n",
       "   (18, 19),\n",
       "   (2, 2),\n",
       "   (2, 3),\n",
       "   (3, 1),\n",
       "   (3, 3),\n",
       "   (3, 4),\n",
       "   (3, 5),\n",
       "   (4, 3),\n",
       "   (5, 2),\n",
       "   (5, 4),\n",
       "   (8, 17),\n",
       "   (9, 12),\n",
       "   (9, 14),\n",
       "   (9, 19),\n",
       "   1,\n",
       "   3}],\n",
       " 1)"
      ]
     },
     "execution_count": 318,
     "metadata": {},
     "output_type": "execute_result"
    }
   ],
   "source": [
    "DBSCAN(mock_data, 10, 1)"
   ]
  },
  {
   "cell_type": "markdown",
   "metadata": {},
   "source": [
    "# Old programming stuff"
   ]
  },
  {
   "cell_type": "code",
   "execution_count": 206,
   "metadata": {},
   "outputs": [],
   "source": [
    "# helper function: calculate euclidean distance with 2 coordinates of the train and two coordinates of the test data \n",
    "### todo: can I generalize the function to take in any input coordinate length?!\n",
    "def getEuclideanDistance(trainData1Coordinate, trainData2Coordinate, testData1Coordinate, testData2Coordinate):\n",
    "    distance = math.sqrt((trainData1Coordinate-testData1Coordinate)**2+(trainData2Coordinate-testData2Coordinate)**2)\n",
    "    return(distance)"
   ]
  },
  {
   "cell_type": "code",
   "execution_count": 207,
   "metadata": {},
   "outputs": [
    {
     "name": "stdout",
     "output_type": "stream",
     "text": [
      "{(3, 3), (11, 9)}\n"
     ]
    }
   ],
   "source": [
    "def defineRandomKStart(setWithDataTuples, k):\n",
    "    # initiate list to store k random points\n",
    "    kDataPoinsInSet = set()\n",
    "    # randomly draw k numbers in the rande of how long listWithDataTuples is\n",
    "    rng = np.random.default_rng()\n",
    "    randomPositionsOfKPoints = rng.integers(low=0, high=len(setWithDataTuples), size=k)\n",
    "    # chose k points as random start points\n",
    "    for i in randomPositionsOfKPoints:\n",
    "        kDataPoinsInSet.add(setWithDataTuples[i])\n",
    "    \n",
    "    return(kDataPoinsInSet)\n",
    "\n",
    "\n",
    "# test\n",
    "print(defineRandomKStart(mock_data, 2))\n",
    "kDataPointsInSet = defineRandomKStart(mock_data, 2)\n"
   ]
  },
  {
   "cell_type": "code",
   "execution_count": 218,
   "metadata": {},
   "outputs": [
    {
     "name": "stdout",
     "output_type": "stream",
     "text": [
      "(15, 17)\n",
      "(14, 15)\n"
     ]
    },
    {
     "data": {
      "text/plain": [
       "{(15, 17): 'orange', (14, 15): 'darkred'}"
      ]
     },
     "execution_count": 218,
     "metadata": {},
     "output_type": "execute_result"
    }
   ],
   "source": [
    "colourMap = {}\n",
    "listOfColours = [\"green\", \"orange\", \"darkred\", \"darkblue\", \"lightblue\", \"purple\", \"pink\", \"cyan\", \"olive\", \"gray\", \"lightpink\"]\n",
    "number = 0\n",
    "for i in kDataPointsInSet:\n",
    "    number += 1\n",
    "    print(i)\n",
    "    colourMap[i] = listOfColours[number]\n",
    "\n",
    "colourMap\n",
    "        "
   ]
  },
  {
   "cell_type": "code",
   "execution_count": 208,
   "metadata": {},
   "outputs": [
    {
     "name": "stdout",
     "output_type": "stream",
     "text": [
      "{(15, 17): [(18, 19), (17, 15), (9, 19), (14, 19), (14, 18), (15, 17), (14, 19)], (14, 15): [(1, 3), (2, 2), (3, 5), (2, 3), (3, 1), (3, 4), (3, 1), (3, 3), (4, 3), (5, 4), (5, 2), (8, 17), (9, 14), (16, 10), (11, 11), (9, 12), (9, 14), (10, 16), (10, 17), (11, 9), (12, 10), (13, 10), (12, 13), (13, 14), (14, 15), (11, 15), (12, 16), (14, 11)]}\n"
     ]
    }
   ],
   "source": [
    "def mapAllPointsToNearestK(setOfKs, setWithDataTuples):\n",
    "\n",
    "    # calculate distance from each point to all k points\n",
    "    dictWithMappingAllPointsToK = {}\n",
    "    for k in setOfKs:\n",
    "        dictWithMappingAllPointsToK[k] = []\n",
    "\n",
    "    for i in setWithDataTuples:\n",
    "        allDistancesFromOnePointToAllK = {}\n",
    "        for l in setOfKs:\n",
    "            allDistancesFromOnePointToAllK[l] = (getEuclideanDistance(i[0], i[1], l[0], l[1]))\n",
    "        # assign each point to the k-point which is closest\n",
    "        # für minimales k:\n",
    "        minK = min(allDistancesFromOnePointToAllK, key=allDistancesFromOnePointToAllK.get)\n",
    "        dictWithMappingAllPointsToK[minK].append(i)\n",
    "\n",
    "    return(dictWithMappingAllPointsToK)\n",
    "\n",
    "\n",
    "print(mapAllPointsToNearestK(kDataPointsInSet, mock_data))\n",
    "dictWithMappingAllPointsToK = mapAllPointsToNearestK(kDataPointsInSet, mock_data)"
   ]
  },
  {
   "cell_type": "code",
   "execution_count": 209,
   "metadata": {},
   "outputs": [
    {
     "data": {
      "text/plain": [
       "{(8.142857142857142, 9.107142857142858), (14.428571428571429, 18.0)}"
      ]
     },
     "execution_count": 209,
     "metadata": {},
     "output_type": "execute_result"
    }
   ],
   "source": [
    "def calcKNewMeans(dictWithMappingAllPointsToK):\n",
    "    newKPointsinSet = set()\n",
    "    for listWithPoints in dictWithMappingAllPointsToK.values():\n",
    "        newMeanXCoordinate = []\n",
    "        newMeanYCoordinate = []\n",
    "        for i in range(len(listWithPoints)):\n",
    "            newMeanXCoordinate.append(listWithPoints[i][0])\n",
    "            newMeanX = sum(newMeanXCoordinate)/len(newMeanXCoordinate)\n",
    "            newMeanYCoordinate.append(listWithPoints[i][1])\n",
    "            newMeanY = sum(newMeanYCoordinate)/len(newMeanYCoordinate)\n",
    "        newKPointsinSet.add((newMeanX, newMeanY,))\n",
    "    \n",
    "    return(newKPointsinSet)\n",
    "    \n",
    "\n",
    "\n",
    "calcKNewMeans(dictWithMappingAllPointsToK)"
   ]
  },
  {
   "cell_type": "code",
   "execution_count": 133,
   "metadata": {},
   "outputs": [
    {
     "name": "stdout",
     "output_type": "stream",
     "text": [
      "({(12.75, 11.0), (15.142857142857142, 17.428571428571427), (9.666666666666666, 15.555555555555555), (3.090909090909091, 2.8181818181818183)}, {(12.75, 11.0): [(16, 10), (11, 11), (11, 9), (12, 10), (13, 10), (12, 13), (13, 14), (14, 11)], (15.142857142857142, 17.428571428571427): [(18, 19), (17, 15), (14, 19), (14, 18), (15, 17), (14, 19), (14, 15)], (9.666666666666666, 15.555555555555555): [(8, 17), (9, 14), (9, 12), (9, 14), (9, 19), (10, 16), (10, 17), (11, 15), (12, 16)], (3.090909090909091, 2.8181818181818183): [(1, 3), (2, 2), (3, 5), (2, 3), (3, 1), (3, 4), (3, 1), (3, 3), (4, 3), (5, 4), (5, 2)]})\n"
     ]
    }
   ],
   "source": [
    "\n",
    "\n",
    "def kMeansClustering(setWithDataTuples, k):\n",
    "\n",
    "    # arbitrarily choose k objects from D as the initial cluster centres\n",
    "    kDataPointsInSet = defineRandomKStart(setWithDataTuples, k)\n",
    "\n",
    "    # assign each object to the cluster to which the object is most similar and update cluster means until no change\n",
    "    mappingOld = 1\n",
    "    mappingEnd = 0\n",
    "    while mappingOld != mappingEnd:\n",
    "        mappingOld = mapAllPointsToNearestK(kDataPointsInSet, setWithDataTuples)\n",
    "        kDataPointsInSet = calcKNewMeans(mappingOld)\n",
    "        mappingEnd = mapAllPointsToNearestK(kDataPointsInSet, setWithDataTuples)\n",
    "\n",
    "    return(kDataPointsInSet, mappingEnd)\n",
    "        \n",
    " \n",
    "\n",
    "\n",
    "\n",
    "# test\n",
    "print(kMeansClustering(mock_data, 4))\n",
    "clusterCentroids, clusterMemberships = kMeansClustering(mock_data, 4)\n"
   ]
  }
 ],
 "metadata": {
  "kernelspec": {
   "display_name": "base",
   "language": "python",
   "name": "python3"
  },
  "language_info": {
   "codemirror_mode": {
    "name": "ipython",
    "version": 3
   },
   "file_extension": ".py",
   "mimetype": "text/x-python",
   "name": "python",
   "nbconvert_exporter": "python",
   "pygments_lexer": "ipython3",
   "version": "3.11.5"
  }
 },
 "nbformat": 4,
 "nbformat_minor": 2
}
